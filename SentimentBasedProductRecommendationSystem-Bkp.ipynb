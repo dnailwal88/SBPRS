{
 "cells": [
  {
   "cell_type": "markdown",
   "id": "7d66969c",
   "metadata": {},
   "source": [
    "# Problem Statement"
   ]
  },
  {
   "cell_type": "markdown",
   "id": "ed79009b",
   "metadata": {},
   "source": [
    "Ebuss in an e-commerce company which has captured a huge market share in many fields, and it sells the products in various categories such as household essentials, books, personal care products, medicines, cosmetic items, beauty products, electrical appliances, kitchen and dining products and health care products.\n",
    "\n",
    "With the advancement in technology, it is imperative for Ebuss to grow quickly in the e-commerce market to become a major leader in the market because it has to compete with the likes of Amazon, Flipkart, etc., which are already market leaders.\n",
    "\n",
    "As a senior ML Engineer, we are asked to build a model that will improve the recommendations given to the users given their past reviews and ratings."
   ]
  },
  {
   "cell_type": "code",
   "execution_count": 17,
   "id": "fe97c30e",
   "metadata": {},
   "outputs": [],
   "source": [
    "import pandas as pd\n",
    "import numpy as np\n",
    "import matplotlib.pyplot as plt\n",
    "import seaborn as sns\n",
    "import re\n",
    "from collections import Counter"
   ]
  },
  {
   "cell_type": "code",
   "execution_count": 18,
   "id": "d248af6b",
   "metadata": {},
   "outputs": [
    {
     "name": "stderr",
     "output_type": "stream",
     "text": [
      "[nltk_data] Downloading package punkt to\n",
      "[nltk_data]     C:\\Users\\deepak\\AppData\\Roaming\\nltk_data...\n",
      "[nltk_data]   Package punkt is already up-to-date!\n"
     ]
    }
   ],
   "source": [
    "import nltk\n",
    "nltk.download('punkt')\n",
    "from nltk import FreqDist\n",
    "from nltk.tokenize import word_tokenize"
   ]
  },
  {
   "cell_type": "code",
   "execution_count": 19,
   "id": "b97b9f75",
   "metadata": {},
   "outputs": [],
   "source": [
    "from sklearn.feature_extraction.text import TfidfVectorizer\n",
    "from sklearn.model_selection import train_test_split, RandomizedSearchCV\n",
    "from sklearn.metrics import accuracy_score, precision_score, recall_score, f1_score, confusion_matrix, plot_confusion_matrix\n",
    "from sklearn.linear_model import LogisticRegression\n",
    "from sklearn.ensemble import RandomForestClassifier\n",
    "from sklearn.naive_bayes import MultinomialNB\n",
    "from sklearn.preprocessing import MinMaxScaler"
   ]
  },
  {
   "cell_type": "code",
   "execution_count": 20,
   "id": "1b148a96",
   "metadata": {},
   "outputs": [],
   "source": [
    "from wordcloud import WordCloud\n",
    "import swifter\n",
    "from imblearn.over_sampling import SMOTE\n",
    "from xgboost import XGBClassifier\n",
    "import pickle"
   ]
  },
  {
   "cell_type": "code",
   "execution_count": 21,
   "id": "408c32da",
   "metadata": {},
   "outputs": [],
   "source": [
    "import spacy\n",
    "#!python -m spacy download en_core_web_sm\n",
    "nlp = spacy.load(\"en_core_web_sm\")"
   ]
  },
  {
   "cell_type": "code",
   "execution_count": 22,
   "id": "344e9029",
   "metadata": {},
   "outputs": [],
   "source": [
    "from sklearn.metrics.pairwise import pairwise_distances"
   ]
  },
  {
   "cell_type": "markdown",
   "id": "5755710f",
   "metadata": {},
   "source": [
    "### Data sourcing and understanding"
   ]
  },
  {
   "cell_type": "code",
   "execution_count": 23,
   "id": "32e6bae3",
   "metadata": {},
   "outputs": [
    {
     "data": {
      "text/html": [
       "<div>\n",
       "<style scoped>\n",
       "    .dataframe tbody tr th:only-of-type {\n",
       "        vertical-align: middle;\n",
       "    }\n",
       "\n",
       "    .dataframe tbody tr th {\n",
       "        vertical-align: top;\n",
       "    }\n",
       "\n",
       "    .dataframe thead th {\n",
       "        text-align: right;\n",
       "    }\n",
       "</style>\n",
       "<table border=\"1\" class=\"dataframe\">\n",
       "  <thead>\n",
       "    <tr style=\"text-align: right;\">\n",
       "      <th></th>\n",
       "      <th>id</th>\n",
       "      <th>brand</th>\n",
       "      <th>categories</th>\n",
       "      <th>manufacturer</th>\n",
       "      <th>name</th>\n",
       "      <th>reviews_date</th>\n",
       "      <th>reviews_didPurchase</th>\n",
       "      <th>reviews_doRecommend</th>\n",
       "      <th>reviews_rating</th>\n",
       "      <th>reviews_text</th>\n",
       "      <th>reviews_title</th>\n",
       "      <th>reviews_userCity</th>\n",
       "      <th>reviews_userProvince</th>\n",
       "      <th>reviews_username</th>\n",
       "      <th>user_sentiment</th>\n",
       "    </tr>\n",
       "  </thead>\n",
       "  <tbody>\n",
       "    <tr>\n",
       "      <th>0</th>\n",
       "      <td>AV13O1A8GV-KLJ3akUyj</td>\n",
       "      <td>Universal Music</td>\n",
       "      <td>Movies, Music &amp; Books,Music,R&amp;b,Movies &amp; TV,Mo...</td>\n",
       "      <td>Universal Music Group / Cash Money</td>\n",
       "      <td>Pink Friday: Roman Reloaded Re-Up (w/dvd)</td>\n",
       "      <td>2012-11-30T06:21:45.000Z</td>\n",
       "      <td>NaN</td>\n",
       "      <td>NaN</td>\n",
       "      <td>5</td>\n",
       "      <td>i love this album. it's very good. more to the...</td>\n",
       "      <td>Just Awesome</td>\n",
       "      <td>Los Angeles</td>\n",
       "      <td>NaN</td>\n",
       "      <td>joshua</td>\n",
       "      <td>Positive</td>\n",
       "    </tr>\n",
       "    <tr>\n",
       "      <th>1</th>\n",
       "      <td>AV14LG0R-jtxr-f38QfS</td>\n",
       "      <td>Lundberg</td>\n",
       "      <td>Food,Packaged Foods,Snacks,Crackers,Snacks, Co...</td>\n",
       "      <td>Lundberg</td>\n",
       "      <td>Lundberg Organic Cinnamon Toast Rice Cakes</td>\n",
       "      <td>2017-07-09T00:00:00.000Z</td>\n",
       "      <td>True</td>\n",
       "      <td>NaN</td>\n",
       "      <td>5</td>\n",
       "      <td>Good flavor. This review was collected as part...</td>\n",
       "      <td>Good</td>\n",
       "      <td>NaN</td>\n",
       "      <td>NaN</td>\n",
       "      <td>dorothy w</td>\n",
       "      <td>Positive</td>\n",
       "    </tr>\n",
       "    <tr>\n",
       "      <th>2</th>\n",
       "      <td>AV14LG0R-jtxr-f38QfS</td>\n",
       "      <td>Lundberg</td>\n",
       "      <td>Food,Packaged Foods,Snacks,Crackers,Snacks, Co...</td>\n",
       "      <td>Lundberg</td>\n",
       "      <td>Lundberg Organic Cinnamon Toast Rice Cakes</td>\n",
       "      <td>2017-07-09T00:00:00.000Z</td>\n",
       "      <td>True</td>\n",
       "      <td>NaN</td>\n",
       "      <td>5</td>\n",
       "      <td>Good flavor.</td>\n",
       "      <td>Good</td>\n",
       "      <td>NaN</td>\n",
       "      <td>NaN</td>\n",
       "      <td>dorothy w</td>\n",
       "      <td>Positive</td>\n",
       "    </tr>\n",
       "    <tr>\n",
       "      <th>3</th>\n",
       "      <td>AV16khLE-jtxr-f38VFn</td>\n",
       "      <td>K-Y</td>\n",
       "      <td>Personal Care,Medicine Cabinet,Lubricant/Sperm...</td>\n",
       "      <td>K-Y</td>\n",
       "      <td>K-Y Love Sensuality Pleasure Gel</td>\n",
       "      <td>2016-01-06T00:00:00.000Z</td>\n",
       "      <td>False</td>\n",
       "      <td>False</td>\n",
       "      <td>1</td>\n",
       "      <td>I read through the reviews on here before look...</td>\n",
       "      <td>Disappointed</td>\n",
       "      <td>NaN</td>\n",
       "      <td>NaN</td>\n",
       "      <td>rebecca</td>\n",
       "      <td>Negative</td>\n",
       "    </tr>\n",
       "    <tr>\n",
       "      <th>4</th>\n",
       "      <td>AV16khLE-jtxr-f38VFn</td>\n",
       "      <td>K-Y</td>\n",
       "      <td>Personal Care,Medicine Cabinet,Lubricant/Sperm...</td>\n",
       "      <td>K-Y</td>\n",
       "      <td>K-Y Love Sensuality Pleasure Gel</td>\n",
       "      <td>2016-12-21T00:00:00.000Z</td>\n",
       "      <td>False</td>\n",
       "      <td>False</td>\n",
       "      <td>1</td>\n",
       "      <td>My husband bought this gel for us. The gel cau...</td>\n",
       "      <td>Irritation</td>\n",
       "      <td>NaN</td>\n",
       "      <td>NaN</td>\n",
       "      <td>walker557</td>\n",
       "      <td>Negative</td>\n",
       "    </tr>\n",
       "  </tbody>\n",
       "</table>\n",
       "</div>"
      ],
      "text/plain": [
       "                     id            brand  \\\n",
       "0  AV13O1A8GV-KLJ3akUyj  Universal Music   \n",
       "1  AV14LG0R-jtxr-f38QfS         Lundberg   \n",
       "2  AV14LG0R-jtxr-f38QfS         Lundberg   \n",
       "3  AV16khLE-jtxr-f38VFn              K-Y   \n",
       "4  AV16khLE-jtxr-f38VFn              K-Y   \n",
       "\n",
       "                                          categories  \\\n",
       "0  Movies, Music & Books,Music,R&b,Movies & TV,Mo...   \n",
       "1  Food,Packaged Foods,Snacks,Crackers,Snacks, Co...   \n",
       "2  Food,Packaged Foods,Snacks,Crackers,Snacks, Co...   \n",
       "3  Personal Care,Medicine Cabinet,Lubricant/Sperm...   \n",
       "4  Personal Care,Medicine Cabinet,Lubricant/Sperm...   \n",
       "\n",
       "                         manufacturer  \\\n",
       "0  Universal Music Group / Cash Money   \n",
       "1                            Lundberg   \n",
       "2                            Lundberg   \n",
       "3                                 K-Y   \n",
       "4                                 K-Y   \n",
       "\n",
       "                                         name              reviews_date  \\\n",
       "0   Pink Friday: Roman Reloaded Re-Up (w/dvd)  2012-11-30T06:21:45.000Z   \n",
       "1  Lundberg Organic Cinnamon Toast Rice Cakes  2017-07-09T00:00:00.000Z   \n",
       "2  Lundberg Organic Cinnamon Toast Rice Cakes  2017-07-09T00:00:00.000Z   \n",
       "3            K-Y Love Sensuality Pleasure Gel  2016-01-06T00:00:00.000Z   \n",
       "4            K-Y Love Sensuality Pleasure Gel  2016-12-21T00:00:00.000Z   \n",
       "\n",
       "  reviews_didPurchase reviews_doRecommend  reviews_rating  \\\n",
       "0                 NaN                 NaN               5   \n",
       "1                True                 NaN               5   \n",
       "2                True                 NaN               5   \n",
       "3               False               False               1   \n",
       "4               False               False               1   \n",
       "\n",
       "                                        reviews_text reviews_title  \\\n",
       "0  i love this album. it's very good. more to the...  Just Awesome   \n",
       "1  Good flavor. This review was collected as part...          Good   \n",
       "2                                       Good flavor.          Good   \n",
       "3  I read through the reviews on here before look...  Disappointed   \n",
       "4  My husband bought this gel for us. The gel cau...    Irritation   \n",
       "\n",
       "  reviews_userCity reviews_userProvince reviews_username user_sentiment  \n",
       "0      Los Angeles                  NaN           joshua       Positive  \n",
       "1              NaN                  NaN        dorothy w       Positive  \n",
       "2              NaN                  NaN        dorothy w       Positive  \n",
       "3              NaN                  NaN          rebecca       Negative  \n",
       "4              NaN                  NaN        walker557       Negative  "
      ]
     },
     "execution_count": 23,
     "metadata": {},
     "output_type": "execute_result"
    }
   ],
   "source": [
    "dfreviews=pd.read_csv('data/sample30.csv')\n",
    "dfreviews.head()"
   ]
  },
  {
   "cell_type": "code",
   "execution_count": 24,
   "id": "e13a521e",
   "metadata": {},
   "outputs": [
    {
     "name": "stdout",
     "output_type": "stream",
     "text": [
      "<class 'pandas.core.frame.DataFrame'>\n",
      "RangeIndex: 30000 entries, 0 to 29999\n",
      "Data columns (total 15 columns):\n",
      " #   Column                Non-Null Count  Dtype \n",
      "---  ------                --------------  ----- \n",
      " 0   id                    30000 non-null  object\n",
      " 1   brand                 30000 non-null  object\n",
      " 2   categories            30000 non-null  object\n",
      " 3   manufacturer          29859 non-null  object\n",
      " 4   name                  30000 non-null  object\n",
      " 5   reviews_date          29954 non-null  object\n",
      " 6   reviews_didPurchase   15932 non-null  object\n",
      " 7   reviews_doRecommend   27430 non-null  object\n",
      " 8   reviews_rating        30000 non-null  int64 \n",
      " 9   reviews_text          30000 non-null  object\n",
      " 10  reviews_title         29810 non-null  object\n",
      " 11  reviews_userCity      1929 non-null   object\n",
      " 12  reviews_userProvince  170 non-null    object\n",
      " 13  reviews_username      29937 non-null  object\n",
      " 14  user_sentiment        29999 non-null  object\n",
      "dtypes: int64(1), object(14)\n",
      "memory usage: 3.4+ MB\n"
     ]
    }
   ],
   "source": [
    "dfreviews.info()"
   ]
  },
  {
   "cell_type": "code",
   "execution_count": 25,
   "id": "bbd3f317",
   "metadata": {},
   "outputs": [
    {
     "data": {
      "text/plain": [
       "id                          0\n",
       "brand                       0\n",
       "categories                  0\n",
       "manufacturer              141\n",
       "name                        0\n",
       "reviews_date               46\n",
       "reviews_didPurchase     14068\n",
       "reviews_doRecommend      2570\n",
       "reviews_rating              0\n",
       "reviews_text                0\n",
       "reviews_title             190\n",
       "reviews_userCity        28071\n",
       "reviews_userProvince    29830\n",
       "reviews_username           63\n",
       "user_sentiment              1\n",
       "dtype: int64"
      ]
     },
     "execution_count": 25,
     "metadata": {},
     "output_type": "execute_result"
    }
   ],
   "source": [
    "dfreviews.isnull().sum()"
   ]
  },
  {
   "cell_type": "code",
   "execution_count": 26,
   "id": "3b66de09",
   "metadata": {},
   "outputs": [
    {
     "data": {
      "text/html": [
       "<div>\n",
       "<style scoped>\n",
       "    .dataframe tbody tr th:only-of-type {\n",
       "        vertical-align: middle;\n",
       "    }\n",
       "\n",
       "    .dataframe tbody tr th {\n",
       "        vertical-align: top;\n",
       "    }\n",
       "\n",
       "    .dataframe thead th {\n",
       "        text-align: right;\n",
       "    }\n",
       "</style>\n",
       "<table border=\"1\" class=\"dataframe\">\n",
       "  <thead>\n",
       "    <tr style=\"text-align: right;\">\n",
       "      <th></th>\n",
       "      <th>reviews_rating</th>\n",
       "    </tr>\n",
       "  </thead>\n",
       "  <tbody>\n",
       "    <tr>\n",
       "      <th>count</th>\n",
       "      <td>30000.000000</td>\n",
       "    </tr>\n",
       "    <tr>\n",
       "      <th>mean</th>\n",
       "      <td>4.483133</td>\n",
       "    </tr>\n",
       "    <tr>\n",
       "      <th>std</th>\n",
       "      <td>0.988441</td>\n",
       "    </tr>\n",
       "    <tr>\n",
       "      <th>min</th>\n",
       "      <td>1.000000</td>\n",
       "    </tr>\n",
       "    <tr>\n",
       "      <th>25%</th>\n",
       "      <td>4.000000</td>\n",
       "    </tr>\n",
       "    <tr>\n",
       "      <th>50%</th>\n",
       "      <td>5.000000</td>\n",
       "    </tr>\n",
       "    <tr>\n",
       "      <th>75%</th>\n",
       "      <td>5.000000</td>\n",
       "    </tr>\n",
       "    <tr>\n",
       "      <th>max</th>\n",
       "      <td>5.000000</td>\n",
       "    </tr>\n",
       "  </tbody>\n",
       "</table>\n",
       "</div>"
      ],
      "text/plain": [
       "       reviews_rating\n",
       "count    30000.000000\n",
       "mean         4.483133\n",
       "std          0.988441\n",
       "min          1.000000\n",
       "25%          4.000000\n",
       "50%          5.000000\n",
       "75%          5.000000\n",
       "max          5.000000"
      ]
     },
     "execution_count": 26,
     "metadata": {},
     "output_type": "execute_result"
    }
   ],
   "source": [
    "dfreviews.describe()"
   ]
  },
  {
   "cell_type": "markdown",
   "id": "544cd618",
   "metadata": {},
   "source": [
    "### Exploratory Data Analysis"
   ]
  },
  {
   "cell_type": "code",
   "execution_count": 27,
   "id": "6c66b688",
   "metadata": {},
   "outputs": [
    {
     "data": {
      "text/plain": [
       "Clorox                   10585\n",
       "Warner Home Video         3325\n",
       "Disney                    1200\n",
       "L'oreal Paris             1186\n",
       "FOX                        887\n",
       "                         ...  \n",
       "Pacific Natural Foods        1\n",
       "Noosa                        1\n",
       "Southern Enterprises         1\n",
       "SLOAN VALVE COMPANY          1\n",
       "Universal Music              1\n",
       "Name: brand, Length: 214, dtype: int64"
      ]
     },
     "execution_count": 27,
     "metadata": {},
     "output_type": "execute_result"
    }
   ],
   "source": [
    "dfreviews.brand.value_counts()"
   ]
  },
  {
   "cell_type": "code",
   "execution_count": 28,
   "id": "82a1129a",
   "metadata": {},
   "outputs": [
    {
     "data": {
      "text/plain": [
       "Clorox                                8546\n",
       "Test                                  3325\n",
       "AmazonUs/CLOO7                        2039\n",
       "L'oreal Paris                         1232\n",
       "Walt Disney                           1143\n",
       "                                      ... \n",
       "Pacific Foods of Oregon, Inc.            1\n",
       "Unfi                                     1\n",
       "Herr's                                   1\n",
       "Southern Enterprises                     1\n",
       "Universal Music Group / Cash Money       1\n",
       "Name: manufacturer, Length: 227, dtype: int64"
      ]
     },
     "execution_count": 28,
     "metadata": {},
     "output_type": "execute_result"
    }
   ],
   "source": [
    "dfreviews.manufacturer.value_counts()"
   ]
  },
  {
   "cell_type": "code",
   "execution_count": 29,
   "id": "16981e92",
   "metadata": {},
   "outputs": [
    {
     "data": {
      "text/plain": [
       "Clorox Disinfecting Wipes Value Pack Scented 150 Ct Total                         8545\n",
       "Godzilla 3d Includes Digital Copy Ultraviolet 3d/2d Blu-Ray/dvd                   3325\n",
       "Clorox Disinfecting Bathroom Cleaner                                              2039\n",
       "L'or233al Paris Elvive Extraordinary Clay Rebalancing Conditioner - 12.6 Fl Oz    1186\n",
       "Planes: Fire Rescue (2 Discs) (includes Digital Copy) (blu-Ray/dvd)               1143\n",
       "                                                                                  ... \n",
       "5302050 15/16 FCT/HOSE ADAPTOR                                                       1\n",
       "Clorox Ultimate Care Premium Bleach                                                  1\n",
       "Pocket Watch Wall Clock Distressed Black - Yosemite Home Decor174                    1\n",
       "Stonyfield Yobaby Peach & Pear Yogurt 4oz 6 Ct                                       1\n",
       "Pink Friday: Roman Reloaded Re-Up (w/dvd)                                            1\n",
       "Name: name, Length: 271, dtype: int64"
      ]
     },
     "execution_count": 29,
     "metadata": {},
     "output_type": "execute_result"
    }
   ],
   "source": [
    "dfreviews.name.value_counts()"
   ]
  },
  {
   "cell_type": "code",
   "execution_count": 30,
   "id": "814c48eb",
   "metadata": {},
   "outputs": [
    {
     "data": {
      "text/plain": [
       "<AxesSubplot:xlabel='reviews_didPurchase', ylabel='count'>"
      ]
     },
     "execution_count": 30,
     "metadata": {},
     "output_type": "execute_result"
    },
    {
     "data": {
      "image/png": "[encoded data removed]",
      "text/plain": [
       "<Figure size 432x288 with 1 Axes>"
      ]
     },
     "metadata": {
      "needs_background": "light"
     },
     "output_type": "display_data"
    }
   ],
   "source": [
    "sns.countplot(data=dfreviews,x='reviews_didPurchase')"
   ]
  },
  {
   "cell_type": "code",
   "execution_count": 31,
   "id": "3c099d1a",
   "metadata": {},
   "outputs": [
    {
     "data": {
      "text/plain": [
       "<AxesSubplot:xlabel='reviews_doRecommend', ylabel='count'>"
      ]
     },
     "execution_count": 31,
     "metadata": {},
     "output_type": "execute_result"
    },
    {
     "data": {
      "image/png": "[encoded data removed]",
      "text/plain": [
       "<Figure size 432x288 with 1 Axes>"
      ]
     },
     "metadata": {
      "needs_background": "light"
     },
     "output_type": "display_data"
    }
   ],
   "source": [
    "sns.countplot(data=dfreviews,x='reviews_doRecommend')"
   ]
  },
  {
   "cell_type": "code",
   "execution_count": 32,
   "id": "f16c36e6",
   "metadata": {},
   "outputs": [
    {
     "data": {
      "text/plain": [
       "<AxesSubplot:xlabel='reviews_rating', ylabel='count'>"
      ]
     },
     "execution_count": 32,
     "metadata": {},
     "output_type": "execute_result"
    },
    {
     "data": {
      "image/png": "[encoded data removed]",
      "text/plain": [
       "<Figure size 432x288 with 1 Axes>"
      ]
     },
     "metadata": {
      "needs_background": "light"
     },
     "output_type": "display_data"
    }
   ],
   "source": [
    "sns.countplot(data=dfreviews,x='reviews_rating')"
   ]
  },
  {
   "cell_type": "code",
   "execution_count": 33,
   "id": "561d391e",
   "metadata": {},
   "outputs": [
    {
     "data": {
      "text/plain": [
       "Great Product                       384\n",
       "Great movie                         361\n",
       "Clorox Wipes                        278\n",
       "Great                               221\n",
       "Great product                       205\n",
       "                                   ... \n",
       "Keeping them healthy!                 1\n",
       "Fighting Power                        1\n",
       "great all together                    1\n",
       "Great Product and Easy to Use...      1\n",
       "Conditioned into healthy              1\n",
       "Name: reviews_title, Length: 18535, dtype: int64"
      ]
     },
     "execution_count": 33,
     "metadata": {},
     "output_type": "execute_result"
    }
   ],
   "source": [
    "dfreviews.reviews_title.value_counts()"
   ]
  },
  {
   "cell_type": "code",
   "execution_count": 34,
   "id": "3bf03952",
   "metadata": {},
   "outputs": [
    {
     "data": {
      "text/plain": [
       "mike                 41\n",
       "byamazon customer    41\n",
       "chris                32\n",
       "lisa                 16\n",
       "sandy                15\n",
       "                     ..\n",
       "nurse32               1\n",
       "lisa62                1\n",
       "bigal515              1\n",
       "mom271                1\n",
       "kcoopxoxo             1\n",
       "Name: reviews_username, Length: 24914, dtype: int64"
      ]
     },
     "execution_count": 34,
     "metadata": {},
     "output_type": "execute_result"
    }
   ],
   "source": [
    "dfreviews.reviews_username.value_counts()"
   ]
  },
  {
   "cell_type": "code",
   "execution_count": 35,
   "id": "e5a43963",
   "metadata": {},
   "outputs": [
    {
     "data": {
      "text/plain": [
       "array(['Positive', 'Negative', nan], dtype=object)"
      ]
     },
     "execution_count": 35,
     "metadata": {},
     "output_type": "execute_result"
    }
   ],
   "source": [
    "dfreviews.user_sentiment.unique()"
   ]
  },
  {
   "cell_type": "code",
   "execution_count": 36,
   "id": "c8531ca3",
   "metadata": {},
   "outputs": [
    {
     "data": {
      "text/plain": [
       "<AxesSubplot:xlabel='user_sentiment', ylabel='count'>"
      ]
     },
     "execution_count": 36,
     "metadata": {},
     "output_type": "execute_result"
    },
    {
     "data": {
      "image/png": "[encoded data removed]",
      "text/plain": [
       "<Figure size 432x288 with 1 Axes>"
      ]
     },
     "metadata": {
      "needs_background": "light"
     },
     "output_type": "display_data"
    }
   ],
   "source": [
    "sns.countplot(data=dfreviews,x='user_sentiment')"
   ]
  },
  {
   "cell_type": "code",
   "execution_count": 37,
   "id": "c4a8aaec",
   "metadata": {},
   "outputs": [
    {
     "data": {
      "text/plain": [
       "<AxesSubplot:xlabel='reviews_rating', ylabel='percentage'>"
      ]
     },
     "execution_count": 37,
     "metadata": {},
     "output_type": "execute_result"
    },
    {
     "data": {
      "image/png": "[encoded data removed]",
      "text/plain": [
       "<Figure size 432x288 with 1 Axes>"
      ]
     },
     "metadata": {
      "needs_background": "light"
     },
     "output_type": "display_data"
    }
   ],
   "source": [
    "# Ratings distribution for each user sentiment\n",
    "dfreviews_per_sent=((dfreviews.groupby(['user_sentiment','reviews_rating'])['id'].count()/dfreviews.groupby(['user_sentiment'])['reviews_rating'].count())*100).rename('percentage').reset_index()\n",
    "sns.barplot(data=dfreviews_per_sent,x='reviews_rating',y='percentage',hue='user_sentiment')"
   ]
  },
  {
   "cell_type": "code",
   "execution_count": 38,
   "id": "b181919a",
   "metadata": {},
   "outputs": [
    {
     "data": {
      "text/plain": [
       "count    30000.000000\n",
       "mean       183.056967\n",
       "std        186.054147\n",
       "min          2.000000\n",
       "25%         83.000000\n",
       "50%        131.000000\n",
       "75%        217.000000\n",
       "max       5865.000000\n",
       "Name: reviews_text, dtype: float64"
      ]
     },
     "execution_count": 38,
     "metadata": {},
     "output_type": "execute_result"
    }
   ],
   "source": [
    "# review text length\n",
    "dfreviews.reviews_text.str.len().describe()"
   ]
  },
  {
   "cell_type": "code",
   "execution_count": 39,
   "id": "4fc59b6f",
   "metadata": {},
   "outputs": [
    {
     "data": {
      "text/plain": [
       "<AxesSubplot:xlabel='reviews_text', ylabel='Density'>"
      ]
     },
     "execution_count": 39,
     "metadata": {},
     "output_type": "execute_result"
    },
    {
     "data": {
      "image/png": "[encoded data removed]",
      "text/plain": [
       "<Figure size 432x288 with 1 Axes>"
      ]
     },
     "metadata": {
      "needs_background": "light"
     },
     "output_type": "display_data"
    }
   ],
   "source": [
    "# review text length distribution\n",
    "sns.distplot(dfreviews.reviews_text.str.len())"
   ]
  },
  {
   "cell_type": "markdown",
   "id": "ae3b7545",
   "metadata": {},
   "source": [
    "### Data Cleaning"
   ]
  },
  {
   "cell_type": "code",
   "execution_count": 40,
   "id": "d83d123c",
   "metadata": {},
   "outputs": [
    {
     "data": {
      "text/plain": [
       "array([ 1.,  0., nan])"
      ]
     },
     "execution_count": 40,
     "metadata": {},
     "output_type": "execute_result"
    }
   ],
   "source": [
    "# Map the user sentiment to a numerical value\n",
    "dfreviews['user_sentiment']=dfreviews['user_sentiment'].map({'Positive':1,'Negative':0})\n",
    "dfreviews.user_sentiment.unique()"
   ]
  },
  {
   "cell_type": "code",
   "execution_count": 41,
   "id": "5461e3ab",
   "metadata": {},
   "outputs": [],
   "source": [
    "# Combine the review title with the text\n",
    "dfreviews['reviews_title_plus_text']=dfreviews['reviews_title'].fillna('')+'. '+dfreviews['reviews_text']"
   ]
  },
  {
   "cell_type": "code",
   "execution_count": 42,
   "id": "5d881bc1",
   "metadata": {},
   "outputs": [],
   "source": [
    "# Use columns which are relevant for sentiment analysis\n",
    "dfSentiment=dfreviews[['id','name','reviews_title_plus_text','user_sentiment']]"
   ]
  },
  {
   "cell_type": "code",
   "execution_count": 43,
   "id": "1b07968c",
   "metadata": {},
   "outputs": [
    {
     "data": {
      "text/plain": [
       "(29999, 4)"
      ]
     },
     "execution_count": 43,
     "metadata": {},
     "output_type": "execute_result"
    }
   ],
   "source": [
    "# Remove rows where the user sentiment is not available\n",
    "dfSentiment=dfSentiment[~dfSentiment.user_sentiment.isnull()].reset_index(drop=True)\n",
    "dfSentiment.shape"
   ]
  },
  {
   "cell_type": "code",
   "execution_count": 44,
   "id": "2b39525f",
   "metadata": {},
   "outputs": [
    {
     "data": {
      "text/html": [
       "<div>\n",
       "<style scoped>\n",
       "    .dataframe tbody tr th:only-of-type {\n",
       "        vertical-align: middle;\n",
       "    }\n",
       "\n",
       "    .dataframe tbody tr th {\n",
       "        vertical-align: top;\n",
       "    }\n",
       "\n",
       "    .dataframe thead th {\n",
       "        text-align: right;\n",
       "    }\n",
       "</style>\n",
       "<table border=\"1\" class=\"dataframe\">\n",
       "  <thead>\n",
       "    <tr style=\"text-align: right;\">\n",
       "      <th></th>\n",
       "      <th>id</th>\n",
       "      <th>name</th>\n",
       "      <th>reviews_title_plus_text</th>\n",
       "      <th>user_sentiment</th>\n",
       "    </tr>\n",
       "  </thead>\n",
       "  <tbody>\n",
       "    <tr>\n",
       "      <th>0</th>\n",
       "      <td>AV13O1A8GV-KLJ3akUyj</td>\n",
       "      <td>Pink Friday: Roman Reloaded Re-Up (w/dvd)</td>\n",
       "      <td>Just Awesome. i love this album. it's very goo...</td>\n",
       "      <td>1.0</td>\n",
       "    </tr>\n",
       "    <tr>\n",
       "      <th>1</th>\n",
       "      <td>AV14LG0R-jtxr-f38QfS</td>\n",
       "      <td>Lundberg Organic Cinnamon Toast Rice Cakes</td>\n",
       "      <td>Good. Good flavor. This review was collected a...</td>\n",
       "      <td>1.0</td>\n",
       "    </tr>\n",
       "    <tr>\n",
       "      <th>2</th>\n",
       "      <td>AV14LG0R-jtxr-f38QfS</td>\n",
       "      <td>Lundberg Organic Cinnamon Toast Rice Cakes</td>\n",
       "      <td>Good. Good flavor.</td>\n",
       "      <td>1.0</td>\n",
       "    </tr>\n",
       "    <tr>\n",
       "      <th>3</th>\n",
       "      <td>AV16khLE-jtxr-f38VFn</td>\n",
       "      <td>K-Y Love Sensuality Pleasure Gel</td>\n",
       "      <td>Disappointed. I read through the reviews on he...</td>\n",
       "      <td>0.0</td>\n",
       "    </tr>\n",
       "    <tr>\n",
       "      <th>4</th>\n",
       "      <td>AV16khLE-jtxr-f38VFn</td>\n",
       "      <td>K-Y Love Sensuality Pleasure Gel</td>\n",
       "      <td>Irritation. My husband bought this gel for us....</td>\n",
       "      <td>0.0</td>\n",
       "    </tr>\n",
       "  </tbody>\n",
       "</table>\n",
       "</div>"
      ],
      "text/plain": [
       "                     id                                        name  \\\n",
       "0  AV13O1A8GV-KLJ3akUyj   Pink Friday: Roman Reloaded Re-Up (w/dvd)   \n",
       "1  AV14LG0R-jtxr-f38QfS  Lundberg Organic Cinnamon Toast Rice Cakes   \n",
       "2  AV14LG0R-jtxr-f38QfS  Lundberg Organic Cinnamon Toast Rice Cakes   \n",
       "3  AV16khLE-jtxr-f38VFn            K-Y Love Sensuality Pleasure Gel   \n",
       "4  AV16khLE-jtxr-f38VFn            K-Y Love Sensuality Pleasure Gel   \n",
       "\n",
       "                             reviews_title_plus_text  user_sentiment  \n",
       "0  Just Awesome. i love this album. it's very goo...             1.0  \n",
       "1  Good. Good flavor. This review was collected a...             1.0  \n",
       "2                                 Good. Good flavor.             1.0  \n",
       "3  Disappointed. I read through the reviews on he...             0.0  \n",
       "4  Irritation. My husband bought this gel for us....             0.0  "
      ]
     },
     "execution_count": 44,
     "metadata": {},
     "output_type": "execute_result"
    }
   ],
   "source": [
    "dfSentiment.head()"
   ]
  },
  {
   "cell_type": "markdown",
   "id": "14e66b31",
   "metadata": {},
   "source": [
    "### Text Processing"
   ]
  },
  {
   "cell_type": "code",
   "execution_count": 45,
   "id": "16478bf9",
   "metadata": {},
   "outputs": [],
   "source": [
    "# Function to clean the text and remove all the unnecessary elements.\n",
    "def pre_process(text):\n",
    "    text=text.lower() # text to lower-case\n",
    "    text=text.strip() # remove leading and trailing spaces\n",
    "    text=re.sub('[^\\w\\s]','',text) # remove punctutations\n",
    "    return text"
   ]
  },
  {
   "cell_type": "code",
   "execution_count": 46,
   "id": "09a995c3",
   "metadata": {},
   "outputs": [],
   "source": [
    "# Function to lemmatize the text\n",
    "def apply_lemma(pre_processed_text):\n",
    "    t=[]\n",
    "    doc=nlp(pre_processed_text)\n",
    "    for token in doc:\n",
    "        if token.is_stop==False:\n",
    "            #print(token.lemma_)\n",
    "            t.append(token.lemma_)\n",
    "    processed_text=' '.join(t)\n",
    "    return processed_text"
   ]
  },
  {
   "cell_type": "code",
   "execution_count": 47,
   "id": "96371fe2",
   "metadata": {},
   "outputs": [
    {
     "data": {
      "application/vnd.jupyter.widget-view+json": {
       "model_id": "f30bac9546474be990b815590884b1f7",
       "version_major": 2,
       "version_minor": 0
      },
      "text/plain": [
       "Pandas Apply:   0%|          | 0/29999 [00:00<?, ?it/s]"
      ]
     },
     "metadata": {},
     "output_type": "display_data"
    },
    {
     "data": {
      "application/vnd.jupyter.widget-view+json": {
       "model_id": "e699d8d443534897937dda0cd96a1cb5",
       "version_major": 2,
       "version_minor": 0
      },
      "text/plain": [
       "Pandas Apply:   0%|          | 0/29999 [00:00<?, ?it/s]"
      ]
     },
     "metadata": {},
     "output_type": "display_data"
    }
   ],
   "source": [
    "# create a column which has cleaned and lemmatized review text \n",
    "dfSentiment['reviews_processed']=dfSentiment.reviews_title_plus_text.swifter.apply(pre_process)\n",
    "dfSentiment['reviews_processed']=dfSentiment.reviews_processed.swifter.apply(apply_lemma)"
   ]
  },
  {
   "cell_type": "code",
   "execution_count": 48,
   "id": "57375c72",
   "metadata": {},
   "outputs": [
    {
     "data": {
      "text/html": [
       "<div>\n",
       "<style scoped>\n",
       "    .dataframe tbody tr th:only-of-type {\n",
       "        vertical-align: middle;\n",
       "    }\n",
       "\n",
       "    .dataframe tbody tr th {\n",
       "        vertical-align: top;\n",
       "    }\n",
       "\n",
       "    .dataframe thead th {\n",
       "        text-align: right;\n",
       "    }\n",
       "</style>\n",
       "<table border=\"1\" class=\"dataframe\">\n",
       "  <thead>\n",
       "    <tr style=\"text-align: right;\">\n",
       "      <th></th>\n",
       "      <th>id</th>\n",
       "      <th>name</th>\n",
       "      <th>reviews_title_plus_text</th>\n",
       "      <th>user_sentiment</th>\n",
       "      <th>reviews_processed</th>\n",
       "    </tr>\n",
       "  </thead>\n",
       "  <tbody>\n",
       "    <tr>\n",
       "      <th>0</th>\n",
       "      <td>AV13O1A8GV-KLJ3akUyj</td>\n",
       "      <td>Pink Friday: Roman Reloaded Re-Up (w/dvd)</td>\n",
       "      <td>Just Awesome. i love this album. it's very goo...</td>\n",
       "      <td>1.0</td>\n",
       "      <td>awesome love album good hip hop current pop so...</td>\n",
       "    </tr>\n",
       "    <tr>\n",
       "      <th>1</th>\n",
       "      <td>AV14LG0R-jtxr-f38QfS</td>\n",
       "      <td>Lundberg Organic Cinnamon Toast Rice Cakes</td>\n",
       "      <td>Good. Good flavor. This review was collected a...</td>\n",
       "      <td>1.0</td>\n",
       "      <td>good good flavor review collect promotion</td>\n",
       "    </tr>\n",
       "    <tr>\n",
       "      <th>2</th>\n",
       "      <td>AV14LG0R-jtxr-f38QfS</td>\n",
       "      <td>Lundberg Organic Cinnamon Toast Rice Cakes</td>\n",
       "      <td>Good. Good flavor.</td>\n",
       "      <td>1.0</td>\n",
       "      <td>good good flavor</td>\n",
       "    </tr>\n",
       "    <tr>\n",
       "      <th>3</th>\n",
       "      <td>AV16khLE-jtxr-f38VFn</td>\n",
       "      <td>K-Y Love Sensuality Pleasure Gel</td>\n",
       "      <td>Disappointed. I read through the reviews on he...</td>\n",
       "      <td>0.0</td>\n",
       "      <td>disappointed read review look buy couple lubri...</td>\n",
       "    </tr>\n",
       "    <tr>\n",
       "      <th>4</th>\n",
       "      <td>AV16khLE-jtxr-f38VFn</td>\n",
       "      <td>K-Y Love Sensuality Pleasure Gel</td>\n",
       "      <td>Irritation. My husband bought this gel for us....</td>\n",
       "      <td>0.0</td>\n",
       "      <td>irritation husband buy gel gel cause irritatio...</td>\n",
       "    </tr>\n",
       "  </tbody>\n",
       "</table>\n",
       "</div>"
      ],
      "text/plain": [
       "                     id                                        name  \\\n",
       "0  AV13O1A8GV-KLJ3akUyj   Pink Friday: Roman Reloaded Re-Up (w/dvd)   \n",
       "1  AV14LG0R-jtxr-f38QfS  Lundberg Organic Cinnamon Toast Rice Cakes   \n",
       "2  AV14LG0R-jtxr-f38QfS  Lundberg Organic Cinnamon Toast Rice Cakes   \n",
       "3  AV16khLE-jtxr-f38VFn            K-Y Love Sensuality Pleasure Gel   \n",
       "4  AV16khLE-jtxr-f38VFn            K-Y Love Sensuality Pleasure Gel   \n",
       "\n",
       "                             reviews_title_plus_text  user_sentiment  \\\n",
       "0  Just Awesome. i love this album. it's very goo...             1.0   \n",
       "1  Good. Good flavor. This review was collected a...             1.0   \n",
       "2                                 Good. Good flavor.             1.0   \n",
       "3  Disappointed. I read through the reviews on he...             0.0   \n",
       "4  Irritation. My husband bought this gel for us....             0.0   \n",
       "\n",
       "                                   reviews_processed  \n",
       "0  awesome love album good hip hop current pop so...  \n",
       "1          good good flavor review collect promotion  \n",
       "2                                   good good flavor  \n",
       "3  disappointed read review look buy couple lubri...  \n",
       "4  irritation husband buy gel gel cause irritatio...  "
      ]
     },
     "execution_count": 48,
     "metadata": {},
     "output_type": "execute_result"
    }
   ],
   "source": [
    "dfSentiment.head()"
   ]
  },
  {
   "cell_type": "code",
   "execution_count": 49,
   "id": "7adbcf59",
   "metadata": {},
   "outputs": [],
   "source": [
    "with open('data/dfSentiment.pk', 'wb') as fin:\n",
    "    pickle.dump(dfSentiment, fin)"
   ]
  },
  {
   "cell_type": "code",
   "execution_count": 50,
   "id": "8109de74",
   "metadata": {},
   "outputs": [],
   "source": [
    "# Check frequent words in Negative ad Positive reviews\n",
    "text_pos=str(dfSentiment[dfSentiment.user_sentiment==1]['reviews_processed'])\n",
    "text_neg=str(dfSentiment[dfSentiment.user_sentiment==0]['reviews_processed'])"
   ]
  },
  {
   "cell_type": "code",
   "execution_count": 51,
   "id": "d138ff19",
   "metadata": {},
   "outputs": [
    {
     "data": {
      "image/png": "[encoded data removed]",
      "text/plain": [
       "<Figure size 576x576 with 1 Axes>"
      ]
     },
     "metadata": {
      "needs_background": "light"
     },
     "output_type": "display_data"
    }
   ],
   "source": [
    "wordcloud = WordCloud(background_color ='white').generate(text_pos)\n",
    "plt.figure(figsize = (8, 8), facecolor = None)\n",
    "plt.imshow(wordcloud)\n",
    "plt.axis(\"off\")\n",
    "plt.show()"
   ]
  },
  {
   "cell_type": "code",
   "execution_count": 52,
   "id": "dcf75bce",
   "metadata": {},
   "outputs": [
    {
     "data": {
      "image/png": "[encoded data removed]",
      "text/plain": [
       "<Figure size 576x576 with 1 Axes>"
      ]
     },
     "metadata": {
      "needs_background": "light"
     },
     "output_type": "display_data"
    }
   ],
   "source": [
    "wordcloud = WordCloud(background_color ='white').generate(text_neg)\n",
    "plt.figure(figsize = (8, 8), facecolor = None)\n",
    "plt.imshow(wordcloud)\n",
    "plt.axis(\"off\")\n",
    "plt.show()"
   ]
  },
  {
   "cell_type": "code",
   "execution_count": 53,
   "id": "f622bd74",
   "metadata": {},
   "outputs": [
    {
     "name": "stdout",
     "output_type": "stream",
     "text": [
      "[(('review', 'collect'), 7942), (('collect', 'promotion'), 7942), (('clorox', 'wipe'), 2583), (('great', 'product'), 1905), (('great', 'movie'), 1684), (('easy', 'use'), 1541), (('love', 'clorox'), 1355), (('love', 'product'), 1173), (('good', 'movie'), 1035), (('smell', 'great'), 841), (('movie', 'great'), 832), (('love', 'love'), 815), (('disinfecting', 'wipe'), 772), (('work', 'great'), 707), (('love', 'wipe'), 682), (('product', 'love'), 668), (('love', 'movie'), 627), (('product', 'use'), 577), (('movie', 'good'), 574), (('product', 'great'), 546), (('godzilla', 'movie'), 543), (('wipe', 'love'), 538), (('good', 'product'), 535), (('use', 'clorox'), 532), (('receive', 'product'), 528), (('clorox', 'disinfecting'), 528), (('hair', 'feel'), 525), (('lip', 'shimmer'), 515), (('wipe', 'clean'), 452), (('clorox', 'product'), 446)]\n"
     ]
    }
   ],
   "source": [
    "# Find top 30 biagrams with positive sentiments\n",
    "bigrams=[]\n",
    "for s in dfSentiment[dfSentiment.user_sentiment==1]['reviews_processed']:\n",
    "    bigrams.extend(nltk.bigrams(nltk.word_tokenize(s)))\n",
    "most_common_bigrams=nltk.FreqDist(bigrams).most_common(30)\n",
    "print(most_common_bigrams)"
   ]
  },
  {
   "cell_type": "code",
   "execution_count": 54,
   "id": "0674574c",
   "metadata": {},
   "outputs": [
    {
     "name": "stdout",
     "output_type": "stream",
     "text": [
      "[(('review', 'collect'), 801), (('collect', 'promotion'), 801), (('clorox', 'wipe'), 260), (('old', 'formula'), 174), (('new', 'formula'), 163), (('bring', 'old'), 117), (('great', 'product'), 111), (('resident', 'evil'), 103), (('use', 'clorox'), 98), (('great', 'movie'), 68), (('use', 'product'), 67), (('product', 'use'), 67), (('lip', 'shimmer'), 65), (('use', 'wipe'), 63), (('love', 'clorox'), 60), (('exxtra', 'gel'), 59), (('new', 'product'), 58), (('love', 'product'), 56), (('wipe', 'use'), 54), (('not', 'like'), 52), (('good', 'product'), 48), (('disinfecting', 'wipe'), 48), (('new', 'gel'), 47), (('feel', 'like'), 45), (('bring', 'cocoa'), 45), (('will', 'not'), 44), (('change', 'formula'), 44), (('good', 'movie'), 44), (('clorox', 'product'), 43), (('love', 'movie'), 42)]\n"
     ]
    }
   ],
   "source": [
    "# Find top 30 biagrams with negative sentiments\n",
    "bigrams=[]\n",
    "for s in dfSentiment[dfSentiment.user_sentiment==0]['reviews_processed']:\n",
    "    bigrams.extend(nltk.bigrams(nltk.word_tokenize(s)))\n",
    "most_common_bigrams=nltk.FreqDist(bigrams).most_common(30)\n",
    "print(most_common_bigrams)"
   ]
  },
  {
   "cell_type": "code",
   "execution_count": 55,
   "id": "20b534f1",
   "metadata": {},
   "outputs": [
    {
     "name": "stdout",
     "output_type": "stream",
     "text": [
      "[(('review', 'collect', 'promotion'), 7942), (('love', 'clorox', 'wipe'), 663), (('clorox', 'disinfecting', 'wipe'), 524), (('clean', 'review', 'collect'), 443), (('product', 'review', 'collect'), 402), (('use', 'clorox', 'wipe'), 290), (('great', 'product', 'love'), 287), (('use', 'review', 'collect'), 272), (('great', 'movie', 'great'), 261), (('opinion', 'review', 'collect'), 253), (('clorox', 'wipe', 'love'), 251), (('movie', 'great', 'movie'), 243), (('wipe', 'easy', 'use'), 236), (('receive', 'product', 'free'), 227), (('product', 'easy', 'use'), 217), (('love', 'love', 'love'), 216), (('great', 'review', 'collect'), 192), (('love', 'clorox', 'product'), 188), (('testing', 'purpose', 'opinion'), 182), (('great', 'product', 'great'), 181), (('wipe', 'review', 'collect'), 178), (('clorox', 'wipe', 'great'), 174), (('love', 'review', 'collect'), 171), (('clorox', 'wipe', 'easy'), 169), (('love', 'clorox', 'disinfecting'), 168), (('bring', 'old', 'formula'), 167), (('disinfect', 'review', 'collect'), 167), (('great', 'product', 'use'), 165), (('wipe', 'love', 'clorox'), 160), (('movie', 'good', 'movie'), 159)]\n"
     ]
    }
   ],
   "source": [
    "# Find top 30 biagrams with positive sentiments\n",
    "trigrams=[]\n",
    "for s in dfSentiment[dfSentiment.user_sentiment==1]['reviews_processed']:\n",
    "    trigrams.extend(nltk.trigrams(nltk.word_tokenize(s)))\n",
    "most_common_trigrams=nltk.FreqDist(trigrams).most_common(30)\n",
    "print(most_common_trigrams)"
   ]
  },
  {
   "cell_type": "code",
   "execution_count": 56,
   "id": "74828670",
   "metadata": {},
   "outputs": [
    {
     "name": "stdout",
     "output_type": "stream",
     "text": [
      "[(('review', 'collect', 'promotion'), 801), (('bring', 'old', 'formula'), 74), (('use', 'clorox', 'wipe'), 65), (('use', 'review', 'collect'), 33), (('love', 'clorox', 'wipe'), 33), (('clorox', 'disinfecting', 'wipe'), 33), (('resident', 'evil', 'movie'), 32), (('cocoa', 'lip', 'shimmer'), 29), (('cold', 'flu', 'season'), 27), (('like', 'like', 'like'), 26), (('season', 'review', 'collect'), 25), (('product', 'review', 'collect'), 24), (('house', 'review', 'collect'), 24), (('great', 'product', 'use'), 21), (('clean', 'review', 'collect'), 19), (('nexxus', 'exxtra', 'gel'), 19), (('clorox', 'wipe', 'clean'), 18), (('wipe', 'review', 'collect'), 18), (('clorox', 'wipe', 'use'), 18), (('germ', 'review', 'collect'), 18), (('new', 'formula', 'horrible'), 17), (('flu', 'season', 'review'), 17), (('old', 'formula', 'new'), 17), (('home', 'review', 'collect'), 16), (('disinfect', 'review', 'collect'), 15), (('bathroom', 'review', 'collect'), 15), (('year', 'new', 'formula'), 15), (('clorox', 'wipe', 'clorox'), 14), (('wipe', 'clorox', 'wipe'), 13), (('clorox', 'review', 'collect'), 13)]\n"
     ]
    }
   ],
   "source": [
    "# Find top 30 biagrams with negative sentiments\n",
    "trigrams=[]\n",
    "for s in dfSentiment[dfSentiment.user_sentiment==0]['reviews_processed']:\n",
    "    trigrams.extend(nltk.trigrams(nltk.word_tokenize(s)))\n",
    "most_common_trigrams=nltk.FreqDist(trigrams).most_common(30)\n",
    "print(most_common_trigrams)"
   ]
  },
  {
   "cell_type": "markdown",
   "id": "a19cf28b",
   "metadata": {},
   "source": [
    "### Feature extraction"
   ]
  },
  {
   "cell_type": "code",
   "execution_count": 57,
   "id": "1861ebfd",
   "metadata": {},
   "outputs": [],
   "source": [
    "X=dfSentiment['reviews_processed'].values\n",
    "y=dfSentiment['user_sentiment'].values"
   ]
  },
  {
   "cell_type": "code",
   "execution_count": 58,
   "id": "07ace54d",
   "metadata": {},
   "outputs": [],
   "source": [
    "#Write your code here to initialise the TfidfVectorizer \n",
    "tfidf=TfidfVectorizer(max_features=2000,ngram_range=(1,2),max_df=0.95,min_df=2)"
   ]
  },
  {
   "cell_type": "code",
   "execution_count": 59,
   "id": "9b674e05",
   "metadata": {},
   "outputs": [
    {
     "data": {
      "text/plain": [
       "array([[0., 0., 0., ..., 0., 0., 0.],\n",
       "       [0., 0., 0., ..., 0., 0., 0.],\n",
       "       [0., 0., 0., ..., 0., 0., 0.],\n",
       "       ...,\n",
       "       [0., 0., 0., ..., 0., 0., 0.],\n",
       "       [0., 0., 0., ..., 0., 0., 0.],\n",
       "       [0., 0., 0., ..., 0., 0., 0.]])"
      ]
     },
     "execution_count": 59,
     "metadata": {},
     "output_type": "execute_result"
    }
   ],
   "source": [
    "X_tfidf = tfidf.fit_transform(X).toarray()\n",
    "X_tfidf"
   ]
  },
  {
   "cell_type": "code",
   "execution_count": 60,
   "id": "c5d49a39",
   "metadata": {},
   "outputs": [
    {
     "data": {
      "text/plain": [
       "2000"
      ]
     },
     "execution_count": 60,
     "metadata": {},
     "output_type": "execute_result"
    }
   ],
   "source": [
    "feature_names = tfidf.get_feature_names()\n",
    "len(feature_names)"
   ]
  },
  {
   "cell_type": "code",
   "execution_count": 61,
   "id": "d106005e",
   "metadata": {},
   "outputs": [],
   "source": [
    "X_train, X_test, y_train, y_test = train_test_split(X_tfidf,y,random_state=100,train_size=0.8)"
   ]
  },
  {
   "cell_type": "code",
   "execution_count": 62,
   "id": "49ddcb5d",
   "metadata": {},
   "outputs": [
    {
     "name": "stdout",
     "output_type": "stream",
     "text": [
      "Counter({1.0: 21287, 0.0: 2712})\n"
     ]
    }
   ],
   "source": [
    "counter = Counter(y_train)\n",
    "print(counter)"
   ]
  },
  {
   "cell_type": "code",
   "execution_count": 63,
   "id": "a2a3035f",
   "metadata": {},
   "outputs": [],
   "source": [
    "# Class imbalance can be seen as the positve sentiments are a lot more than negative sentiments\n",
    "# Balance the class using smote\n",
    "sm=SMOTE()\n",
    "X_train, y_train=sm.fit_resample(X_train, y_train)"
   ]
  },
  {
   "cell_type": "code",
   "execution_count": 64,
   "id": "8365e472",
   "metadata": {},
   "outputs": [
    {
     "name": "stdout",
     "output_type": "stream",
     "text": [
      "Counter({1.0: 21287, 0.0: 21287})\n"
     ]
    }
   ],
   "source": [
    "counter = Counter(y_train)\n",
    "print(counter)"
   ]
  },
  {
   "cell_type": "markdown",
   "id": "85689f53",
   "metadata": {},
   "source": [
    "### Model Training"
   ]
  },
  {
   "cell_type": "code",
   "execution_count": 65,
   "id": "4558ac13",
   "metadata": {},
   "outputs": [],
   "source": [
    "def print_metrics(y, y_pred):\n",
    "    accuracy = accuracy_score(y, y_pred)\n",
    "    precision = precision_score(y, y_pred)\n",
    "    recall = recall_score(y, y_pred)\n",
    "    f1score = f1_score(y, y_pred)\n",
    "    #tn, fp, fn, tp = confusion_matrix(y, y_pred).ravel()\n",
    "    #specificity = float(tn)/(tn+fp)\n",
    "    print(f\"Accuracy is : {accuracy*100:.1f}%\")\n",
    "    print(f\"Precision is : {precision*100:.1f}%\")\n",
    "    print(f\"Recall is : {recall*100:.1f}%\")\n",
    "    print(f\"F1 Score is : {f1score*100:.1f}%\")\n",
    "    #print(f\"Specificity is : {specificity*100:.1f}%\")\n",
    "\n",
    "def evaluate_model(clf, X_train, y_train, X_test, y_test):\n",
    "    y_train_pred=clf.predict(X_train)\n",
    "    print(\"#### Metrics on Train Data ####\")\n",
    "    print_metrics(y_train,y_train_pred)\n",
    "    plot_confusion_matrix(clf, X_train, y_train)\n",
    "    plt.show()\n",
    "\n",
    "    y_test_pred=clf.predict(X_test)\n",
    "    print('\\n')\n",
    "    print(\"#### Metrics on Test Data ####\")\n",
    "    print_metrics(y_test,y_test_pred)\n",
    "    plot_confusion_matrix(clf, X_test, y_test)\n",
    "    plt.show()"
   ]
  },
  {
   "cell_type": "markdown",
   "id": "b8d9e729",
   "metadata": {},
   "source": [
    "#### Logistic Regression"
   ]
  },
  {
   "cell_type": "code",
   "execution_count": 66,
   "id": "0adf9c0b",
   "metadata": {},
   "outputs": [
    {
     "name": "stderr",
     "output_type": "stream",
     "text": [
      "C:\\ProgramData\\Anaconda3\\lib\\site-packages\\sklearn\\linear_model\\_logistic.py:444: ConvergenceWarning: lbfgs failed to converge (status=1):\n",
      "STOP: TOTAL NO. of ITERATIONS REACHED LIMIT.\n",
      "\n",
      "Increase the number of iterations (max_iter) or scale the data as shown in:\n",
      "    https://scikit-learn.org/stable/modules/preprocessing.html\n",
      "Please also refer to the documentation for alternative solver options:\n",
      "    https://scikit-learn.org/stable/modules/linear_model.html#logistic-regression\n",
      "  n_iter_i = _check_optimize_result(\n"
     ]
    },
    {
     "data": {
      "text/html": [
       "<style>#sk-container-id-1 {color: black;background-color: white;}#sk-container-id-1 pre{padding: 0;}#sk-container-id-1 div.sk-toggleable {background-color: white;}#sk-container-id-1 label.sk-toggleable__label {cursor: pointer;display: block;width: 100%;margin-bottom: 0;padding: 0.3em;box-sizing: border-box;text-align: center;}#sk-container-id-1 label.sk-toggleable__label-arrow:before {content: \"▸\";float: left;margin-right: 0.25em;color: #696969;}#sk-container-id-1 label.sk-toggleable__label-arrow:hover:before {color: black;}#sk-container-id-1 div.sk-estimator:hover label.sk-toggleable__label-arrow:before {color: black;}#sk-container-id-1 div.sk-toggleable__content {max-height: 0;max-width: 0;overflow: hidden;text-align: left;background-color: #f0f8ff;}#sk-container-id-1 div.sk-toggleable__content pre {margin: 0.2em;color: black;border-radius: 0.25em;background-color: #f0f8ff;}#sk-container-id-1 input.sk-toggleable__control:checked~div.sk-toggleable__content {max-height: 200px;max-width: 100%;overflow: auto;}#sk-container-id-1 input.sk-toggleable__control:checked~label.sk-toggleable__label-arrow:before {content: \"▾\";}#sk-container-id-1 div.sk-estimator input.sk-toggleable__control:checked~label.sk-toggleable__label {background-color: #d4ebff;}#sk-container-id-1 div.sk-label input.sk-toggleable__control:checked~label.sk-toggleable__label {background-color: #d4ebff;}#sk-container-id-1 input.sk-hidden--visually {border: 0;clip: rect(1px 1px 1px 1px);clip: rect(1px, 1px, 1px, 1px);height: 1px;margin: -1px;overflow: hidden;padding: 0;position: absolute;width: 1px;}#sk-container-id-1 div.sk-estimator {font-family: monospace;background-color: #f0f8ff;border: 1px dotted black;border-radius: 0.25em;box-sizing: border-box;margin-bottom: 0.5em;}#sk-container-id-1 div.sk-estimator:hover {background-color: #d4ebff;}#sk-container-id-1 div.sk-parallel-item::after {content: \"\";width: 100%;border-bottom: 1px solid gray;flex-grow: 1;}#sk-container-id-1 div.sk-label:hover label.sk-toggleable__label {background-color: #d4ebff;}#sk-container-id-1 div.sk-serial::before {content: \"\";position: absolute;border-left: 1px solid gray;box-sizing: border-box;top: 0;bottom: 0;left: 50%;z-index: 0;}#sk-container-id-1 div.sk-serial {display: flex;flex-direction: column;align-items: center;background-color: white;padding-right: 0.2em;padding-left: 0.2em;position: relative;}#sk-container-id-1 div.sk-item {position: relative;z-index: 1;}#sk-container-id-1 div.sk-parallel {display: flex;align-items: stretch;justify-content: center;background-color: white;position: relative;}#sk-container-id-1 div.sk-item::before, #sk-container-id-1 div.sk-parallel-item::before {content: \"\";position: absolute;border-left: 1px solid gray;box-sizing: border-box;top: 0;bottom: 0;left: 50%;z-index: -1;}#sk-container-id-1 div.sk-parallel-item {display: flex;flex-direction: column;z-index: 1;position: relative;background-color: white;}#sk-container-id-1 div.sk-parallel-item:first-child::after {align-self: flex-end;width: 50%;}#sk-container-id-1 div.sk-parallel-item:last-child::after {align-self: flex-start;width: 50%;}#sk-container-id-1 div.sk-parallel-item:only-child::after {width: 0;}#sk-container-id-1 div.sk-dashed-wrapped {border: 1px dashed gray;margin: 0 0.4em 0.5em 0.4em;box-sizing: border-box;padding-bottom: 0.4em;background-color: white;}#sk-container-id-1 div.sk-label label {font-family: monospace;font-weight: bold;display: inline-block;line-height: 1.2em;}#sk-container-id-1 div.sk-label-container {text-align: center;}#sk-container-id-1 div.sk-container {/* jupyter's `normalize.less` sets `[hidden] { display: none; }` but bootstrap.min.css set `[hidden] { display: none !important; }` so we also need the `!important` here to be able to override the default hidden behavior on the sphinx rendered scikit-learn.org. See: https://github.com/scikit-learn/scikit-learn/issues/21755 */display: inline-block !important;position: relative;}#sk-container-id-1 div.sk-text-repr-fallback {display: none;}</style><div id=\"sk-container-id-1\" class=\"sk-top-container\"><div class=\"sk-text-repr-fallback\"><pre>LogisticRegression(random_state=100)</pre><b>In a Jupyter environment, please rerun this cell to show the HTML representation or trust the notebook. <br />On GitHub, the HTML representation is unable to render, please try loading this page with nbviewer.org.</b></div><div class=\"sk-container\" hidden><div class=\"sk-item\"><div class=\"sk-estimator sk-toggleable\"><input class=\"sk-toggleable__control sk-hidden--visually\" id=\"sk-estimator-id-1\" type=\"checkbox\" checked><label for=\"sk-estimator-id-1\" class=\"sk-toggleable__label sk-toggleable__label-arrow\">LogisticRegression</label><div class=\"sk-toggleable__content\"><pre>LogisticRegression(random_state=100)</pre></div></div></div></div></div>"
      ],
      "text/plain": [
       "LogisticRegression(random_state=100)"
      ]
     },
     "execution_count": 66,
     "metadata": {},
     "output_type": "execute_result"
    }
   ],
   "source": [
    "lr = LogisticRegression(random_state=100)\n",
    "lr.fit(X_train, y_train)"
   ]
  },
  {
   "cell_type": "code",
   "execution_count": 67,
   "id": "15f313ee",
   "metadata": {},
   "outputs": [
    {
     "name": "stdout",
     "output_type": "stream",
     "text": [
      "#### Metrics on Train Data ####\n",
      "Accuracy is : 92.8%\n",
      "Precision is : 93.9%\n",
      "Recall is : 91.4%\n",
      "F1 Score is : 92.7%\n"
     ]
    },
    {
     "data": {
      "image/png": "[encoded data removed]",
      "text/plain": [
       "<Figure size 432x288 with 2 Axes>"
      ]
     },
     "metadata": {
      "needs_background": "light"
     },
     "output_type": "display_data"
    },
    {
     "name": "stdout",
     "output_type": "stream",
     "text": [
      "\n",
      "\n",
      "#### Metrics on Test Data ####\n",
      "Accuracy is : 88.3%\n",
      "Precision is : 96.2%\n",
      "Recall is : 90.5%\n",
      "F1 Score is : 93.3%\n"
     ]
    },
    {
     "data": {
      "image/png": "[encoded data removed]",
      "text/plain": [
       "<Figure size 432x288 with 2 Axes>"
      ]
     },
     "metadata": {
      "needs_background": "light"
     },
     "output_type": "display_data"
    }
   ],
   "source": [
    "evaluate_model(lr, X_train, y_train, X_test, y_test)"
   ]
  },
  {
   "cell_type": "markdown",
   "id": "4ab72e66",
   "metadata": {},
   "source": [
    "#### Random Forest"
   ]
  },
  {
   "cell_type": "code",
   "execution_count": 68,
   "id": "29e35aa2",
   "metadata": {},
   "outputs": [
    {
     "data": {
      "text/html": [
       "<style>#sk-container-id-2 {color: black;background-color: white;}#sk-container-id-2 pre{padding: 0;}#sk-container-id-2 div.sk-toggleable {background-color: white;}#sk-container-id-2 label.sk-toggleable__label {cursor: pointer;display: block;width: 100%;margin-bottom: 0;padding: 0.3em;box-sizing: border-box;text-align: center;}#sk-container-id-2 label.sk-toggleable__label-arrow:before {content: \"▸\";float: left;margin-right: 0.25em;color: #696969;}#sk-container-id-2 label.sk-toggleable__label-arrow:hover:before {color: black;}#sk-container-id-2 div.sk-estimator:hover label.sk-toggleable__label-arrow:before {color: black;}#sk-container-id-2 div.sk-toggleable__content {max-height: 0;max-width: 0;overflow: hidden;text-align: left;background-color: #f0f8ff;}#sk-container-id-2 div.sk-toggleable__content pre {margin: 0.2em;color: black;border-radius: 0.25em;background-color: #f0f8ff;}#sk-container-id-2 input.sk-toggleable__control:checked~div.sk-toggleable__content {max-height: 200px;max-width: 100%;overflow: auto;}#sk-container-id-2 input.sk-toggleable__control:checked~label.sk-toggleable__label-arrow:before {content: \"▾\";}#sk-container-id-2 div.sk-estimator input.sk-toggleable__control:checked~label.sk-toggleable__label {background-color: #d4ebff;}#sk-container-id-2 div.sk-label input.sk-toggleable__control:checked~label.sk-toggleable__label {background-color: #d4ebff;}#sk-container-id-2 input.sk-hidden--visually {border: 0;clip: rect(1px 1px 1px 1px);clip: rect(1px, 1px, 1px, 1px);height: 1px;margin: -1px;overflow: hidden;padding: 0;position: absolute;width: 1px;}#sk-container-id-2 div.sk-estimator {font-family: monospace;background-color: #f0f8ff;border: 1px dotted black;border-radius: 0.25em;box-sizing: border-box;margin-bottom: 0.5em;}#sk-container-id-2 div.sk-estimator:hover {background-color: #d4ebff;}#sk-container-id-2 div.sk-parallel-item::after {content: \"\";width: 100%;border-bottom: 1px solid gray;flex-grow: 1;}#sk-container-id-2 div.sk-label:hover label.sk-toggleable__label {background-color: #d4ebff;}#sk-container-id-2 div.sk-serial::before {content: \"\";position: absolute;border-left: 1px solid gray;box-sizing: border-box;top: 0;bottom: 0;left: 50%;z-index: 0;}#sk-container-id-2 div.sk-serial {display: flex;flex-direction: column;align-items: center;background-color: white;padding-right: 0.2em;padding-left: 0.2em;position: relative;}#sk-container-id-2 div.sk-item {position: relative;z-index: 1;}#sk-container-id-2 div.sk-parallel {display: flex;align-items: stretch;justify-content: center;background-color: white;position: relative;}#sk-container-id-2 div.sk-item::before, #sk-container-id-2 div.sk-parallel-item::before {content: \"\";position: absolute;border-left: 1px solid gray;box-sizing: border-box;top: 0;bottom: 0;left: 50%;z-index: -1;}#sk-container-id-2 div.sk-parallel-item {display: flex;flex-direction: column;z-index: 1;position: relative;background-color: white;}#sk-container-id-2 div.sk-parallel-item:first-child::after {align-self: flex-end;width: 50%;}#sk-container-id-2 div.sk-parallel-item:last-child::after {align-self: flex-start;width: 50%;}#sk-container-id-2 div.sk-parallel-item:only-child::after {width: 0;}#sk-container-id-2 div.sk-dashed-wrapped {border: 1px dashed gray;margin: 0 0.4em 0.5em 0.4em;box-sizing: border-box;padding-bottom: 0.4em;background-color: white;}#sk-container-id-2 div.sk-label label {font-family: monospace;font-weight: bold;display: inline-block;line-height: 1.2em;}#sk-container-id-2 div.sk-label-container {text-align: center;}#sk-container-id-2 div.sk-container {/* jupyter's `normalize.less` sets `[hidden] { display: none; }` but bootstrap.min.css set `[hidden] { display: none !important; }` so we also need the `!important` here to be able to override the default hidden behavior on the sphinx rendered scikit-learn.org. See: https://github.com/scikit-learn/scikit-learn/issues/21755 */display: inline-block !important;position: relative;}#sk-container-id-2 div.sk-text-repr-fallback {display: none;}</style><div id=\"sk-container-id-2\" class=\"sk-top-container\"><div class=\"sk-text-repr-fallback\"><pre>RandomForestClassifier(random_state=100)</pre><b>In a Jupyter environment, please rerun this cell to show the HTML representation or trust the notebook. <br />On GitHub, the HTML representation is unable to render, please try loading this page with nbviewer.org.</b></div><div class=\"sk-container\" hidden><div class=\"sk-item\"><div class=\"sk-estimator sk-toggleable\"><input class=\"sk-toggleable__control sk-hidden--visually\" id=\"sk-estimator-id-2\" type=\"checkbox\" checked><label for=\"sk-estimator-id-2\" class=\"sk-toggleable__label sk-toggleable__label-arrow\">RandomForestClassifier</label><div class=\"sk-toggleable__content\"><pre>RandomForestClassifier(random_state=100)</pre></div></div></div></div></div>"
      ],
      "text/plain": [
       "RandomForestClassifier(random_state=100)"
      ]
     },
     "execution_count": 68,
     "metadata": {},
     "output_type": "execute_result"
    }
   ],
   "source": [
    "rfc = RandomForestClassifier(random_state=100)\n",
    "rfc.fit(X_train, y_train)"
   ]
  },
  {
   "cell_type": "code",
   "execution_count": 69,
   "id": "d5b137ee",
   "metadata": {},
   "outputs": [
    {
     "name": "stdout",
     "output_type": "stream",
     "text": [
      "#### Metrics on Train Data ####\n",
      "Accuracy is : 100.0%\n",
      "Precision is : 100.0%\n",
      "Recall is : 100.0%\n",
      "F1 Score is : 100.0%\n"
     ]
    },
    {
     "data": {
      "image/png": "[encoded data removed]",
      "text/plain": [
       "<Figure size 432x288 with 2 Axes>"
      ]
     },
     "metadata": {
      "needs_background": "light"
     },
     "output_type": "display_data"
    },
    {
     "name": "stdout",
     "output_type": "stream",
     "text": [
      "\n",
      "\n",
      "#### Metrics on Test Data ####\n",
      "Accuracy is : 90.9%\n",
      "Precision is : 94.2%\n",
      "Recall is : 95.7%\n",
      "F1 Score is : 94.9%\n"
     ]
    },
    {
     "data": {
      "image/png": "[encoded data removed]",
      "text/plain": [
       "<Figure size 432x288 with 2 Axes>"
      ]
     },
     "metadata": {
      "needs_background": "light"
     },
     "output_type": "display_data"
    }
   ],
   "source": [
    "evaluate_model(rfc, X_train, y_train, X_test, y_test)"
   ]
  },
  {
   "cell_type": "code",
   "execution_count": 70,
   "id": "92b253d8",
   "metadata": {},
   "outputs": [
    {
     "data": {
      "text/plain": [
       "'\\n# Hyperparameter tuning\\nparameters = {\"n_estimators\": range(100,500,100),\\n              \"max_depth\": range(2,7,1),\\n              \"min_samples_split\": [2, 6, 10],\\n              \"min_samples_leaf\": [1, 3, 4],\\n              \"max_features\":[i/10.0 for i in range(5,11)]}\\nrfc_random = RandomizedSearchCV(rfc, param_distributions = parameters,n_jobs=2,cv = 5,n_iter=20)\\nrfc_random.fit(X_train, y_train)\\nbest_params_rfc = rfc_random.best_params_\\nprint(rfc_random.best_score_)\\n'"
      ]
     },
     "execution_count": 70,
     "metadata": {},
     "output_type": "execute_result"
    }
   ],
   "source": [
    "\"\"\"\n",
    "# Hyperparameter tuning\n",
    "parameters = {\"n_estimators\": range(100,500,100),\n",
    "              \"max_depth\": range(2,7,1),\n",
    "              \"min_samples_split\": [2, 6, 10],\n",
    "              \"min_samples_leaf\": [1, 3, 4],\n",
    "              \"max_features\":[i/10.0 for i in range(5,11)]}\n",
    "rfc_random = RandomizedSearchCV(rfc, param_distributions = parameters,n_jobs=2,cv = 5,n_iter=20)\n",
    "rfc_random.fit(X_train, y_train)\n",
    "best_params_rfc = rfc_random.best_params_\n",
    "print(rfc_random.best_score_)\n",
    "\"\"\""
   ]
  },
  {
   "cell_type": "code",
   "execution_count": 71,
   "id": "db0823ee",
   "metadata": {},
   "outputs": [
    {
     "data": {
      "text/plain": [
       "'\\nrfc_tuned = RandomForestClassifier(**best_params_rfc)\\nrfc_tuned.fit(X_train, y_train)\\n'"
      ]
     },
     "execution_count": 71,
     "metadata": {},
     "output_type": "execute_result"
    }
   ],
   "source": [
    "\"\"\"\n",
    "rfc_tuned = RandomForestClassifier(**best_params_rfc)\n",
    "rfc_tuned.fit(X_train, y_train)\n",
    "\"\"\""
   ]
  },
  {
   "cell_type": "code",
   "execution_count": 72,
   "id": "8fa227f1",
   "metadata": {},
   "outputs": [],
   "source": [
    "#evaluate_model(rfc_tuned, X_train, y_train, X_test, y_test)"
   ]
  },
  {
   "cell_type": "markdown",
   "id": "b5d8982f",
   "metadata": {},
   "source": [
    "#### XGBoost"
   ]
  },
  {
   "cell_type": "code",
   "execution_count": 73,
   "id": "65991592",
   "metadata": {},
   "outputs": [
    {
     "name": "stderr",
     "output_type": "stream",
     "text": [
      "C:\\ProgramData\\Anaconda3\\lib\\site-packages\\xgboost\\sklearn.py:1224: UserWarning: The use of label encoder in XGBClassifier is deprecated and will be removed in a future release. To remove this warning, do the following: 1) Pass option use_label_encoder=False when constructing XGBClassifier object; and 2) Encode your labels (y) as integers starting with 0, i.e. 0, 1, 2, ..., [num_class - 1].\n",
      "  warnings.warn(label_encoder_deprecation_msg, UserWarning)\n"
     ]
    },
    {
     "name": "stdout",
     "output_type": "stream",
     "text": [
      "[16:21:43] WARNING: D:\\bld\\xgboost-split_1645118015404\\work\\src\\learner.cc:1115: Starting in XGBoost 1.3.0, the default evaluation metric used with the objective 'binary:logistic' was changed from 'error' to 'logloss'. Explicitly set eval_metric if you'd like to restore the old behavior.\n"
     ]
    },
    {
     "data": {
      "text/html": [
       "<style>#sk-container-id-3 {color: black;background-color: white;}#sk-container-id-3 pre{padding: 0;}#sk-container-id-3 div.sk-toggleable {background-color: white;}#sk-container-id-3 label.sk-toggleable__label {cursor: pointer;display: block;width: 100%;margin-bottom: 0;padding: 0.3em;box-sizing: border-box;text-align: center;}#sk-container-id-3 label.sk-toggleable__label-arrow:before {content: \"▸\";float: left;margin-right: 0.25em;color: #696969;}#sk-container-id-3 label.sk-toggleable__label-arrow:hover:before {color: black;}#sk-container-id-3 div.sk-estimator:hover label.sk-toggleable__label-arrow:before {color: black;}#sk-container-id-3 div.sk-toggleable__content {max-height: 0;max-width: 0;overflow: hidden;text-align: left;background-color: #f0f8ff;}#sk-container-id-3 div.sk-toggleable__content pre {margin: 0.2em;color: black;border-radius: 0.25em;background-color: #f0f8ff;}#sk-container-id-3 input.sk-toggleable__control:checked~div.sk-toggleable__content {max-height: 200px;max-width: 100%;overflow: auto;}#sk-container-id-3 input.sk-toggleable__control:checked~label.sk-toggleable__label-arrow:before {content: \"▾\";}#sk-container-id-3 div.sk-estimator input.sk-toggleable__control:checked~label.sk-toggleable__label {background-color: #d4ebff;}#sk-container-id-3 div.sk-label input.sk-toggleable__control:checked~label.sk-toggleable__label {background-color: #d4ebff;}#sk-container-id-3 input.sk-hidden--visually {border: 0;clip: rect(1px 1px 1px 1px);clip: rect(1px, 1px, 1px, 1px);height: 1px;margin: -1px;overflow: hidden;padding: 0;position: absolute;width: 1px;}#sk-container-id-3 div.sk-estimator {font-family: monospace;background-color: #f0f8ff;border: 1px dotted black;border-radius: 0.25em;box-sizing: border-box;margin-bottom: 0.5em;}#sk-container-id-3 div.sk-estimator:hover {background-color: #d4ebff;}#sk-container-id-3 div.sk-parallel-item::after {content: \"\";width: 100%;border-bottom: 1px solid gray;flex-grow: 1;}#sk-container-id-3 div.sk-label:hover label.sk-toggleable__label {background-color: #d4ebff;}#sk-container-id-3 div.sk-serial::before {content: \"\";position: absolute;border-left: 1px solid gray;box-sizing: border-box;top: 0;bottom: 0;left: 50%;z-index: 0;}#sk-container-id-3 div.sk-serial {display: flex;flex-direction: column;align-items: center;background-color: white;padding-right: 0.2em;padding-left: 0.2em;position: relative;}#sk-container-id-3 div.sk-item {position: relative;z-index: 1;}#sk-container-id-3 div.sk-parallel {display: flex;align-items: stretch;justify-content: center;background-color: white;position: relative;}#sk-container-id-3 div.sk-item::before, #sk-container-id-3 div.sk-parallel-item::before {content: \"\";position: absolute;border-left: 1px solid gray;box-sizing: border-box;top: 0;bottom: 0;left: 50%;z-index: -1;}#sk-container-id-3 div.sk-parallel-item {display: flex;flex-direction: column;z-index: 1;position: relative;background-color: white;}#sk-container-id-3 div.sk-parallel-item:first-child::after {align-self: flex-end;width: 50%;}#sk-container-id-3 div.sk-parallel-item:last-child::after {align-self: flex-start;width: 50%;}#sk-container-id-3 div.sk-parallel-item:only-child::after {width: 0;}#sk-container-id-3 div.sk-dashed-wrapped {border: 1px dashed gray;margin: 0 0.4em 0.5em 0.4em;box-sizing: border-box;padding-bottom: 0.4em;background-color: white;}#sk-container-id-3 div.sk-label label {font-family: monospace;font-weight: bold;display: inline-block;line-height: 1.2em;}#sk-container-id-3 div.sk-label-container {text-align: center;}#sk-container-id-3 div.sk-container {/* jupyter's `normalize.less` sets `[hidden] { display: none; }` but bootstrap.min.css set `[hidden] { display: none !important; }` so we also need the `!important` here to be able to override the default hidden behavior on the sphinx rendered scikit-learn.org. See: https://github.com/scikit-learn/scikit-learn/issues/21755 */display: inline-block !important;position: relative;}#sk-container-id-3 div.sk-text-repr-fallback {display: none;}</style><div id=\"sk-container-id-3\" class=\"sk-top-container\"><div class=\"sk-text-repr-fallback\"><pre>XGBClassifier(base_score=0.5, booster=&#x27;gbtree&#x27;, colsample_bylevel=1,\n",
       "              colsample_bynode=1, colsample_bytree=1, enable_categorical=False,\n",
       "              gamma=0, gpu_id=-1, importance_type=None,\n",
       "              interaction_constraints=&#x27;&#x27;, learning_rate=0.300000012,\n",
       "              max_delta_step=0, max_depth=6, min_child_weight=1, missing=nan,\n",
       "              monotone_constraints=&#x27;()&#x27;, n_estimators=100, n_jobs=8,\n",
       "              num_parallel_tree=1, predictor=&#x27;auto&#x27;, random_state=100,\n",
       "              reg_alpha=0, reg_lambda=1, scale_pos_weight=1, subsample=1,\n",
       "              tree_method=&#x27;exact&#x27;, validate_parameters=1, verbosity=None)</pre><b>In a Jupyter environment, please rerun this cell to show the HTML representation or trust the notebook. <br />On GitHub, the HTML representation is unable to render, please try loading this page with nbviewer.org.</b></div><div class=\"sk-container\" hidden><div class=\"sk-item\"><div class=\"sk-estimator sk-toggleable\"><input class=\"sk-toggleable__control sk-hidden--visually\" id=\"sk-estimator-id-3\" type=\"checkbox\" checked><label for=\"sk-estimator-id-3\" class=\"sk-toggleable__label sk-toggleable__label-arrow\">XGBClassifier</label><div class=\"sk-toggleable__content\"><pre>XGBClassifier(base_score=0.5, booster=&#x27;gbtree&#x27;, colsample_bylevel=1,\n",
       "              colsample_bynode=1, colsample_bytree=1, enable_categorical=False,\n",
       "              gamma=0, gpu_id=-1, importance_type=None,\n",
       "              interaction_constraints=&#x27;&#x27;, learning_rate=0.300000012,\n",
       "              max_delta_step=0, max_depth=6, min_child_weight=1, missing=nan,\n",
       "              monotone_constraints=&#x27;()&#x27;, n_estimators=100, n_jobs=8,\n",
       "              num_parallel_tree=1, predictor=&#x27;auto&#x27;, random_state=100,\n",
       "              reg_alpha=0, reg_lambda=1, scale_pos_weight=1, subsample=1,\n",
       "              tree_method=&#x27;exact&#x27;, validate_parameters=1, verbosity=None)</pre></div></div></div></div></div>"
      ],
      "text/plain": [
       "XGBClassifier(base_score=0.5, booster='gbtree', colsample_bylevel=1,\n",
       "              colsample_bynode=1, colsample_bytree=1, enable_categorical=False,\n",
       "              gamma=0, gpu_id=-1, importance_type=None,\n",
       "              interaction_constraints='', learning_rate=0.300000012,\n",
       "              max_delta_step=0, max_depth=6, min_child_weight=1, missing=nan,\n",
       "              monotone_constraints='()', n_estimators=100, n_jobs=8,\n",
       "              num_parallel_tree=1, predictor='auto', random_state=100,\n",
       "              reg_alpha=0, reg_lambda=1, scale_pos_weight=1, subsample=1,\n",
       "              tree_method='exact', validate_parameters=1, verbosity=None)"
      ]
     },
     "execution_count": 73,
     "metadata": {},
     "output_type": "execute_result"
    }
   ],
   "source": [
    "xgbc = XGBClassifier(random_state=100)\n",
    "xgbc.fit(X_train, y_train)"
   ]
  },
  {
   "cell_type": "code",
   "execution_count": 74,
   "id": "3bb7f906",
   "metadata": {},
   "outputs": [
    {
     "name": "stdout",
     "output_type": "stream",
     "text": [
      "#### Metrics on Train Data ####\n",
      "Accuracy is : 94.6%\n",
      "Precision is : 95.9%\n",
      "Recall is : 93.1%\n",
      "F1 Score is : 94.5%\n"
     ]
    },
    {
     "data": {
      "image/png": "[encoded data removed]",
      "text/plain": [
       "<Figure size 432x288 with 2 Axes>"
      ]
     },
     "metadata": {
      "needs_background": "light"
     },
     "output_type": "display_data"
    },
    {
     "name": "stdout",
     "output_type": "stream",
     "text": [
      "\n",
      "\n",
      "#### Metrics on Test Data ####\n",
      "Accuracy is : 87.7%\n",
      "Precision is : 95.4%\n",
      "Recall is : 90.5%\n",
      "F1 Score is : 92.9%\n"
     ]
    },
    {
     "data": {
      "image/png": "[encoded data removed]",
      "text/plain": [
       "<Figure size 432x288 with 2 Axes>"
      ]
     },
     "metadata": {
      "needs_background": "light"
     },
     "output_type": "display_data"
    }
   ],
   "source": [
    "evaluate_model(xgbc, X_train, y_train, X_test, y_test)"
   ]
  },
  {
   "cell_type": "code",
   "execution_count": 75,
   "id": "87494115",
   "metadata": {},
   "outputs": [
    {
     "data": {
      "text/plain": [
       "{'objective': 'binary:logistic',\n",
       " 'use_label_encoder': True,\n",
       " 'base_score': 0.5,\n",
       " 'booster': 'gbtree',\n",
       " 'colsample_bylevel': 1,\n",
       " 'colsample_bynode': 1,\n",
       " 'colsample_bytree': 1,\n",
       " 'enable_categorical': False,\n",
       " 'gamma': 0,\n",
       " 'gpu_id': -1,\n",
       " 'importance_type': None,\n",
       " 'interaction_constraints': '',\n",
       " 'learning_rate': 0.300000012,\n",
       " 'max_delta_step': 0,\n",
       " 'max_depth': 6,\n",
       " 'min_child_weight': 1,\n",
       " 'missing': nan,\n",
       " 'monotone_constraints': '()',\n",
       " 'n_estimators': 100,\n",
       " 'n_jobs': 8,\n",
       " 'num_parallel_tree': 1,\n",
       " 'predictor': 'auto',\n",
       " 'random_state': 100,\n",
       " 'reg_alpha': 0,\n",
       " 'reg_lambda': 1,\n",
       " 'scale_pos_weight': 1,\n",
       " 'subsample': 1,\n",
       " 'tree_method': 'exact',\n",
       " 'validate_parameters': 1,\n",
       " 'verbosity': None}"
      ]
     },
     "execution_count": 75,
     "metadata": {},
     "output_type": "execute_result"
    }
   ],
   "source": [
    "xgbc.get_params()"
   ]
  },
  {
   "cell_type": "code",
   "execution_count": 76,
   "id": "da8b95bf",
   "metadata": {},
   "outputs": [
    {
     "data": {
      "text/plain": [
       "'\\n# Hyperparameter tuning\\nparameters = {\"learning_rate\": [i/100.0 for i in range(2,12,2)],\\n              \"n_estimators\": range(100,800,100),\\n               \"min_child_weight\": range(1,5),\\n               \"max_depth\": range(2,7,1),\\n               \"subsample\":[i/10.0 for i in range(5,11)],\\n               \"colsample_bytree\":[i/10.0 for i in range(1,7)]}\\nxgbc_random = RandomizedSearchCV(xgbc, param_distributions = parameters,n_jobs=2,cv = 5,n_iter=20)\\nxgbc_random.fit(X_train, y_train)\\nbest_params_xgbc = xgbc_random.best_params_\\nxgbc_random.best_score_\\n'"
      ]
     },
     "execution_count": 76,
     "metadata": {},
     "output_type": "execute_result"
    }
   ],
   "source": [
    "\"\"\"\n",
    "# Hyperparameter tuning\n",
    "parameters = {\"learning_rate\": [i/100.0 for i in range(2,12,2)],\n",
    "              \"n_estimators\": range(100,800,100),\n",
    "               \"min_child_weight\": range(1,5),\n",
    "               \"max_depth\": range(2,7,1),\n",
    "               \"subsample\":[i/10.0 for i in range(5,11)],\n",
    "               \"colsample_bytree\":[i/10.0 for i in range(1,7)]}\n",
    "xgbc_random = RandomizedSearchCV(xgbc, param_distributions = parameters,n_jobs=2,cv = 5,n_iter=20)\n",
    "xgbc_random.fit(X_train, y_train)\n",
    "best_params_xgbc = xgbc_random.best_params_\n",
    "xgbc_random.best_score_\n",
    "\"\"\""
   ]
  },
  {
   "cell_type": "code",
   "execution_count": 77,
   "id": "2be3e059",
   "metadata": {},
   "outputs": [
    {
     "data": {
      "text/plain": [
       "'\\nxgbc_tuned =XGBClassifierBClassifier(**best_params_xgbc)\\nxgbc_tuned.fit(X_train, y_train)\\n'"
      ]
     },
     "execution_count": 77,
     "metadata": {},
     "output_type": "execute_result"
    }
   ],
   "source": [
    "\"\"\"\n",
    "xgbc_tuned =XGBClassifierBClassifier(**best_params_xgbc)\n",
    "xgbc_tuned.fit(X_train, y_train)\n",
    "\"\"\""
   ]
  },
  {
   "cell_type": "code",
   "execution_count": 78,
   "id": "234a52a1",
   "metadata": {},
   "outputs": [],
   "source": [
    "#evaluate_model(xgbc_tuned, X_train, y_train, X_test, y_test)"
   ]
  },
  {
   "cell_type": "markdown",
   "id": "405a89af",
   "metadata": {},
   "source": [
    "#### Naive Bayes"
   ]
  },
  {
   "cell_type": "code",
   "execution_count": 79,
   "id": "bef1a4e2",
   "metadata": {},
   "outputs": [
    {
     "data": {
      "text/html": [
       "<style>#sk-container-id-4 {color: black;background-color: white;}#sk-container-id-4 pre{padding: 0;}#sk-container-id-4 div.sk-toggleable {background-color: white;}#sk-container-id-4 label.sk-toggleable__label {cursor: pointer;display: block;width: 100%;margin-bottom: 0;padding: 0.3em;box-sizing: border-box;text-align: center;}#sk-container-id-4 label.sk-toggleable__label-arrow:before {content: \"▸\";float: left;margin-right: 0.25em;color: #696969;}#sk-container-id-4 label.sk-toggleable__label-arrow:hover:before {color: black;}#sk-container-id-4 div.sk-estimator:hover label.sk-toggleable__label-arrow:before {color: black;}#sk-container-id-4 div.sk-toggleable__content {max-height: 0;max-width: 0;overflow: hidden;text-align: left;background-color: #f0f8ff;}#sk-container-id-4 div.sk-toggleable__content pre {margin: 0.2em;color: black;border-radius: 0.25em;background-color: #f0f8ff;}#sk-container-id-4 input.sk-toggleable__control:checked~div.sk-toggleable__content {max-height: 200px;max-width: 100%;overflow: auto;}#sk-container-id-4 input.sk-toggleable__control:checked~label.sk-toggleable__label-arrow:before {content: \"▾\";}#sk-container-id-4 div.sk-estimator input.sk-toggleable__control:checked~label.sk-toggleable__label {background-color: #d4ebff;}#sk-container-id-4 div.sk-label input.sk-toggleable__control:checked~label.sk-toggleable__label {background-color: #d4ebff;}#sk-container-id-4 input.sk-hidden--visually {border: 0;clip: rect(1px 1px 1px 1px);clip: rect(1px, 1px, 1px, 1px);height: 1px;margin: -1px;overflow: hidden;padding: 0;position: absolute;width: 1px;}#sk-container-id-4 div.sk-estimator {font-family: monospace;background-color: #f0f8ff;border: 1px dotted black;border-radius: 0.25em;box-sizing: border-box;margin-bottom: 0.5em;}#sk-container-id-4 div.sk-estimator:hover {background-color: #d4ebff;}#sk-container-id-4 div.sk-parallel-item::after {content: \"\";width: 100%;border-bottom: 1px solid gray;flex-grow: 1;}#sk-container-id-4 div.sk-label:hover label.sk-toggleable__label {background-color: #d4ebff;}#sk-container-id-4 div.sk-serial::before {content: \"\";position: absolute;border-left: 1px solid gray;box-sizing: border-box;top: 0;bottom: 0;left: 50%;z-index: 0;}#sk-container-id-4 div.sk-serial {display: flex;flex-direction: column;align-items: center;background-color: white;padding-right: 0.2em;padding-left: 0.2em;position: relative;}#sk-container-id-4 div.sk-item {position: relative;z-index: 1;}#sk-container-id-4 div.sk-parallel {display: flex;align-items: stretch;justify-content: center;background-color: white;position: relative;}#sk-container-id-4 div.sk-item::before, #sk-container-id-4 div.sk-parallel-item::before {content: \"\";position: absolute;border-left: 1px solid gray;box-sizing: border-box;top: 0;bottom: 0;left: 50%;z-index: -1;}#sk-container-id-4 div.sk-parallel-item {display: flex;flex-direction: column;z-index: 1;position: relative;background-color: white;}#sk-container-id-4 div.sk-parallel-item:first-child::after {align-self: flex-end;width: 50%;}#sk-container-id-4 div.sk-parallel-item:last-child::after {align-self: flex-start;width: 50%;}#sk-container-id-4 div.sk-parallel-item:only-child::after {width: 0;}#sk-container-id-4 div.sk-dashed-wrapped {border: 1px dashed gray;margin: 0 0.4em 0.5em 0.4em;box-sizing: border-box;padding-bottom: 0.4em;background-color: white;}#sk-container-id-4 div.sk-label label {font-family: monospace;font-weight: bold;display: inline-block;line-height: 1.2em;}#sk-container-id-4 div.sk-label-container {text-align: center;}#sk-container-id-4 div.sk-container {/* jupyter's `normalize.less` sets `[hidden] { display: none; }` but bootstrap.min.css set `[hidden] { display: none !important; }` so we also need the `!important` here to be able to override the default hidden behavior on the sphinx rendered scikit-learn.org. See: https://github.com/scikit-learn/scikit-learn/issues/21755 */display: inline-block !important;position: relative;}#sk-container-id-4 div.sk-text-repr-fallback {display: none;}</style><div id=\"sk-container-id-4\" class=\"sk-top-container\"><div class=\"sk-text-repr-fallback\"><pre>MultinomialNB()</pre><b>In a Jupyter environment, please rerun this cell to show the HTML representation or trust the notebook. <br />On GitHub, the HTML representation is unable to render, please try loading this page with nbviewer.org.</b></div><div class=\"sk-container\" hidden><div class=\"sk-item\"><div class=\"sk-estimator sk-toggleable\"><input class=\"sk-toggleable__control sk-hidden--visually\" id=\"sk-estimator-id-4\" type=\"checkbox\" checked><label for=\"sk-estimator-id-4\" class=\"sk-toggleable__label sk-toggleable__label-arrow\">MultinomialNB</label><div class=\"sk-toggleable__content\"><pre>MultinomialNB()</pre></div></div></div></div></div>"
      ],
      "text/plain": [
       "MultinomialNB()"
      ]
     },
     "execution_count": 79,
     "metadata": {},
     "output_type": "execute_result"
    }
   ],
   "source": [
    "mnb = MultinomialNB()\n",
    "mnb.fit(X_train, y_train)"
   ]
  },
  {
   "cell_type": "code",
   "execution_count": 80,
   "id": "52c8f3eb",
   "metadata": {},
   "outputs": [
    {
     "name": "stdout",
     "output_type": "stream",
     "text": [
      "#### Metrics on Train Data ####\n",
      "Accuracy is : 80.3%\n",
      "Precision is : 78.8%\n",
      "Recall is : 82.8%\n",
      "F1 Score is : 80.8%\n"
     ]
    },
    {
     "data": {
      "image/png": "[encoded data removed]",
      "text/plain": [
       "<Figure size 432x288 with 2 Axes>"
      ]
     },
     "metadata": {
      "needs_background": "light"
     },
     "output_type": "display_data"
    },
    {
     "name": "stdout",
     "output_type": "stream",
     "text": [
      "\n",
      "\n",
      "#### Metrics on Test Data ####\n",
      "Accuracy is : 80.3%\n",
      "Precision is : 95.2%\n",
      "Recall is : 82.1%\n",
      "F1 Score is : 88.1%\n"
     ]
    },
    {
     "data": {
      "image/png": "[encoded data removed]",
      "text/plain": [
       "<Figure size 432x288 with 2 Axes>"
      ]
     },
     "metadata": {
      "needs_background": "light"
     },
     "output_type": "display_data"
    }
   ],
   "source": [
    "evaluate_model(mnb, X_train, y_train, X_test, y_test)"
   ]
  },
  {
   "cell_type": "markdown",
   "id": "e69dabf0",
   "metadata": {},
   "source": [
    "Random Forest Classifier gives the best metrics. Lets try the prediction on a sample text."
   ]
  },
  {
   "cell_type": "code",
   "execution_count": 81,
   "id": "fbad9758",
   "metadata": {},
   "outputs": [
    {
     "data": {
      "text/plain": [
       "array([1.])"
      ]
     },
     "execution_count": 81,
     "metadata": {},
     "output_type": "execute_result"
    }
   ],
   "source": [
    "# Verify a sample positive feedback\n",
    "X_sample = tfidf.transform([\"Awesome product, will recommend\"])\n",
    "y_pred_sample = rfc.predict(X_sample)\n",
    "y_pred_sample"
   ]
  },
  {
   "cell_type": "code",
   "execution_count": 82,
   "id": "7fce9a34",
   "metadata": {},
   "outputs": [
    {
     "data": {
      "text/plain": [
       "array([0.])"
      ]
     },
     "execution_count": 82,
     "metadata": {},
     "output_type": "execute_result"
    }
   ],
   "source": [
    "# Verify a sample negative feedback\n",
    "X_sample = tfidf.transform([\"Bad product, quality is poor\"])\n",
    "y_pred_sample = rfc.predict(X_sample)\n",
    "y_pred_sample"
   ]
  },
  {
   "cell_type": "markdown",
   "id": "27bb9a97",
   "metadata": {},
   "source": [
    "#### Save models"
   ]
  },
  {
   "cell_type": "code",
   "execution_count": 83,
   "id": "46cc6b3d",
   "metadata": {},
   "outputs": [],
   "source": [
    "with open('models/rfc_model.pk', 'wb') as fin:\n",
    "    pickle.dump(rfc, fin)"
   ]
  },
  {
   "cell_type": "code",
   "execution_count": 84,
   "id": "1a469d3e",
   "metadata": {},
   "outputs": [],
   "source": [
    "with open('models/tfidf_vectorizer.pk', 'wb') as fin:\n",
    "    pickle.dump(tfidf, fin)"
   ]
  },
  {
   "cell_type": "markdown",
   "id": "d00c1b6b",
   "metadata": {},
   "source": [
    "## Recommendation System"
   ]
  },
  {
   "cell_type": "code",
   "execution_count": 85,
   "id": "4aa37fa2",
   "metadata": {},
   "outputs": [
    {
     "name": "stdout",
     "output_type": "stream",
     "text": [
      "<class 'pandas.core.frame.DataFrame'>\n",
      "RangeIndex: 30000 entries, 0 to 29999\n",
      "Data columns (total 4 columns):\n",
      " #   Column            Non-Null Count  Dtype \n",
      "---  ------            --------------  ----- \n",
      " 0   id                30000 non-null  object\n",
      " 1   name              30000 non-null  object\n",
      " 2   reviews_rating    30000 non-null  int64 \n",
      " 3   reviews_username  29937 non-null  object\n",
      "dtypes: int64(1), object(3)\n",
      "memory usage: 937.6+ KB\n"
     ]
    }
   ],
   "source": [
    "dfRecommendation = dfreviews[[\"id\", \"name\", \"reviews_rating\", \"reviews_username\"]]\n",
    "dfRecommendation.info()"
   ]
  },
  {
   "cell_type": "code",
   "execution_count": 86,
   "id": "748cab29",
   "metadata": {},
   "outputs": [
    {
     "data": {
      "text/html": [
       "<div>\n",
       "<style scoped>\n",
       "    .dataframe tbody tr th:only-of-type {\n",
       "        vertical-align: middle;\n",
       "    }\n",
       "\n",
       "    .dataframe tbody tr th {\n",
       "        vertical-align: top;\n",
       "    }\n",
       "\n",
       "    .dataframe thead th {\n",
       "        text-align: right;\n",
       "    }\n",
       "</style>\n",
       "<table border=\"1\" class=\"dataframe\">\n",
       "  <thead>\n",
       "    <tr style=\"text-align: right;\">\n",
       "      <th></th>\n",
       "      <th>index</th>\n",
       "      <th>id</th>\n",
       "      <th>name</th>\n",
       "      <th>reviews_rating</th>\n",
       "      <th>reviews_username</th>\n",
       "    </tr>\n",
       "  </thead>\n",
       "  <tbody>\n",
       "    <tr>\n",
       "      <th>0</th>\n",
       "      <td>0</td>\n",
       "      <td>AV13O1A8GV-KLJ3akUyj</td>\n",
       "      <td>Pink Friday: Roman Reloaded Re-Up (w/dvd)</td>\n",
       "      <td>5</td>\n",
       "      <td>joshua</td>\n",
       "    </tr>\n",
       "    <tr>\n",
       "      <th>1</th>\n",
       "      <td>1</td>\n",
       "      <td>AV14LG0R-jtxr-f38QfS</td>\n",
       "      <td>Lundberg Organic Cinnamon Toast Rice Cakes</td>\n",
       "      <td>5</td>\n",
       "      <td>dorothy w</td>\n",
       "    </tr>\n",
       "    <tr>\n",
       "      <th>2</th>\n",
       "      <td>2</td>\n",
       "      <td>AV14LG0R-jtxr-f38QfS</td>\n",
       "      <td>Lundberg Organic Cinnamon Toast Rice Cakes</td>\n",
       "      <td>5</td>\n",
       "      <td>dorothy w</td>\n",
       "    </tr>\n",
       "    <tr>\n",
       "      <th>3</th>\n",
       "      <td>3</td>\n",
       "      <td>AV16khLE-jtxr-f38VFn</td>\n",
       "      <td>K-Y Love Sensuality Pleasure Gel</td>\n",
       "      <td>1</td>\n",
       "      <td>rebecca</td>\n",
       "    </tr>\n",
       "    <tr>\n",
       "      <th>4</th>\n",
       "      <td>4</td>\n",
       "      <td>AV16khLE-jtxr-f38VFn</td>\n",
       "      <td>K-Y Love Sensuality Pleasure Gel</td>\n",
       "      <td>1</td>\n",
       "      <td>walker557</td>\n",
       "    </tr>\n",
       "    <tr>\n",
       "      <th>...</th>\n",
       "      <td>...</td>\n",
       "      <td>...</td>\n",
       "      <td>...</td>\n",
       "      <td>...</td>\n",
       "      <td>...</td>\n",
       "    </tr>\n",
       "    <tr>\n",
       "      <th>29932</th>\n",
       "      <td>29995</td>\n",
       "      <td>AVpfW8y_LJeJML437ySW</td>\n",
       "      <td>L'or233al Paris Elvive Extraordinary Clay Reba...</td>\n",
       "      <td>5</td>\n",
       "      <td>laurasnchz</td>\n",
       "    </tr>\n",
       "    <tr>\n",
       "      <th>29933</th>\n",
       "      <td>29996</td>\n",
       "      <td>AVpfW8y_LJeJML437ySW</td>\n",
       "      <td>L'or233al Paris Elvive Extraordinary Clay Reba...</td>\n",
       "      <td>5</td>\n",
       "      <td>scarlepadilla</td>\n",
       "    </tr>\n",
       "    <tr>\n",
       "      <th>29934</th>\n",
       "      <td>29997</td>\n",
       "      <td>AVpfW8y_LJeJML437ySW</td>\n",
       "      <td>L'or233al Paris Elvive Extraordinary Clay Reba...</td>\n",
       "      <td>5</td>\n",
       "      <td>liviasuexo</td>\n",
       "    </tr>\n",
       "    <tr>\n",
       "      <th>29935</th>\n",
       "      <td>29998</td>\n",
       "      <td>AVpfW8y_LJeJML437ySW</td>\n",
       "      <td>L'or233al Paris Elvive Extraordinary Clay Reba...</td>\n",
       "      <td>5</td>\n",
       "      <td>ktreed95</td>\n",
       "    </tr>\n",
       "    <tr>\n",
       "      <th>29936</th>\n",
       "      <td>29999</td>\n",
       "      <td>AVpfW8y_LJeJML437ySW</td>\n",
       "      <td>L'or233al Paris Elvive Extraordinary Clay Reba...</td>\n",
       "      <td>5</td>\n",
       "      <td>kcoopxoxo</td>\n",
       "    </tr>\n",
       "  </tbody>\n",
       "</table>\n",
       "<p>29937 rows × 5 columns</p>\n",
       "</div>"
      ],
      "text/plain": [
       "       index                    id  \\\n",
       "0          0  AV13O1A8GV-KLJ3akUyj   \n",
       "1          1  AV14LG0R-jtxr-f38QfS   \n",
       "2          2  AV14LG0R-jtxr-f38QfS   \n",
       "3          3  AV16khLE-jtxr-f38VFn   \n",
       "4          4  AV16khLE-jtxr-f38VFn   \n",
       "...      ...                   ...   \n",
       "29932  29995  AVpfW8y_LJeJML437ySW   \n",
       "29933  29996  AVpfW8y_LJeJML437ySW   \n",
       "29934  29997  AVpfW8y_LJeJML437ySW   \n",
       "29935  29998  AVpfW8y_LJeJML437ySW   \n",
       "29936  29999  AVpfW8y_LJeJML437ySW   \n",
       "\n",
       "                                                    name  reviews_rating  \\\n",
       "0              Pink Friday: Roman Reloaded Re-Up (w/dvd)               5   \n",
       "1             Lundberg Organic Cinnamon Toast Rice Cakes               5   \n",
       "2             Lundberg Organic Cinnamon Toast Rice Cakes               5   \n",
       "3                       K-Y Love Sensuality Pleasure Gel               1   \n",
       "4                       K-Y Love Sensuality Pleasure Gel               1   \n",
       "...                                                  ...             ...   \n",
       "29932  L'or233al Paris Elvive Extraordinary Clay Reba...               5   \n",
       "29933  L'or233al Paris Elvive Extraordinary Clay Reba...               5   \n",
       "29934  L'or233al Paris Elvive Extraordinary Clay Reba...               5   \n",
       "29935  L'or233al Paris Elvive Extraordinary Clay Reba...               5   \n",
       "29936  L'or233al Paris Elvive Extraordinary Clay Reba...               5   \n",
       "\n",
       "      reviews_username  \n",
       "0               joshua  \n",
       "1            dorothy w  \n",
       "2            dorothy w  \n",
       "3              rebecca  \n",
       "4            walker557  \n",
       "...                ...  \n",
       "29932       laurasnchz  \n",
       "29933    scarlepadilla  \n",
       "29934       liviasuexo  \n",
       "29935         ktreed95  \n",
       "29936        kcoopxoxo  \n",
       "\n",
       "[29937 rows x 5 columns]"
      ]
     },
     "execution_count": 86,
     "metadata": {},
     "output_type": "execute_result"
    }
   ],
   "source": [
    "# Remove rows where the username id null\n",
    "dfRecommendation=dfRecommendation[~dfRecommendation[\"reviews_username\"].isnull()].reset_index()\n",
    "dfRecommendation"
   ]
  },
  {
   "cell_type": "code",
   "execution_count": 87,
   "id": "6f4d5344",
   "metadata": {},
   "outputs": [],
   "source": [
    "train, test = train_test_split(dfRecommendation, train_size=0.8, random_state=100)"
   ]
  },
  {
   "cell_type": "markdown",
   "id": "81e7fcab",
   "metadata": {},
   "source": [
    "### User-User Based Approach"
   ]
  },
  {
   "cell_type": "code",
   "execution_count": 88,
   "id": "f65f84b1",
   "metadata": {},
   "outputs": [
    {
     "name": "stdout",
     "output_type": "stream",
     "text": [
      "(20555, 256)\n"
     ]
    },
    {
     "data": {
      "text/html": [
       "<div>\n",
       "<style scoped>\n",
       "    .dataframe tbody tr th:only-of-type {\n",
       "        vertical-align: middle;\n",
       "    }\n",
       "\n",
       "    .dataframe tbody tr th {\n",
       "        vertical-align: top;\n",
       "    }\n",
       "\n",
       "    .dataframe thead th {\n",
       "        text-align: right;\n",
       "    }\n",
       "</style>\n",
       "<table border=\"1\" class=\"dataframe\">\n",
       "  <thead>\n",
       "    <tr style=\"text-align: right;\">\n",
       "      <th>id</th>\n",
       "      <th>AV13O1A8GV-KLJ3akUyj</th>\n",
       "      <th>AV14LG0R-jtxr-f38QfS</th>\n",
       "      <th>AV16khLE-jtxr-f38VFn</th>\n",
       "      <th>AV1YGDqsGV-KLJ3adc-O</th>\n",
       "      <th>AV1YlENIglJLPUi8IHsX</th>\n",
       "      <th>AV1YmBrdGV-KLJ3adewb</th>\n",
       "      <th>AV1YmDL9vKc47QAVgr7_</th>\n",
       "      <th>AV1Ymf_rglJLPUi8II2v</th>\n",
       "      <th>AV1Yn94nvKc47QAVgtst</th>\n",
       "      <th>AV1YnUMYglJLPUi8IJpK</th>\n",
       "      <th>...</th>\n",
       "      <th>AVpfrfHF1cnluZ0-pRai</th>\n",
       "      <th>AVpfrgjFLJeJML43BvCc</th>\n",
       "      <th>AVpfs0tUilAPnD_xgqN2</th>\n",
       "      <th>AVpfsQoeilAPnD_xgfx5</th>\n",
       "      <th>AVpfshNsLJeJML43CB8q</th>\n",
       "      <th>AVpfthSailAPnD_xg3ON</th>\n",
       "      <th>AVpftikC1cnluZ0-p31V</th>\n",
       "      <th>AVpftymALJeJML43CZ6y</th>\n",
       "      <th>AVpfv4TlilAPnD_xhjNS</th>\n",
       "      <th>AVpfvieo1cnluZ0-qdnu</th>\n",
       "    </tr>\n",
       "    <tr>\n",
       "      <th>reviews_username</th>\n",
       "      <th></th>\n",
       "      <th></th>\n",
       "      <th></th>\n",
       "      <th></th>\n",
       "      <th></th>\n",
       "      <th></th>\n",
       "      <th></th>\n",
       "      <th></th>\n",
       "      <th></th>\n",
       "      <th></th>\n",
       "      <th></th>\n",
       "      <th></th>\n",
       "      <th></th>\n",
       "      <th></th>\n",
       "      <th></th>\n",
       "      <th></th>\n",
       "      <th></th>\n",
       "      <th></th>\n",
       "      <th></th>\n",
       "      <th></th>\n",
       "      <th></th>\n",
       "    </tr>\n",
       "  </thead>\n",
       "  <tbody>\n",
       "    <tr>\n",
       "      <th>00dog3</th>\n",
       "      <td>NaN</td>\n",
       "      <td>NaN</td>\n",
       "      <td>NaN</td>\n",
       "      <td>NaN</td>\n",
       "      <td>NaN</td>\n",
       "      <td>NaN</td>\n",
       "      <td>NaN</td>\n",
       "      <td>NaN</td>\n",
       "      <td>NaN</td>\n",
       "      <td>NaN</td>\n",
       "      <td>...</td>\n",
       "      <td>NaN</td>\n",
       "      <td>NaN</td>\n",
       "      <td>NaN</td>\n",
       "      <td>NaN</td>\n",
       "      <td>NaN</td>\n",
       "      <td>NaN</td>\n",
       "      <td>NaN</td>\n",
       "      <td>NaN</td>\n",
       "      <td>NaN</td>\n",
       "      <td>NaN</td>\n",
       "    </tr>\n",
       "    <tr>\n",
       "      <th>00sab00</th>\n",
       "      <td>NaN</td>\n",
       "      <td>NaN</td>\n",
       "      <td>NaN</td>\n",
       "      <td>NaN</td>\n",
       "      <td>NaN</td>\n",
       "      <td>NaN</td>\n",
       "      <td>NaN</td>\n",
       "      <td>NaN</td>\n",
       "      <td>NaN</td>\n",
       "      <td>NaN</td>\n",
       "      <td>...</td>\n",
       "      <td>NaN</td>\n",
       "      <td>NaN</td>\n",
       "      <td>NaN</td>\n",
       "      <td>NaN</td>\n",
       "      <td>NaN</td>\n",
       "      <td>NaN</td>\n",
       "      <td>NaN</td>\n",
       "      <td>NaN</td>\n",
       "      <td>NaN</td>\n",
       "      <td>NaN</td>\n",
       "    </tr>\n",
       "    <tr>\n",
       "      <th>01impala</th>\n",
       "      <td>NaN</td>\n",
       "      <td>NaN</td>\n",
       "      <td>NaN</td>\n",
       "      <td>NaN</td>\n",
       "      <td>NaN</td>\n",
       "      <td>NaN</td>\n",
       "      <td>NaN</td>\n",
       "      <td>NaN</td>\n",
       "      <td>NaN</td>\n",
       "      <td>NaN</td>\n",
       "      <td>...</td>\n",
       "      <td>NaN</td>\n",
       "      <td>NaN</td>\n",
       "      <td>NaN</td>\n",
       "      <td>NaN</td>\n",
       "      <td>NaN</td>\n",
       "      <td>NaN</td>\n",
       "      <td>NaN</td>\n",
       "      <td>NaN</td>\n",
       "      <td>NaN</td>\n",
       "      <td>NaN</td>\n",
       "    </tr>\n",
       "    <tr>\n",
       "      <th>02dakota</th>\n",
       "      <td>NaN</td>\n",
       "      <td>NaN</td>\n",
       "      <td>NaN</td>\n",
       "      <td>NaN</td>\n",
       "      <td>NaN</td>\n",
       "      <td>NaN</td>\n",
       "      <td>NaN</td>\n",
       "      <td>NaN</td>\n",
       "      <td>NaN</td>\n",
       "      <td>NaN</td>\n",
       "      <td>...</td>\n",
       "      <td>NaN</td>\n",
       "      <td>NaN</td>\n",
       "      <td>NaN</td>\n",
       "      <td>NaN</td>\n",
       "      <td>NaN</td>\n",
       "      <td>NaN</td>\n",
       "      <td>NaN</td>\n",
       "      <td>NaN</td>\n",
       "      <td>NaN</td>\n",
       "      <td>NaN</td>\n",
       "    </tr>\n",
       "    <tr>\n",
       "      <th>02deuce</th>\n",
       "      <td>NaN</td>\n",
       "      <td>NaN</td>\n",
       "      <td>NaN</td>\n",
       "      <td>NaN</td>\n",
       "      <td>NaN</td>\n",
       "      <td>NaN</td>\n",
       "      <td>NaN</td>\n",
       "      <td>NaN</td>\n",
       "      <td>NaN</td>\n",
       "      <td>NaN</td>\n",
       "      <td>...</td>\n",
       "      <td>NaN</td>\n",
       "      <td>NaN</td>\n",
       "      <td>NaN</td>\n",
       "      <td>NaN</td>\n",
       "      <td>NaN</td>\n",
       "      <td>NaN</td>\n",
       "      <td>NaN</td>\n",
       "      <td>NaN</td>\n",
       "      <td>NaN</td>\n",
       "      <td>NaN</td>\n",
       "    </tr>\n",
       "  </tbody>\n",
       "</table>\n",
       "<p>5 rows × 256 columns</p>\n",
       "</div>"
      ],
      "text/plain": [
       "id                AV13O1A8GV-KLJ3akUyj  AV14LG0R-jtxr-f38QfS  \\\n",
       "reviews_username                                               \n",
       "00dog3                             NaN                   NaN   \n",
       "00sab00                            NaN                   NaN   \n",
       "01impala                           NaN                   NaN   \n",
       "02dakota                           NaN                   NaN   \n",
       "02deuce                            NaN                   NaN   \n",
       "\n",
       "id                AV16khLE-jtxr-f38VFn  AV1YGDqsGV-KLJ3adc-O  \\\n",
       "reviews_username                                               \n",
       "00dog3                             NaN                   NaN   \n",
       "00sab00                            NaN                   NaN   \n",
       "01impala                           NaN                   NaN   \n",
       "02dakota                           NaN                   NaN   \n",
       "02deuce                            NaN                   NaN   \n",
       "\n",
       "id                AV1YlENIglJLPUi8IHsX  AV1YmBrdGV-KLJ3adewb  \\\n",
       "reviews_username                                               \n",
       "00dog3                             NaN                   NaN   \n",
       "00sab00                            NaN                   NaN   \n",
       "01impala                           NaN                   NaN   \n",
       "02dakota                           NaN                   NaN   \n",
       "02deuce                            NaN                   NaN   \n",
       "\n",
       "id                AV1YmDL9vKc47QAVgr7_  AV1Ymf_rglJLPUi8II2v  \\\n",
       "reviews_username                                               \n",
       "00dog3                             NaN                   NaN   \n",
       "00sab00                            NaN                   NaN   \n",
       "01impala                           NaN                   NaN   \n",
       "02dakota                           NaN                   NaN   \n",
       "02deuce                            NaN                   NaN   \n",
       "\n",
       "id                AV1Yn94nvKc47QAVgtst  AV1YnUMYglJLPUi8IJpK  ...  \\\n",
       "reviews_username                                              ...   \n",
       "00dog3                             NaN                   NaN  ...   \n",
       "00sab00                            NaN                   NaN  ...   \n",
       "01impala                           NaN                   NaN  ...   \n",
       "02dakota                           NaN                   NaN  ...   \n",
       "02deuce                            NaN                   NaN  ...   \n",
       "\n",
       "id                AVpfrfHF1cnluZ0-pRai  AVpfrgjFLJeJML43BvCc  \\\n",
       "reviews_username                                               \n",
       "00dog3                             NaN                   NaN   \n",
       "00sab00                            NaN                   NaN   \n",
       "01impala                           NaN                   NaN   \n",
       "02dakota                           NaN                   NaN   \n",
       "02deuce                            NaN                   NaN   \n",
       "\n",
       "id                AVpfs0tUilAPnD_xgqN2  AVpfsQoeilAPnD_xgfx5  \\\n",
       "reviews_username                                               \n",
       "00dog3                             NaN                   NaN   \n",
       "00sab00                            NaN                   NaN   \n",
       "01impala                           NaN                   NaN   \n",
       "02dakota                           NaN                   NaN   \n",
       "02deuce                            NaN                   NaN   \n",
       "\n",
       "id                AVpfshNsLJeJML43CB8q  AVpfthSailAPnD_xg3ON  \\\n",
       "reviews_username                                               \n",
       "00dog3                             NaN                   NaN   \n",
       "00sab00                            NaN                   NaN   \n",
       "01impala                           NaN                   NaN   \n",
       "02dakota                           NaN                   NaN   \n",
       "02deuce                            NaN                   NaN   \n",
       "\n",
       "id                AVpftikC1cnluZ0-p31V  AVpftymALJeJML43CZ6y  \\\n",
       "reviews_username                                               \n",
       "00dog3                             NaN                   NaN   \n",
       "00sab00                            NaN                   NaN   \n",
       "01impala                           NaN                   NaN   \n",
       "02dakota                           NaN                   NaN   \n",
       "02deuce                            NaN                   NaN   \n",
       "\n",
       "id                AVpfv4TlilAPnD_xhjNS  AVpfvieo1cnluZ0-qdnu  \n",
       "reviews_username                                              \n",
       "00dog3                             NaN                   NaN  \n",
       "00sab00                            NaN                   NaN  \n",
       "01impala                           NaN                   NaN  \n",
       "02dakota                           NaN                   NaN  \n",
       "02deuce                            NaN                   NaN  \n",
       "\n",
       "[5 rows x 256 columns]"
      ]
     },
     "execution_count": 88,
     "metadata": {},
     "output_type": "execute_result"
    }
   ],
   "source": [
    "df_pivot = train.pivot_table(index=\"reviews_username\", columns = \"id\", values = \"reviews_rating\")\n",
    "print(df_pivot.shape)\n",
    "df_pivot.head()"
   ]
  },
  {
   "cell_type": "code",
   "execution_count": 89,
   "id": "f3d46263",
   "metadata": {},
   "outputs": [
    {
     "name": "stdout",
     "output_type": "stream",
     "text": [
      "(20555, 256)\n"
     ]
    },
    {
     "data": {
      "text/html": [
       "<div>\n",
       "<style scoped>\n",
       "    .dataframe tbody tr th:only-of-type {\n",
       "        vertical-align: middle;\n",
       "    }\n",
       "\n",
       "    .dataframe tbody tr th {\n",
       "        vertical-align: top;\n",
       "    }\n",
       "\n",
       "    .dataframe thead th {\n",
       "        text-align: right;\n",
       "    }\n",
       "</style>\n",
       "<table border=\"1\" class=\"dataframe\">\n",
       "  <thead>\n",
       "    <tr style=\"text-align: right;\">\n",
       "      <th>id</th>\n",
       "      <th>AV13O1A8GV-KLJ3akUyj</th>\n",
       "      <th>AV14LG0R-jtxr-f38QfS</th>\n",
       "      <th>AV16khLE-jtxr-f38VFn</th>\n",
       "      <th>AV1YGDqsGV-KLJ3adc-O</th>\n",
       "      <th>AV1YlENIglJLPUi8IHsX</th>\n",
       "      <th>AV1YmBrdGV-KLJ3adewb</th>\n",
       "      <th>AV1YmDL9vKc47QAVgr7_</th>\n",
       "      <th>AV1Ymf_rglJLPUi8II2v</th>\n",
       "      <th>AV1Yn94nvKc47QAVgtst</th>\n",
       "      <th>AV1YnUMYglJLPUi8IJpK</th>\n",
       "      <th>...</th>\n",
       "      <th>AVpfrfHF1cnluZ0-pRai</th>\n",
       "      <th>AVpfrgjFLJeJML43BvCc</th>\n",
       "      <th>AVpfs0tUilAPnD_xgqN2</th>\n",
       "      <th>AVpfsQoeilAPnD_xgfx5</th>\n",
       "      <th>AVpfshNsLJeJML43CB8q</th>\n",
       "      <th>AVpfthSailAPnD_xg3ON</th>\n",
       "      <th>AVpftikC1cnluZ0-p31V</th>\n",
       "      <th>AVpftymALJeJML43CZ6y</th>\n",
       "      <th>AVpfv4TlilAPnD_xhjNS</th>\n",
       "      <th>AVpfvieo1cnluZ0-qdnu</th>\n",
       "    </tr>\n",
       "    <tr>\n",
       "      <th>reviews_username</th>\n",
       "      <th></th>\n",
       "      <th></th>\n",
       "      <th></th>\n",
       "      <th></th>\n",
       "      <th></th>\n",
       "      <th></th>\n",
       "      <th></th>\n",
       "      <th></th>\n",
       "      <th></th>\n",
       "      <th></th>\n",
       "      <th></th>\n",
       "      <th></th>\n",
       "      <th></th>\n",
       "      <th></th>\n",
       "      <th></th>\n",
       "      <th></th>\n",
       "      <th></th>\n",
       "      <th></th>\n",
       "      <th></th>\n",
       "      <th></th>\n",
       "      <th></th>\n",
       "    </tr>\n",
       "  </thead>\n",
       "  <tbody>\n",
       "    <tr>\n",
       "      <th>00dog3</th>\n",
       "      <td>NaN</td>\n",
       "      <td>NaN</td>\n",
       "      <td>NaN</td>\n",
       "      <td>NaN</td>\n",
       "      <td>NaN</td>\n",
       "      <td>NaN</td>\n",
       "      <td>NaN</td>\n",
       "      <td>NaN</td>\n",
       "      <td>NaN</td>\n",
       "      <td>NaN</td>\n",
       "      <td>...</td>\n",
       "      <td>NaN</td>\n",
       "      <td>NaN</td>\n",
       "      <td>NaN</td>\n",
       "      <td>NaN</td>\n",
       "      <td>NaN</td>\n",
       "      <td>NaN</td>\n",
       "      <td>NaN</td>\n",
       "      <td>NaN</td>\n",
       "      <td>NaN</td>\n",
       "      <td>NaN</td>\n",
       "    </tr>\n",
       "    <tr>\n",
       "      <th>00sab00</th>\n",
       "      <td>NaN</td>\n",
       "      <td>NaN</td>\n",
       "      <td>NaN</td>\n",
       "      <td>NaN</td>\n",
       "      <td>NaN</td>\n",
       "      <td>NaN</td>\n",
       "      <td>NaN</td>\n",
       "      <td>NaN</td>\n",
       "      <td>NaN</td>\n",
       "      <td>NaN</td>\n",
       "      <td>...</td>\n",
       "      <td>NaN</td>\n",
       "      <td>NaN</td>\n",
       "      <td>NaN</td>\n",
       "      <td>NaN</td>\n",
       "      <td>NaN</td>\n",
       "      <td>NaN</td>\n",
       "      <td>NaN</td>\n",
       "      <td>NaN</td>\n",
       "      <td>NaN</td>\n",
       "      <td>NaN</td>\n",
       "    </tr>\n",
       "    <tr>\n",
       "      <th>01impala</th>\n",
       "      <td>NaN</td>\n",
       "      <td>NaN</td>\n",
       "      <td>NaN</td>\n",
       "      <td>NaN</td>\n",
       "      <td>NaN</td>\n",
       "      <td>NaN</td>\n",
       "      <td>NaN</td>\n",
       "      <td>NaN</td>\n",
       "      <td>NaN</td>\n",
       "      <td>NaN</td>\n",
       "      <td>...</td>\n",
       "      <td>NaN</td>\n",
       "      <td>NaN</td>\n",
       "      <td>NaN</td>\n",
       "      <td>NaN</td>\n",
       "      <td>NaN</td>\n",
       "      <td>NaN</td>\n",
       "      <td>NaN</td>\n",
       "      <td>NaN</td>\n",
       "      <td>NaN</td>\n",
       "      <td>NaN</td>\n",
       "    </tr>\n",
       "    <tr>\n",
       "      <th>02dakota</th>\n",
       "      <td>NaN</td>\n",
       "      <td>NaN</td>\n",
       "      <td>NaN</td>\n",
       "      <td>NaN</td>\n",
       "      <td>NaN</td>\n",
       "      <td>NaN</td>\n",
       "      <td>NaN</td>\n",
       "      <td>NaN</td>\n",
       "      <td>NaN</td>\n",
       "      <td>NaN</td>\n",
       "      <td>...</td>\n",
       "      <td>NaN</td>\n",
       "      <td>NaN</td>\n",
       "      <td>NaN</td>\n",
       "      <td>NaN</td>\n",
       "      <td>NaN</td>\n",
       "      <td>NaN</td>\n",
       "      <td>NaN</td>\n",
       "      <td>NaN</td>\n",
       "      <td>NaN</td>\n",
       "      <td>NaN</td>\n",
       "    </tr>\n",
       "    <tr>\n",
       "      <th>02deuce</th>\n",
       "      <td>NaN</td>\n",
       "      <td>NaN</td>\n",
       "      <td>NaN</td>\n",
       "      <td>NaN</td>\n",
       "      <td>NaN</td>\n",
       "      <td>NaN</td>\n",
       "      <td>NaN</td>\n",
       "      <td>NaN</td>\n",
       "      <td>NaN</td>\n",
       "      <td>NaN</td>\n",
       "      <td>...</td>\n",
       "      <td>NaN</td>\n",
       "      <td>NaN</td>\n",
       "      <td>NaN</td>\n",
       "      <td>NaN</td>\n",
       "      <td>NaN</td>\n",
       "      <td>NaN</td>\n",
       "      <td>NaN</td>\n",
       "      <td>NaN</td>\n",
       "      <td>NaN</td>\n",
       "      <td>NaN</td>\n",
       "    </tr>\n",
       "  </tbody>\n",
       "</table>\n",
       "<p>5 rows × 256 columns</p>\n",
       "</div>"
      ],
      "text/plain": [
       "id                AV13O1A8GV-KLJ3akUyj  AV14LG0R-jtxr-f38QfS  \\\n",
       "reviews_username                                               \n",
       "00dog3                             NaN                   NaN   \n",
       "00sab00                            NaN                   NaN   \n",
       "01impala                           NaN                   NaN   \n",
       "02dakota                           NaN                   NaN   \n",
       "02deuce                            NaN                   NaN   \n",
       "\n",
       "id                AV16khLE-jtxr-f38VFn  AV1YGDqsGV-KLJ3adc-O  \\\n",
       "reviews_username                                               \n",
       "00dog3                             NaN                   NaN   \n",
       "00sab00                            NaN                   NaN   \n",
       "01impala                           NaN                   NaN   \n",
       "02dakota                           NaN                   NaN   \n",
       "02deuce                            NaN                   NaN   \n",
       "\n",
       "id                AV1YlENIglJLPUi8IHsX  AV1YmBrdGV-KLJ3adewb  \\\n",
       "reviews_username                                               \n",
       "00dog3                             NaN                   NaN   \n",
       "00sab00                            NaN                   NaN   \n",
       "01impala                           NaN                   NaN   \n",
       "02dakota                           NaN                   NaN   \n",
       "02deuce                            NaN                   NaN   \n",
       "\n",
       "id                AV1YmDL9vKc47QAVgr7_  AV1Ymf_rglJLPUi8II2v  \\\n",
       "reviews_username                                               \n",
       "00dog3                             NaN                   NaN   \n",
       "00sab00                            NaN                   NaN   \n",
       "01impala                           NaN                   NaN   \n",
       "02dakota                           NaN                   NaN   \n",
       "02deuce                            NaN                   NaN   \n",
       "\n",
       "id                AV1Yn94nvKc47QAVgtst  AV1YnUMYglJLPUi8IJpK  ...  \\\n",
       "reviews_username                                              ...   \n",
       "00dog3                             NaN                   NaN  ...   \n",
       "00sab00                            NaN                   NaN  ...   \n",
       "01impala                           NaN                   NaN  ...   \n",
       "02dakota                           NaN                   NaN  ...   \n",
       "02deuce                            NaN                   NaN  ...   \n",
       "\n",
       "id                AVpfrfHF1cnluZ0-pRai  AVpfrgjFLJeJML43BvCc  \\\n",
       "reviews_username                                               \n",
       "00dog3                             NaN                   NaN   \n",
       "00sab00                            NaN                   NaN   \n",
       "01impala                           NaN                   NaN   \n",
       "02dakota                           NaN                   NaN   \n",
       "02deuce                            NaN                   NaN   \n",
       "\n",
       "id                AVpfs0tUilAPnD_xgqN2  AVpfsQoeilAPnD_xgfx5  \\\n",
       "reviews_username                                               \n",
       "00dog3                             NaN                   NaN   \n",
       "00sab00                            NaN                   NaN   \n",
       "01impala                           NaN                   NaN   \n",
       "02dakota                           NaN                   NaN   \n",
       "02deuce                            NaN                   NaN   \n",
       "\n",
       "id                AVpfshNsLJeJML43CB8q  AVpfthSailAPnD_xg3ON  \\\n",
       "reviews_username                                               \n",
       "00dog3                             NaN                   NaN   \n",
       "00sab00                            NaN                   NaN   \n",
       "01impala                           NaN                   NaN   \n",
       "02dakota                           NaN                   NaN   \n",
       "02deuce                            NaN                   NaN   \n",
       "\n",
       "id                AVpftikC1cnluZ0-p31V  AVpftymALJeJML43CZ6y  \\\n",
       "reviews_username                                               \n",
       "00dog3                             NaN                   NaN   \n",
       "00sab00                            NaN                   NaN   \n",
       "01impala                           NaN                   NaN   \n",
       "02dakota                           NaN                   NaN   \n",
       "02deuce                            NaN                   NaN   \n",
       "\n",
       "id                AVpfv4TlilAPnD_xhjNS  AVpfvieo1cnluZ0-qdnu  \n",
       "reviews_username                                              \n",
       "00dog3                             NaN                   NaN  \n",
       "00sab00                            NaN                   NaN  \n",
       "01impala                           NaN                   NaN  \n",
       "02dakota                           NaN                   NaN  \n",
       "02deuce                            NaN                   NaN  \n",
       "\n",
       "[5 rows x 256 columns]"
      ]
     },
     "execution_count": 89,
     "metadata": {},
     "output_type": "execute_result"
    }
   ],
   "source": [
    "# Normalising the rating for each user\n",
    "mean = np.nanmean(df_pivot, axis=1)\n",
    "df_subtracted = (df_pivot.T-mean).T\n",
    "print(df_subtracted.shape)\n",
    "df_subtracted.head()"
   ]
  },
  {
   "cell_type": "code",
   "execution_count": 90,
   "id": "30b5d5c1",
   "metadata": {},
   "outputs": [
    {
     "data": {
      "text/html": [
       "<div>\n",
       "<style scoped>\n",
       "    .dataframe tbody tr th:only-of-type {\n",
       "        vertical-align: middle;\n",
       "    }\n",
       "\n",
       "    .dataframe tbody tr th {\n",
       "        vertical-align: top;\n",
       "    }\n",
       "\n",
       "    .dataframe thead th {\n",
       "        text-align: right;\n",
       "    }\n",
       "</style>\n",
       "<table border=\"1\" class=\"dataframe\">\n",
       "  <thead>\n",
       "    <tr style=\"text-align: right;\">\n",
       "      <th>id</th>\n",
       "      <th>AV13O1A8GV-KLJ3akUyj</th>\n",
       "      <th>AV14LG0R-jtxr-f38QfS</th>\n",
       "      <th>AV16khLE-jtxr-f38VFn</th>\n",
       "      <th>AV1YGDqsGV-KLJ3adc-O</th>\n",
       "      <th>AV1YlENIglJLPUi8IHsX</th>\n",
       "      <th>AV1YmBrdGV-KLJ3adewb</th>\n",
       "      <th>AV1YmDL9vKc47QAVgr7_</th>\n",
       "      <th>AV1Ymf_rglJLPUi8II2v</th>\n",
       "      <th>AV1Yn94nvKc47QAVgtst</th>\n",
       "      <th>AV1YnUMYglJLPUi8IJpK</th>\n",
       "      <th>...</th>\n",
       "      <th>AVpfrfHF1cnluZ0-pRai</th>\n",
       "      <th>AVpfrgjFLJeJML43BvCc</th>\n",
       "      <th>AVpfs0tUilAPnD_xgqN2</th>\n",
       "      <th>AVpfsQoeilAPnD_xgfx5</th>\n",
       "      <th>AVpfshNsLJeJML43CB8q</th>\n",
       "      <th>AVpfthSailAPnD_xg3ON</th>\n",
       "      <th>AVpftikC1cnluZ0-p31V</th>\n",
       "      <th>AVpftymALJeJML43CZ6y</th>\n",
       "      <th>AVpfv4TlilAPnD_xhjNS</th>\n",
       "      <th>AVpfvieo1cnluZ0-qdnu</th>\n",
       "    </tr>\n",
       "    <tr>\n",
       "      <th>reviews_username</th>\n",
       "      <th></th>\n",
       "      <th></th>\n",
       "      <th></th>\n",
       "      <th></th>\n",
       "      <th></th>\n",
       "      <th></th>\n",
       "      <th></th>\n",
       "      <th></th>\n",
       "      <th></th>\n",
       "      <th></th>\n",
       "      <th></th>\n",
       "      <th></th>\n",
       "      <th></th>\n",
       "      <th></th>\n",
       "      <th></th>\n",
       "      <th></th>\n",
       "      <th></th>\n",
       "      <th></th>\n",
       "      <th></th>\n",
       "      <th></th>\n",
       "      <th></th>\n",
       "    </tr>\n",
       "  </thead>\n",
       "  <tbody>\n",
       "    <tr>\n",
       "      <th>00dog3</th>\n",
       "      <td>1.0</td>\n",
       "      <td>1.0</td>\n",
       "      <td>1.0</td>\n",
       "      <td>1.0</td>\n",
       "      <td>1.0</td>\n",
       "      <td>1.0</td>\n",
       "      <td>1.0</td>\n",
       "      <td>1.0</td>\n",
       "      <td>1.0</td>\n",
       "      <td>1.0</td>\n",
       "      <td>...</td>\n",
       "      <td>1.0</td>\n",
       "      <td>1.0</td>\n",
       "      <td>1.0</td>\n",
       "      <td>1.0</td>\n",
       "      <td>1.0</td>\n",
       "      <td>1.0</td>\n",
       "      <td>1.0</td>\n",
       "      <td>1.0</td>\n",
       "      <td>1.0</td>\n",
       "      <td>1.0</td>\n",
       "    </tr>\n",
       "    <tr>\n",
       "      <th>00sab00</th>\n",
       "      <td>1.0</td>\n",
       "      <td>1.0</td>\n",
       "      <td>1.0</td>\n",
       "      <td>1.0</td>\n",
       "      <td>1.0</td>\n",
       "      <td>1.0</td>\n",
       "      <td>1.0</td>\n",
       "      <td>1.0</td>\n",
       "      <td>1.0</td>\n",
       "      <td>1.0</td>\n",
       "      <td>...</td>\n",
       "      <td>1.0</td>\n",
       "      <td>1.0</td>\n",
       "      <td>1.0</td>\n",
       "      <td>1.0</td>\n",
       "      <td>1.0</td>\n",
       "      <td>1.0</td>\n",
       "      <td>1.0</td>\n",
       "      <td>1.0</td>\n",
       "      <td>1.0</td>\n",
       "      <td>1.0</td>\n",
       "    </tr>\n",
       "    <tr>\n",
       "      <th>01impala</th>\n",
       "      <td>1.0</td>\n",
       "      <td>1.0</td>\n",
       "      <td>1.0</td>\n",
       "      <td>1.0</td>\n",
       "      <td>1.0</td>\n",
       "      <td>1.0</td>\n",
       "      <td>1.0</td>\n",
       "      <td>1.0</td>\n",
       "      <td>1.0</td>\n",
       "      <td>1.0</td>\n",
       "      <td>...</td>\n",
       "      <td>1.0</td>\n",
       "      <td>1.0</td>\n",
       "      <td>1.0</td>\n",
       "      <td>1.0</td>\n",
       "      <td>1.0</td>\n",
       "      <td>1.0</td>\n",
       "      <td>1.0</td>\n",
       "      <td>1.0</td>\n",
       "      <td>1.0</td>\n",
       "      <td>1.0</td>\n",
       "    </tr>\n",
       "    <tr>\n",
       "      <th>02dakota</th>\n",
       "      <td>1.0</td>\n",
       "      <td>1.0</td>\n",
       "      <td>1.0</td>\n",
       "      <td>1.0</td>\n",
       "      <td>1.0</td>\n",
       "      <td>1.0</td>\n",
       "      <td>1.0</td>\n",
       "      <td>1.0</td>\n",
       "      <td>1.0</td>\n",
       "      <td>1.0</td>\n",
       "      <td>...</td>\n",
       "      <td>1.0</td>\n",
       "      <td>1.0</td>\n",
       "      <td>1.0</td>\n",
       "      <td>1.0</td>\n",
       "      <td>1.0</td>\n",
       "      <td>1.0</td>\n",
       "      <td>1.0</td>\n",
       "      <td>1.0</td>\n",
       "      <td>1.0</td>\n",
       "      <td>1.0</td>\n",
       "    </tr>\n",
       "    <tr>\n",
       "      <th>02deuce</th>\n",
       "      <td>1.0</td>\n",
       "      <td>1.0</td>\n",
       "      <td>1.0</td>\n",
       "      <td>1.0</td>\n",
       "      <td>1.0</td>\n",
       "      <td>1.0</td>\n",
       "      <td>1.0</td>\n",
       "      <td>1.0</td>\n",
       "      <td>1.0</td>\n",
       "      <td>1.0</td>\n",
       "      <td>...</td>\n",
       "      <td>1.0</td>\n",
       "      <td>1.0</td>\n",
       "      <td>1.0</td>\n",
       "      <td>1.0</td>\n",
       "      <td>1.0</td>\n",
       "      <td>1.0</td>\n",
       "      <td>1.0</td>\n",
       "      <td>1.0</td>\n",
       "      <td>1.0</td>\n",
       "      <td>1.0</td>\n",
       "    </tr>\n",
       "  </tbody>\n",
       "</table>\n",
       "<p>5 rows × 256 columns</p>\n",
       "</div>"
      ],
      "text/plain": [
       "id                AV13O1A8GV-KLJ3akUyj  AV14LG0R-jtxr-f38QfS  \\\n",
       "reviews_username                                               \n",
       "00dog3                             1.0                   1.0   \n",
       "00sab00                            1.0                   1.0   \n",
       "01impala                           1.0                   1.0   \n",
       "02dakota                           1.0                   1.0   \n",
       "02deuce                            1.0                   1.0   \n",
       "\n",
       "id                AV16khLE-jtxr-f38VFn  AV1YGDqsGV-KLJ3adc-O  \\\n",
       "reviews_username                                               \n",
       "00dog3                             1.0                   1.0   \n",
       "00sab00                            1.0                   1.0   \n",
       "01impala                           1.0                   1.0   \n",
       "02dakota                           1.0                   1.0   \n",
       "02deuce                            1.0                   1.0   \n",
       "\n",
       "id                AV1YlENIglJLPUi8IHsX  AV1YmBrdGV-KLJ3adewb  \\\n",
       "reviews_username                                               \n",
       "00dog3                             1.0                   1.0   \n",
       "00sab00                            1.0                   1.0   \n",
       "01impala                           1.0                   1.0   \n",
       "02dakota                           1.0                   1.0   \n",
       "02deuce                            1.0                   1.0   \n",
       "\n",
       "id                AV1YmDL9vKc47QAVgr7_  AV1Ymf_rglJLPUi8II2v  \\\n",
       "reviews_username                                               \n",
       "00dog3                             1.0                   1.0   \n",
       "00sab00                            1.0                   1.0   \n",
       "01impala                           1.0                   1.0   \n",
       "02dakota                           1.0                   1.0   \n",
       "02deuce                            1.0                   1.0   \n",
       "\n",
       "id                AV1Yn94nvKc47QAVgtst  AV1YnUMYglJLPUi8IJpK  ...  \\\n",
       "reviews_username                                              ...   \n",
       "00dog3                             1.0                   1.0  ...   \n",
       "00sab00                            1.0                   1.0  ...   \n",
       "01impala                           1.0                   1.0  ...   \n",
       "02dakota                           1.0                   1.0  ...   \n",
       "02deuce                            1.0                   1.0  ...   \n",
       "\n",
       "id                AVpfrfHF1cnluZ0-pRai  AVpfrgjFLJeJML43BvCc  \\\n",
       "reviews_username                                               \n",
       "00dog3                             1.0                   1.0   \n",
       "00sab00                            1.0                   1.0   \n",
       "01impala                           1.0                   1.0   \n",
       "02dakota                           1.0                   1.0   \n",
       "02deuce                            1.0                   1.0   \n",
       "\n",
       "id                AVpfs0tUilAPnD_xgqN2  AVpfsQoeilAPnD_xgfx5  \\\n",
       "reviews_username                                               \n",
       "00dog3                             1.0                   1.0   \n",
       "00sab00                            1.0                   1.0   \n",
       "01impala                           1.0                   1.0   \n",
       "02dakota                           1.0                   1.0   \n",
       "02deuce                            1.0                   1.0   \n",
       "\n",
       "id                AVpfshNsLJeJML43CB8q  AVpfthSailAPnD_xg3ON  \\\n",
       "reviews_username                                               \n",
       "00dog3                             1.0                   1.0   \n",
       "00sab00                            1.0                   1.0   \n",
       "01impala                           1.0                   1.0   \n",
       "02dakota                           1.0                   1.0   \n",
       "02deuce                            1.0                   1.0   \n",
       "\n",
       "id                AVpftikC1cnluZ0-p31V  AVpftymALJeJML43CZ6y  \\\n",
       "reviews_username                                               \n",
       "00dog3                             1.0                   1.0   \n",
       "00sab00                            1.0                   1.0   \n",
       "01impala                           1.0                   1.0   \n",
       "02dakota                           1.0                   1.0   \n",
       "02deuce                            1.0                   1.0   \n",
       "\n",
       "id                AVpfv4TlilAPnD_xhjNS  AVpfvieo1cnluZ0-qdnu  \n",
       "reviews_username                                              \n",
       "00dog3                             1.0                   1.0  \n",
       "00sab00                            1.0                   1.0  \n",
       "01impala                           1.0                   1.0  \n",
       "02dakota                           1.0                   1.0  \n",
       "02deuce                            1.0                   1.0  \n",
       "\n",
       "[5 rows x 256 columns]"
      ]
     },
     "execution_count": 90,
     "metadata": {},
     "output_type": "execute_result"
    }
   ],
   "source": [
    "# Creating dummy train and test to be used for prediction of the products not rated by the user\n",
    "dummy_train = train.copy()\n",
    "# The products not rated by user is marked as 1 for prediction. \n",
    "dummy_train['reviews_rating'] = dummy_train['reviews_rating'].apply(lambda x: 0 if x>=1 else 1)\n",
    "# Convert the dummy train dataset into matrix format.\n",
    "dummy_train = dummy_train.pivot_table(index=\"reviews_username\", columns = \"id\", values = \"reviews_rating\").fillna(1)\n",
    "dummy_train.head()"
   ]
  },
  {
   "cell_type": "markdown",
   "id": "cb67605f",
   "metadata": {},
   "source": [
    "#### Cosine Similarity"
   ]
  },
  {
   "cell_type": "code",
   "execution_count": 91,
   "id": "e524aa89",
   "metadata": {},
   "outputs": [
    {
     "name": "stdout",
     "output_type": "stream",
     "text": [
      "[[0. 0. 0. ... 0. 0. 0.]\n",
      " [0. 1. 0. ... 0. 0. 0.]\n",
      " [0. 0. 0. ... 0. 0. 0.]\n",
      " ...\n",
      " [0. 0. 0. ... 0. 0. 0.]\n",
      " [0. 0. 0. ... 0. 0. 0.]\n",
      " [0. 0. 0. ... 0. 0. 0.]]\n"
     ]
    }
   ],
   "source": [
    "# Creating the User Similarity Matrix using pairwise_distance function.\n",
    "user_correlation = 1 - pairwise_distances(df_subtracted.fillna(0), metric='cosine')\n",
    "user_correlation[np.isnan(user_correlation)] = 0\n",
    "print(user_correlation)"
   ]
  },
  {
   "cell_type": "markdown",
   "id": "0dbea4f9",
   "metadata": {},
   "source": [
    "#### Prediction"
   ]
  },
  {
   "cell_type": "code",
   "execution_count": 92,
   "id": "f409ae76",
   "metadata": {},
   "outputs": [
    {
     "name": "stdout",
     "output_type": "stream",
     "text": [
      "(20555, 20555)\n"
     ]
    },
    {
     "data": {
      "text/plain": [
       "array([[0., 0., 0., ..., 0., 0., 0.],\n",
       "       [0., 1., 0., ..., 0., 0., 0.],\n",
       "       [0., 0., 0., ..., 0., 0., 0.],\n",
       "       ...,\n",
       "       [0., 0., 0., ..., 0., 0., 0.],\n",
       "       [0., 0., 0., ..., 0., 0., 0.],\n",
       "       [0., 0., 0., ..., 0., 0., 0.]])"
      ]
     },
     "execution_count": 92,
     "metadata": {},
     "output_type": "execute_result"
    }
   ],
   "source": [
    "# Prediction for the users which are positively related with other users\n",
    "user_correlation[user_correlation<0]=0\n",
    "print(user_correlation.shape)\n",
    "user_correlation"
   ]
  },
  {
   "cell_type": "code",
   "execution_count": 93,
   "id": "570afe61",
   "metadata": {},
   "outputs": [
    {
     "name": "stdout",
     "output_type": "stream",
     "text": [
      "(20555, 256)\n"
     ]
    },
    {
     "data": {
      "text/html": [
       "<div>\n",
       "<style scoped>\n",
       "    .dataframe tbody tr th:only-of-type {\n",
       "        vertical-align: middle;\n",
       "    }\n",
       "\n",
       "    .dataframe tbody tr th {\n",
       "        vertical-align: top;\n",
       "    }\n",
       "\n",
       "    .dataframe thead th {\n",
       "        text-align: right;\n",
       "    }\n",
       "</style>\n",
       "<table border=\"1\" class=\"dataframe\">\n",
       "  <thead>\n",
       "    <tr style=\"text-align: right;\">\n",
       "      <th>id</th>\n",
       "      <th>AV13O1A8GV-KLJ3akUyj</th>\n",
       "      <th>AV14LG0R-jtxr-f38QfS</th>\n",
       "      <th>AV16khLE-jtxr-f38VFn</th>\n",
       "      <th>AV1YGDqsGV-KLJ3adc-O</th>\n",
       "      <th>AV1YlENIglJLPUi8IHsX</th>\n",
       "      <th>AV1YmBrdGV-KLJ3adewb</th>\n",
       "      <th>AV1YmDL9vKc47QAVgr7_</th>\n",
       "      <th>AV1Ymf_rglJLPUi8II2v</th>\n",
       "      <th>AV1Yn94nvKc47QAVgtst</th>\n",
       "      <th>AV1YnUMYglJLPUi8IJpK</th>\n",
       "      <th>...</th>\n",
       "      <th>AVpfrfHF1cnluZ0-pRai</th>\n",
       "      <th>AVpfrgjFLJeJML43BvCc</th>\n",
       "      <th>AVpfs0tUilAPnD_xgqN2</th>\n",
       "      <th>AVpfsQoeilAPnD_xgfx5</th>\n",
       "      <th>AVpfshNsLJeJML43CB8q</th>\n",
       "      <th>AVpfthSailAPnD_xg3ON</th>\n",
       "      <th>AVpftikC1cnluZ0-p31V</th>\n",
       "      <th>AVpftymALJeJML43CZ6y</th>\n",
       "      <th>AVpfv4TlilAPnD_xhjNS</th>\n",
       "      <th>AVpfvieo1cnluZ0-qdnu</th>\n",
       "    </tr>\n",
       "    <tr>\n",
       "      <th>reviews_username</th>\n",
       "      <th></th>\n",
       "      <th></th>\n",
       "      <th></th>\n",
       "      <th></th>\n",
       "      <th></th>\n",
       "      <th></th>\n",
       "      <th></th>\n",
       "      <th></th>\n",
       "      <th></th>\n",
       "      <th></th>\n",
       "      <th></th>\n",
       "      <th></th>\n",
       "      <th></th>\n",
       "      <th></th>\n",
       "      <th></th>\n",
       "      <th></th>\n",
       "      <th></th>\n",
       "      <th></th>\n",
       "      <th></th>\n",
       "      <th></th>\n",
       "      <th></th>\n",
       "    </tr>\n",
       "  </thead>\n",
       "  <tbody>\n",
       "    <tr>\n",
       "      <th>00dog3</th>\n",
       "      <td>0.0</td>\n",
       "      <td>0.0</td>\n",
       "      <td>0.0</td>\n",
       "      <td>0.000000</td>\n",
       "      <td>0.0</td>\n",
       "      <td>0.0</td>\n",
       "      <td>0.00000</td>\n",
       "      <td>0.0</td>\n",
       "      <td>0.000000</td>\n",
       "      <td>0.0</td>\n",
       "      <td>...</td>\n",
       "      <td>0.0</td>\n",
       "      <td>0.0</td>\n",
       "      <td>0.000000</td>\n",
       "      <td>0.0</td>\n",
       "      <td>0.0</td>\n",
       "      <td>0.0</td>\n",
       "      <td>0.000000</td>\n",
       "      <td>0.0</td>\n",
       "      <td>0.0</td>\n",
       "      <td>0.0</td>\n",
       "    </tr>\n",
       "    <tr>\n",
       "      <th>00sab00</th>\n",
       "      <td>0.0</td>\n",
       "      <td>0.0</td>\n",
       "      <td>2.5</td>\n",
       "      <td>5.828828</td>\n",
       "      <td>0.0</td>\n",
       "      <td>0.0</td>\n",
       "      <td>0.67658</td>\n",
       "      <td>0.0</td>\n",
       "      <td>2.005644</td>\n",
       "      <td>0.0</td>\n",
       "      <td>...</td>\n",
       "      <td>0.0</td>\n",
       "      <td>0.0</td>\n",
       "      <td>2.592998</td>\n",
       "      <td>0.0</td>\n",
       "      <td>0.0</td>\n",
       "      <td>0.0</td>\n",
       "      <td>2.808965</td>\n",
       "      <td>0.0</td>\n",
       "      <td>0.0</td>\n",
       "      <td>0.0</td>\n",
       "    </tr>\n",
       "    <tr>\n",
       "      <th>01impala</th>\n",
       "      <td>0.0</td>\n",
       "      <td>0.0</td>\n",
       "      <td>0.0</td>\n",
       "      <td>0.000000</td>\n",
       "      <td>0.0</td>\n",
       "      <td>0.0</td>\n",
       "      <td>0.00000</td>\n",
       "      <td>0.0</td>\n",
       "      <td>0.000000</td>\n",
       "      <td>0.0</td>\n",
       "      <td>...</td>\n",
       "      <td>0.0</td>\n",
       "      <td>0.0</td>\n",
       "      <td>0.000000</td>\n",
       "      <td>0.0</td>\n",
       "      <td>0.0</td>\n",
       "      <td>0.0</td>\n",
       "      <td>0.000000</td>\n",
       "      <td>0.0</td>\n",
       "      <td>0.0</td>\n",
       "      <td>0.0</td>\n",
       "    </tr>\n",
       "    <tr>\n",
       "      <th>02dakota</th>\n",
       "      <td>0.0</td>\n",
       "      <td>0.0</td>\n",
       "      <td>0.0</td>\n",
       "      <td>0.000000</td>\n",
       "      <td>0.0</td>\n",
       "      <td>0.0</td>\n",
       "      <td>0.00000</td>\n",
       "      <td>0.0</td>\n",
       "      <td>0.000000</td>\n",
       "      <td>0.0</td>\n",
       "      <td>...</td>\n",
       "      <td>0.0</td>\n",
       "      <td>0.0</td>\n",
       "      <td>0.000000</td>\n",
       "      <td>0.0</td>\n",
       "      <td>0.0</td>\n",
       "      <td>0.0</td>\n",
       "      <td>0.000000</td>\n",
       "      <td>0.0</td>\n",
       "      <td>0.0</td>\n",
       "      <td>0.0</td>\n",
       "    </tr>\n",
       "    <tr>\n",
       "      <th>02deuce</th>\n",
       "      <td>0.0</td>\n",
       "      <td>0.0</td>\n",
       "      <td>0.0</td>\n",
       "      <td>0.000000</td>\n",
       "      <td>0.0</td>\n",
       "      <td>0.0</td>\n",
       "      <td>0.00000</td>\n",
       "      <td>0.0</td>\n",
       "      <td>0.000000</td>\n",
       "      <td>0.0</td>\n",
       "      <td>...</td>\n",
       "      <td>0.0</td>\n",
       "      <td>0.0</td>\n",
       "      <td>0.000000</td>\n",
       "      <td>0.0</td>\n",
       "      <td>0.0</td>\n",
       "      <td>0.0</td>\n",
       "      <td>0.000000</td>\n",
       "      <td>0.0</td>\n",
       "      <td>0.0</td>\n",
       "      <td>0.0</td>\n",
       "    </tr>\n",
       "  </tbody>\n",
       "</table>\n",
       "<p>5 rows × 256 columns</p>\n",
       "</div>"
      ],
      "text/plain": [
       "id                AV13O1A8GV-KLJ3akUyj  AV14LG0R-jtxr-f38QfS  \\\n",
       "reviews_username                                               \n",
       "00dog3                             0.0                   0.0   \n",
       "00sab00                            0.0                   0.0   \n",
       "01impala                           0.0                   0.0   \n",
       "02dakota                           0.0                   0.0   \n",
       "02deuce                            0.0                   0.0   \n",
       "\n",
       "id                AV16khLE-jtxr-f38VFn  AV1YGDqsGV-KLJ3adc-O  \\\n",
       "reviews_username                                               \n",
       "00dog3                             0.0              0.000000   \n",
       "00sab00                            2.5              5.828828   \n",
       "01impala                           0.0              0.000000   \n",
       "02dakota                           0.0              0.000000   \n",
       "02deuce                            0.0              0.000000   \n",
       "\n",
       "id                AV1YlENIglJLPUi8IHsX  AV1YmBrdGV-KLJ3adewb  \\\n",
       "reviews_username                                               \n",
       "00dog3                             0.0                   0.0   \n",
       "00sab00                            0.0                   0.0   \n",
       "01impala                           0.0                   0.0   \n",
       "02dakota                           0.0                   0.0   \n",
       "02deuce                            0.0                   0.0   \n",
       "\n",
       "id                AV1YmDL9vKc47QAVgr7_  AV1Ymf_rglJLPUi8II2v  \\\n",
       "reviews_username                                               \n",
       "00dog3                         0.00000                   0.0   \n",
       "00sab00                        0.67658                   0.0   \n",
       "01impala                       0.00000                   0.0   \n",
       "02dakota                       0.00000                   0.0   \n",
       "02deuce                        0.00000                   0.0   \n",
       "\n",
       "id                AV1Yn94nvKc47QAVgtst  AV1YnUMYglJLPUi8IJpK  ...  \\\n",
       "reviews_username                                              ...   \n",
       "00dog3                        0.000000                   0.0  ...   \n",
       "00sab00                       2.005644                   0.0  ...   \n",
       "01impala                      0.000000                   0.0  ...   \n",
       "02dakota                      0.000000                   0.0  ...   \n",
       "02deuce                       0.000000                   0.0  ...   \n",
       "\n",
       "id                AVpfrfHF1cnluZ0-pRai  AVpfrgjFLJeJML43BvCc  \\\n",
       "reviews_username                                               \n",
       "00dog3                             0.0                   0.0   \n",
       "00sab00                            0.0                   0.0   \n",
       "01impala                           0.0                   0.0   \n",
       "02dakota                           0.0                   0.0   \n",
       "02deuce                            0.0                   0.0   \n",
       "\n",
       "id                AVpfs0tUilAPnD_xgqN2  AVpfsQoeilAPnD_xgfx5  \\\n",
       "reviews_username                                               \n",
       "00dog3                        0.000000                   0.0   \n",
       "00sab00                       2.592998                   0.0   \n",
       "01impala                      0.000000                   0.0   \n",
       "02dakota                      0.000000                   0.0   \n",
       "02deuce                       0.000000                   0.0   \n",
       "\n",
       "id                AVpfshNsLJeJML43CB8q  AVpfthSailAPnD_xg3ON  \\\n",
       "reviews_username                                               \n",
       "00dog3                             0.0                   0.0   \n",
       "00sab00                            0.0                   0.0   \n",
       "01impala                           0.0                   0.0   \n",
       "02dakota                           0.0                   0.0   \n",
       "02deuce                            0.0                   0.0   \n",
       "\n",
       "id                AVpftikC1cnluZ0-p31V  AVpftymALJeJML43CZ6y  \\\n",
       "reviews_username                                               \n",
       "00dog3                        0.000000                   0.0   \n",
       "00sab00                       2.808965                   0.0   \n",
       "01impala                      0.000000                   0.0   \n",
       "02dakota                      0.000000                   0.0   \n",
       "02deuce                       0.000000                   0.0   \n",
       "\n",
       "id                AVpfv4TlilAPnD_xhjNS  AVpfvieo1cnluZ0-qdnu  \n",
       "reviews_username                                              \n",
       "00dog3                             0.0                   0.0  \n",
       "00sab00                            0.0                   0.0  \n",
       "01impala                           0.0                   0.0  \n",
       "02dakota                           0.0                   0.0  \n",
       "02deuce                            0.0                   0.0  \n",
       "\n",
       "[5 rows x 256 columns]"
      ]
     },
     "execution_count": 93,
     "metadata": {},
     "output_type": "execute_result"
    }
   ],
   "source": [
    "user_predicted_ratings = np.dot(user_correlation, df_pivot.fillna(0))\n",
    "print(user_predicted_ratings.shape)\n",
    "user_final_rating = np.multiply(user_predicted_ratings,dummy_train)\n",
    "user_final_rating.head()"
   ]
  },
  {
   "cell_type": "code",
   "execution_count": 94,
   "id": "1a25c78d",
   "metadata": {},
   "outputs": [
    {
     "data": {
      "text/plain": [
       "reviews_username\n",
       "marty                 448.061447\n",
       "nana                  432.416563\n",
       "fred23                429.388859\n",
       "tyler                 429.388859\n",
       "joey                  418.421415\n",
       "                         ...    \n",
       "georgemag               0.000000\n",
       "georgek16               0.000000\n",
       "georgeclooneystwin      0.000000\n",
       "george67                0.000000\n",
       "zzz1127                 0.000000\n",
       "Length: 20555, dtype: float64"
      ]
     },
     "execution_count": 94,
     "metadata": {},
     "output_type": "execute_result"
    }
   ],
   "source": [
    "user_final_rating.sum(axis=1).sort_values(ascending=False)"
   ]
  },
  {
   "cell_type": "markdown",
   "id": "53275b80",
   "metadata": {},
   "source": [
    "#### Top 20 recommendations for a user"
   ]
  },
  {
   "cell_type": "code",
   "execution_count": 95,
   "id": "46c681d2",
   "metadata": {},
   "outputs": [
    {
     "name": "stdout",
     "output_type": "stream",
     "text": [
      "Enter your user name marty\n",
      "marty\n"
     ]
    }
   ],
   "source": [
    "# Take the user ID as input.\n",
    "user_input = input(\"Enter your user name \")\n",
    "print(user_input)"
   ]
  },
  {
   "cell_type": "code",
   "execution_count": 96,
   "id": "640940d2",
   "metadata": {},
   "outputs": [
    {
     "data": {
      "text/plain": [
       "id\n",
       "AVpf0eb2LJeJML43EVSt    59.685846\n",
       "AVpe41TqilAPnD_xQH3d    52.360949\n",
       "AVpfRTh1ilAPnD_xYic2    36.749544\n",
       "AVpe59io1cnluZ0-ZgDU    36.013734\n",
       "AVpf2tw1ilAPnD_xjflC    27.846504\n",
       "AVpfJP1C1cnluZ0-e3Xy    20.352188\n",
       "AVpf5olc1cnluZ0-tPrO    18.219302\n",
       "AVpf0thK1cnluZ0-r8vR    13.254589\n",
       "AVpf385g1cnluZ0-s0_t    12.182784\n",
       "AVpfD9xTLJeJML431ig2    11.781451\n",
       "AVpfBrUZilAPnD_xTUly     8.742765\n",
       "AVpfM_ytilAPnD_xXIJb     8.320636\n",
       "AVpfR5m0LJeJML436K3W     8.168232\n",
       "AVpe31o71cnluZ0-YrSD     7.419878\n",
       "AVpfPnrU1cnluZ0-g9rL     6.521668\n",
       "AVpfRoqcLJeJML436FqG     5.949215\n",
       "AVpfoSS51cnluZ0-oVH9     5.907242\n",
       "AVpfMpZ51cnluZ0-f_L9     5.472123\n",
       "AVpfQtEm1cnluZ0-hUpe     5.433570\n",
       "AVpfm8yiLJeJML43AYyu     5.097109\n",
       "Name: marty, dtype: float64"
      ]
     },
     "execution_count": 96,
     "metadata": {},
     "output_type": "execute_result"
    }
   ],
   "source": [
    "rec = user_final_rating.loc[user_input].sort_values(ascending=False)[0:20]\n",
    "rec"
   ]
  },
  {
   "cell_type": "code",
   "execution_count": 97,
   "id": "42c98a0d",
   "metadata": {},
   "outputs": [
    {
     "data": {
      "text/html": [
       "<div>\n",
       "<style scoped>\n",
       "    .dataframe tbody tr th:only-of-type {\n",
       "        vertical-align: middle;\n",
       "    }\n",
       "\n",
       "    .dataframe tbody tr th {\n",
       "        vertical-align: top;\n",
       "    }\n",
       "\n",
       "    .dataframe thead th {\n",
       "        text-align: right;\n",
       "    }\n",
       "</style>\n",
       "<table border=\"1\" class=\"dataframe\">\n",
       "  <thead>\n",
       "    <tr style=\"text-align: right;\">\n",
       "      <th></th>\n",
       "      <th>id</th>\n",
       "      <th>name</th>\n",
       "      <th>similarity_score</th>\n",
       "    </tr>\n",
       "  </thead>\n",
       "  <tbody>\n",
       "    <tr>\n",
       "      <th>0</th>\n",
       "      <td>AVpf0eb2LJeJML43EVSt</td>\n",
       "      <td>The Resident Evil Collection 5 Discs (blu-Ray)</td>\n",
       "      <td>59.685846</td>\n",
       "    </tr>\n",
       "    <tr>\n",
       "      <th>693</th>\n",
       "      <td>AVpe41TqilAPnD_xQH3d</td>\n",
       "      <td>Mike Dave Need Wedding Dates (dvd + Digital)</td>\n",
       "      <td>52.360949</td>\n",
       "    </tr>\n",
       "    <tr>\n",
       "      <th>1305</th>\n",
       "      <td>AVpfRTh1ilAPnD_xYic2</td>\n",
       "      <td>Planes: Fire Rescue (2 Discs) (includes Digita...</td>\n",
       "      <td>36.749544</td>\n",
       "    </tr>\n",
       "    <tr>\n",
       "      <th>2193</th>\n",
       "      <td>AVpe59io1cnluZ0-ZgDU</td>\n",
       "      <td>My Big Fat Greek Wedding 2 (blu-Ray + Dvd + Di...</td>\n",
       "      <td>36.013734</td>\n",
       "    </tr>\n",
       "    <tr>\n",
       "      <th>2717</th>\n",
       "      <td>AVpf2tw1ilAPnD_xjflC</td>\n",
       "      <td>Red (special Edition) (dvdvideo)</td>\n",
       "      <td>27.846504</td>\n",
       "    </tr>\n",
       "    <tr>\n",
       "      <th>3266</th>\n",
       "      <td>AVpfJP1C1cnluZ0-e3Xy</td>\n",
       "      <td>Clorox Disinfecting Bathroom Cleaner</td>\n",
       "      <td>20.352188</td>\n",
       "    </tr>\n",
       "    <tr>\n",
       "      <th>4920</th>\n",
       "      <td>AVpf5olc1cnluZ0-tPrO</td>\n",
       "      <td>Chester's Cheese Flavored Puffcorn Snacks</td>\n",
       "      <td>18.219302</td>\n",
       "    </tr>\n",
       "    <tr>\n",
       "      <th>5070</th>\n",
       "      <td>AVpf0thK1cnluZ0-r8vR</td>\n",
       "      <td>100:Complete First Season (blu-Ray)</td>\n",
       "      <td>13.254589</td>\n",
       "    </tr>\n",
       "    <tr>\n",
       "      <th>5175</th>\n",
       "      <td>AVpf385g1cnluZ0-s0_t</td>\n",
       "      <td>Hormel Chili, No Beans</td>\n",
       "      <td>12.182784</td>\n",
       "    </tr>\n",
       "    <tr>\n",
       "      <th>5330</th>\n",
       "      <td>AVpfD9xTLJeJML431ig2</td>\n",
       "      <td>There's Something About Mary (dvd)</td>\n",
       "      <td>11.781451</td>\n",
       "    </tr>\n",
       "    <tr>\n",
       "      <th>5441</th>\n",
       "      <td>AVpfBrUZilAPnD_xTUly</td>\n",
       "      <td>Coty Airspun Face Powder, Translucent Extra Co...</td>\n",
       "      <td>8.742765</td>\n",
       "    </tr>\n",
       "    <tr>\n",
       "      <th>5565</th>\n",
       "      <td>AVpfM_ytilAPnD_xXIJb</td>\n",
       "      <td>Tostitos Bite Size Tortilla Chips</td>\n",
       "      <td>8.320636</td>\n",
       "    </tr>\n",
       "    <tr>\n",
       "      <th>5769</th>\n",
       "      <td>AVpfR5m0LJeJML436K3W</td>\n",
       "      <td>Jason Aldean - They Don't Know</td>\n",
       "      <td>8.168232</td>\n",
       "    </tr>\n",
       "    <tr>\n",
       "      <th>5927</th>\n",
       "      <td>AVpe31o71cnluZ0-YrSD</td>\n",
       "      <td>Dark Shadows (includes Digital Copy) (ultravio...</td>\n",
       "      <td>7.419878</td>\n",
       "    </tr>\n",
       "    <tr>\n",
       "      <th>6129</th>\n",
       "      <td>AVpfPnrU1cnluZ0-g9rL</td>\n",
       "      <td>Stargate (ws) (ultimate Edition) (director's C...</td>\n",
       "      <td>6.521668</td>\n",
       "    </tr>\n",
       "    <tr>\n",
       "      <th>6287</th>\n",
       "      <td>AVpfRoqcLJeJML436FqG</td>\n",
       "      <td>Vicks Vaporub, Regular, 3.53oz</td>\n",
       "      <td>5.949215</td>\n",
       "    </tr>\n",
       "    <tr>\n",
       "      <th>6359</th>\n",
       "      <td>AVpfoSS51cnluZ0-oVH9</td>\n",
       "      <td>Cheetos Crunchy Flamin' Hot Cheese Flavored Sn...</td>\n",
       "      <td>5.907242</td>\n",
       "    </tr>\n",
       "    <tr>\n",
       "      <th>6404</th>\n",
       "      <td>AVpfMpZ51cnluZ0-f_L9</td>\n",
       "      <td>Chips Ahoy! Original Chocolate Chip - Cookies ...</td>\n",
       "      <td>5.472123</td>\n",
       "    </tr>\n",
       "    <tr>\n",
       "      <th>6457</th>\n",
       "      <td>AVpfQtEm1cnluZ0-hUpe</td>\n",
       "      <td>Jolly Time Select Premium Yellow Pop Corn</td>\n",
       "      <td>5.433570</td>\n",
       "    </tr>\n",
       "    <tr>\n",
       "      <th>6481</th>\n",
       "      <td>AVpfm8yiLJeJML43AYyu</td>\n",
       "      <td>Nexxus Exxtra Gel Style Creation Sculptor</td>\n",
       "      <td>5.097109</td>\n",
       "    </tr>\n",
       "  </tbody>\n",
       "</table>\n",
       "</div>"
      ],
      "text/plain": [
       "                        id                                               name  \\\n",
       "0     AVpf0eb2LJeJML43EVSt     The Resident Evil Collection 5 Discs (blu-Ray)   \n",
       "693   AVpe41TqilAPnD_xQH3d       Mike Dave Need Wedding Dates (dvd + Digital)   \n",
       "1305  AVpfRTh1ilAPnD_xYic2  Planes: Fire Rescue (2 Discs) (includes Digita...   \n",
       "2193  AVpe59io1cnluZ0-ZgDU  My Big Fat Greek Wedding 2 (blu-Ray + Dvd + Di...   \n",
       "2717  AVpf2tw1ilAPnD_xjflC                   Red (special Edition) (dvdvideo)   \n",
       "3266  AVpfJP1C1cnluZ0-e3Xy               Clorox Disinfecting Bathroom Cleaner   \n",
       "4920  AVpf5olc1cnluZ0-tPrO          Chester's Cheese Flavored Puffcorn Snacks   \n",
       "5070  AVpf0thK1cnluZ0-r8vR                100:Complete First Season (blu-Ray)   \n",
       "5175  AVpf385g1cnluZ0-s0_t                             Hormel Chili, No Beans   \n",
       "5330  AVpfD9xTLJeJML431ig2                 There's Something About Mary (dvd)   \n",
       "5441  AVpfBrUZilAPnD_xTUly  Coty Airspun Face Powder, Translucent Extra Co...   \n",
       "5565  AVpfM_ytilAPnD_xXIJb                  Tostitos Bite Size Tortilla Chips   \n",
       "5769  AVpfR5m0LJeJML436K3W                     Jason Aldean - They Don't Know   \n",
       "5927  AVpe31o71cnluZ0-YrSD  Dark Shadows (includes Digital Copy) (ultravio...   \n",
       "6129  AVpfPnrU1cnluZ0-g9rL  Stargate (ws) (ultimate Edition) (director's C...   \n",
       "6287  AVpfRoqcLJeJML436FqG                     Vicks Vaporub, Regular, 3.53oz   \n",
       "6359  AVpfoSS51cnluZ0-oVH9  Cheetos Crunchy Flamin' Hot Cheese Flavored Sn...   \n",
       "6404  AVpfMpZ51cnluZ0-f_L9  Chips Ahoy! Original Chocolate Chip - Cookies ...   \n",
       "6457  AVpfQtEm1cnluZ0-hUpe          Jolly Time Select Premium Yellow Pop Corn   \n",
       "6481  AVpfm8yiLJeJML43AYyu          Nexxus Exxtra Gel Style Creation Sculptor   \n",
       "\n",
       "      similarity_score  \n",
       "0            59.685846  \n",
       "693          52.360949  \n",
       "1305         36.749544  \n",
       "2193         36.013734  \n",
       "2717         27.846504  \n",
       "3266         20.352188  \n",
       "4920         18.219302  \n",
       "5070         13.254589  \n",
       "5175         12.182784  \n",
       "5330         11.781451  \n",
       "5441          8.742765  \n",
       "5565          8.320636  \n",
       "5769          8.168232  \n",
       "5927          7.419878  \n",
       "6129          6.521668  \n",
       "6287          5.949215  \n",
       "6359          5.907242  \n",
       "6404          5.472123  \n",
       "6457          5.433570  \n",
       "6481          5.097109  "
      ]
     },
     "execution_count": 97,
     "metadata": {},
     "output_type": "execute_result"
    }
   ],
   "source": [
    "#display the top 20 product id, name and similarity_score\n",
    "dfrec=pd.DataFrame(rec).reset_index()\n",
    "dfrec.columns=['id','similarity_score']\n",
    "#final_recommendations = pd.DataFrame({'product_id': recommendations.index, 'similarity_score' : recommendations})\n",
    "#final_recommendations.reset_index(drop=True)\n",
    "pd.merge(dfrec, train, on=\"id\")[[\"id\", \"name\", \"similarity_score\"]].drop_duplicates()"
   ]
  },
  {
   "cell_type": "markdown",
   "id": "8eb4fd8e",
   "metadata": {},
   "source": [
    "#### Evaluation"
   ]
  },
  {
   "cell_type": "code",
   "execution_count": 98,
   "id": "98487168",
   "metadata": {},
   "outputs": [
    {
     "data": {
      "text/plain": [
       "(1513, 5)"
      ]
     },
     "execution_count": 98,
     "metadata": {},
     "output_type": "execute_result"
    }
   ],
   "source": [
    "# Find out the common users of test and train dataset.\n",
    "common = test[test.reviews_username.isin(train.reviews_username)]\n",
    "common.shape"
   ]
  },
  {
   "cell_type": "code",
   "execution_count": 99,
   "id": "aece009a",
   "metadata": {},
   "outputs": [
    {
     "data": {
      "text/html": [
       "<div>\n",
       "<style scoped>\n",
       "    .dataframe tbody tr th:only-of-type {\n",
       "        vertical-align: middle;\n",
       "    }\n",
       "\n",
       "    .dataframe tbody tr th {\n",
       "        vertical-align: top;\n",
       "    }\n",
       "\n",
       "    .dataframe thead th {\n",
       "        text-align: right;\n",
       "    }\n",
       "</style>\n",
       "<table border=\"1\" class=\"dataframe\">\n",
       "  <thead>\n",
       "    <tr style=\"text-align: right;\">\n",
       "      <th></th>\n",
       "      <th>index</th>\n",
       "      <th>id</th>\n",
       "      <th>name</th>\n",
       "      <th>reviews_rating</th>\n",
       "      <th>reviews_username</th>\n",
       "    </tr>\n",
       "  </thead>\n",
       "  <tbody>\n",
       "    <tr>\n",
       "      <th>18940</th>\n",
       "      <td>18987</td>\n",
       "      <td>AVpfJP1C1cnluZ0-e3Xy</td>\n",
       "      <td>Clorox Disinfecting Bathroom Cleaner</td>\n",
       "      <td>5</td>\n",
       "      <td>angie2</td>\n",
       "    </tr>\n",
       "    <tr>\n",
       "      <th>26843</th>\n",
       "      <td>26906</td>\n",
       "      <td>AVpfR5m0LJeJML436K3W</td>\n",
       "      <td>Jason Aldean - They Don't Know</td>\n",
       "      <td>5</td>\n",
       "      <td>happy</td>\n",
       "    </tr>\n",
       "    <tr>\n",
       "      <th>29455</th>\n",
       "      <td>29518</td>\n",
       "      <td>AVpfW8y_LJeJML437ySW</td>\n",
       "      <td>L'or233al Paris Elvive Extraordinary Clay Reba...</td>\n",
       "      <td>4</td>\n",
       "      <td>ktpurdie</td>\n",
       "    </tr>\n",
       "    <tr>\n",
       "      <th>26953</th>\n",
       "      <td>27016</td>\n",
       "      <td>AVpfR5m0LJeJML436K3W</td>\n",
       "      <td>Jason Aldean - They Don't Know</td>\n",
       "      <td>5</td>\n",
       "      <td>brandon</td>\n",
       "    </tr>\n",
       "    <tr>\n",
       "      <th>20118</th>\n",
       "      <td>20165</td>\n",
       "      <td>AVpfJP1C1cnluZ0-e3Xy</td>\n",
       "      <td>Clorox Disinfecting Bathroom Cleaner</td>\n",
       "      <td>5</td>\n",
       "      <td>ash82085</td>\n",
       "    </tr>\n",
       "  </tbody>\n",
       "</table>\n",
       "</div>"
      ],
      "text/plain": [
       "       index                    id  \\\n",
       "18940  18987  AVpfJP1C1cnluZ0-e3Xy   \n",
       "26843  26906  AVpfR5m0LJeJML436K3W   \n",
       "29455  29518  AVpfW8y_LJeJML437ySW   \n",
       "26953  27016  AVpfR5m0LJeJML436K3W   \n",
       "20118  20165  AVpfJP1C1cnluZ0-e3Xy   \n",
       "\n",
       "                                                    name  reviews_rating  \\\n",
       "18940               Clorox Disinfecting Bathroom Cleaner               5   \n",
       "26843                     Jason Aldean - They Don't Know               5   \n",
       "29455  L'or233al Paris Elvive Extraordinary Clay Reba...               4   \n",
       "26953                     Jason Aldean - They Don't Know               5   \n",
       "20118               Clorox Disinfecting Bathroom Cleaner               5   \n",
       "\n",
       "      reviews_username  \n",
       "18940           angie2  \n",
       "26843            happy  \n",
       "29455         ktpurdie  \n",
       "26953          brandon  \n",
       "20118         ash82085  "
      ]
     },
     "execution_count": 99,
     "metadata": {},
     "output_type": "execute_result"
    }
   ],
   "source": [
    "common.head()"
   ]
  },
  {
   "cell_type": "code",
   "execution_count": 100,
   "id": "393bf0e1",
   "metadata": {},
   "outputs": [
    {
     "data": {
      "text/html": [
       "<div>\n",
       "<style scoped>\n",
       "    .dataframe tbody tr th:only-of-type {\n",
       "        vertical-align: middle;\n",
       "    }\n",
       "\n",
       "    .dataframe tbody tr th {\n",
       "        vertical-align: top;\n",
       "    }\n",
       "\n",
       "    .dataframe thead th {\n",
       "        text-align: right;\n",
       "    }\n",
       "</style>\n",
       "<table border=\"1\" class=\"dataframe\">\n",
       "  <thead>\n",
       "    <tr style=\"text-align: right;\">\n",
       "      <th>id</th>\n",
       "      <th>AV16khLE-jtxr-f38VFn</th>\n",
       "      <th>AV1YGDqsGV-KLJ3adc-O</th>\n",
       "      <th>AV1YlENIglJLPUi8IHsX</th>\n",
       "      <th>AV1YmDL9vKc47QAVgr7_</th>\n",
       "      <th>AV1Ymf_rglJLPUi8II2v</th>\n",
       "      <th>AV1Yn94nvKc47QAVgtst</th>\n",
       "      <th>AV1YneDPglJLPUi8IJyQ</th>\n",
       "      <th>AV1YqAaMGV-KLJ3adiDj</th>\n",
       "      <th>AV1Ys0kTvKc47QAVgx1C</th>\n",
       "      <th>AV1YtGjdglJLPUi8IOfJ</th>\n",
       "      <th>...</th>\n",
       "      <th>AVpfm8yiLJeJML43AYyu</th>\n",
       "      <th>AVpfmjXGLJeJML43AQ5_</th>\n",
       "      <th>AVpfoSS51cnluZ0-oVH9</th>\n",
       "      <th>AVpfov9TLJeJML43A7B0</th>\n",
       "      <th>AVpfpM2yilAPnD_xfmDG</th>\n",
       "      <th>AVpfr5cb1cnluZ0-pZFp</th>\n",
       "      <th>AVpfrFDZLJeJML43Bmv0</th>\n",
       "      <th>AVpftikC1cnluZ0-p31V</th>\n",
       "      <th>AVpfv4TlilAPnD_xhjNS</th>\n",
       "      <th>AVpfvieo1cnluZ0-qdnu</th>\n",
       "    </tr>\n",
       "    <tr>\n",
       "      <th>reviews_username</th>\n",
       "      <th></th>\n",
       "      <th></th>\n",
       "      <th></th>\n",
       "      <th></th>\n",
       "      <th></th>\n",
       "      <th></th>\n",
       "      <th></th>\n",
       "      <th></th>\n",
       "      <th></th>\n",
       "      <th></th>\n",
       "      <th></th>\n",
       "      <th></th>\n",
       "      <th></th>\n",
       "      <th></th>\n",
       "      <th></th>\n",
       "      <th></th>\n",
       "      <th></th>\n",
       "      <th></th>\n",
       "      <th></th>\n",
       "      <th></th>\n",
       "      <th></th>\n",
       "    </tr>\n",
       "  </thead>\n",
       "  <tbody>\n",
       "    <tr>\n",
       "      <th>1234</th>\n",
       "      <td>NaN</td>\n",
       "      <td>NaN</td>\n",
       "      <td>NaN</td>\n",
       "      <td>NaN</td>\n",
       "      <td>NaN</td>\n",
       "      <td>NaN</td>\n",
       "      <td>NaN</td>\n",
       "      <td>NaN</td>\n",
       "      <td>NaN</td>\n",
       "      <td>NaN</td>\n",
       "      <td>...</td>\n",
       "      <td>NaN</td>\n",
       "      <td>NaN</td>\n",
       "      <td>NaN</td>\n",
       "      <td>NaN</td>\n",
       "      <td>NaN</td>\n",
       "      <td>NaN</td>\n",
       "      <td>NaN</td>\n",
       "      <td>NaN</td>\n",
       "      <td>NaN</td>\n",
       "      <td>NaN</td>\n",
       "    </tr>\n",
       "    <tr>\n",
       "      <th>1234567</th>\n",
       "      <td>NaN</td>\n",
       "      <td>NaN</td>\n",
       "      <td>NaN</td>\n",
       "      <td>NaN</td>\n",
       "      <td>NaN</td>\n",
       "      <td>NaN</td>\n",
       "      <td>NaN</td>\n",
       "      <td>NaN</td>\n",
       "      <td>NaN</td>\n",
       "      <td>NaN</td>\n",
       "      <td>...</td>\n",
       "      <td>NaN</td>\n",
       "      <td>NaN</td>\n",
       "      <td>NaN</td>\n",
       "      <td>NaN</td>\n",
       "      <td>NaN</td>\n",
       "      <td>NaN</td>\n",
       "      <td>NaN</td>\n",
       "      <td>NaN</td>\n",
       "      <td>NaN</td>\n",
       "      <td>NaN</td>\n",
       "    </tr>\n",
       "    <tr>\n",
       "      <th>1943</th>\n",
       "      <td>NaN</td>\n",
       "      <td>NaN</td>\n",
       "      <td>NaN</td>\n",
       "      <td>NaN</td>\n",
       "      <td>NaN</td>\n",
       "      <td>NaN</td>\n",
       "      <td>NaN</td>\n",
       "      <td>NaN</td>\n",
       "      <td>NaN</td>\n",
       "      <td>NaN</td>\n",
       "      <td>...</td>\n",
       "      <td>NaN</td>\n",
       "      <td>NaN</td>\n",
       "      <td>NaN</td>\n",
       "      <td>NaN</td>\n",
       "      <td>NaN</td>\n",
       "      <td>NaN</td>\n",
       "      <td>NaN</td>\n",
       "      <td>NaN</td>\n",
       "      <td>NaN</td>\n",
       "      <td>NaN</td>\n",
       "    </tr>\n",
       "    <tr>\n",
       "      <th>1witch</th>\n",
       "      <td>NaN</td>\n",
       "      <td>NaN</td>\n",
       "      <td>NaN</td>\n",
       "      <td>NaN</td>\n",
       "      <td>NaN</td>\n",
       "      <td>NaN</td>\n",
       "      <td>NaN</td>\n",
       "      <td>NaN</td>\n",
       "      <td>NaN</td>\n",
       "      <td>NaN</td>\n",
       "      <td>...</td>\n",
       "      <td>NaN</td>\n",
       "      <td>NaN</td>\n",
       "      <td>NaN</td>\n",
       "      <td>NaN</td>\n",
       "      <td>NaN</td>\n",
       "      <td>NaN</td>\n",
       "      <td>NaN</td>\n",
       "      <td>NaN</td>\n",
       "      <td>NaN</td>\n",
       "      <td>NaN</td>\n",
       "    </tr>\n",
       "    <tr>\n",
       "      <th>37f5p</th>\n",
       "      <td>NaN</td>\n",
       "      <td>NaN</td>\n",
       "      <td>NaN</td>\n",
       "      <td>NaN</td>\n",
       "      <td>NaN</td>\n",
       "      <td>NaN</td>\n",
       "      <td>NaN</td>\n",
       "      <td>NaN</td>\n",
       "      <td>NaN</td>\n",
       "      <td>NaN</td>\n",
       "      <td>...</td>\n",
       "      <td>NaN</td>\n",
       "      <td>NaN</td>\n",
       "      <td>NaN</td>\n",
       "      <td>NaN</td>\n",
       "      <td>NaN</td>\n",
       "      <td>NaN</td>\n",
       "      <td>NaN</td>\n",
       "      <td>NaN</td>\n",
       "      <td>NaN</td>\n",
       "      <td>NaN</td>\n",
       "    </tr>\n",
       "  </tbody>\n",
       "</table>\n",
       "<p>5 rows × 115 columns</p>\n",
       "</div>"
      ],
      "text/plain": [
       "id                AV16khLE-jtxr-f38VFn  AV1YGDqsGV-KLJ3adc-O  \\\n",
       "reviews_username                                               \n",
       "1234                               NaN                   NaN   \n",
       "1234567                            NaN                   NaN   \n",
       "1943                               NaN                   NaN   \n",
       "1witch                             NaN                   NaN   \n",
       "37f5p                              NaN                   NaN   \n",
       "\n",
       "id                AV1YlENIglJLPUi8IHsX  AV1YmDL9vKc47QAVgr7_  \\\n",
       "reviews_username                                               \n",
       "1234                               NaN                   NaN   \n",
       "1234567                            NaN                   NaN   \n",
       "1943                               NaN                   NaN   \n",
       "1witch                             NaN                   NaN   \n",
       "37f5p                              NaN                   NaN   \n",
       "\n",
       "id                AV1Ymf_rglJLPUi8II2v  AV1Yn94nvKc47QAVgtst  \\\n",
       "reviews_username                                               \n",
       "1234                               NaN                   NaN   \n",
       "1234567                            NaN                   NaN   \n",
       "1943                               NaN                   NaN   \n",
       "1witch                             NaN                   NaN   \n",
       "37f5p                              NaN                   NaN   \n",
       "\n",
       "id                AV1YneDPglJLPUi8IJyQ  AV1YqAaMGV-KLJ3adiDj  \\\n",
       "reviews_username                                               \n",
       "1234                               NaN                   NaN   \n",
       "1234567                            NaN                   NaN   \n",
       "1943                               NaN                   NaN   \n",
       "1witch                             NaN                   NaN   \n",
       "37f5p                              NaN                   NaN   \n",
       "\n",
       "id                AV1Ys0kTvKc47QAVgx1C  AV1YtGjdglJLPUi8IOfJ  ...  \\\n",
       "reviews_username                                              ...   \n",
       "1234                               NaN                   NaN  ...   \n",
       "1234567                            NaN                   NaN  ...   \n",
       "1943                               NaN                   NaN  ...   \n",
       "1witch                             NaN                   NaN  ...   \n",
       "37f5p                              NaN                   NaN  ...   \n",
       "\n",
       "id                AVpfm8yiLJeJML43AYyu  AVpfmjXGLJeJML43AQ5_  \\\n",
       "reviews_username                                               \n",
       "1234                               NaN                   NaN   \n",
       "1234567                            NaN                   NaN   \n",
       "1943                               NaN                   NaN   \n",
       "1witch                             NaN                   NaN   \n",
       "37f5p                              NaN                   NaN   \n",
       "\n",
       "id                AVpfoSS51cnluZ0-oVH9  AVpfov9TLJeJML43A7B0  \\\n",
       "reviews_username                                               \n",
       "1234                               NaN                   NaN   \n",
       "1234567                            NaN                   NaN   \n",
       "1943                               NaN                   NaN   \n",
       "1witch                             NaN                   NaN   \n",
       "37f5p                              NaN                   NaN   \n",
       "\n",
       "id                AVpfpM2yilAPnD_xfmDG  AVpfr5cb1cnluZ0-pZFp  \\\n",
       "reviews_username                                               \n",
       "1234                               NaN                   NaN   \n",
       "1234567                            NaN                   NaN   \n",
       "1943                               NaN                   NaN   \n",
       "1witch                             NaN                   NaN   \n",
       "37f5p                              NaN                   NaN   \n",
       "\n",
       "id                AVpfrFDZLJeJML43Bmv0  AVpftikC1cnluZ0-p31V  \\\n",
       "reviews_username                                               \n",
       "1234                               NaN                   NaN   \n",
       "1234567                            NaN                   NaN   \n",
       "1943                               NaN                   NaN   \n",
       "1witch                             NaN                   NaN   \n",
       "37f5p                              NaN                   NaN   \n",
       "\n",
       "id                AVpfv4TlilAPnD_xhjNS  AVpfvieo1cnluZ0-qdnu  \n",
       "reviews_username                                              \n",
       "1234                               NaN                   NaN  \n",
       "1234567                            NaN                   NaN  \n",
       "1943                               NaN                   NaN  \n",
       "1witch                             NaN                   NaN  \n",
       "37f5p                              NaN                   NaN  \n",
       "\n",
       "[5 rows x 115 columns]"
      ]
     },
     "execution_count": 100,
     "metadata": {},
     "output_type": "execute_result"
    }
   ],
   "source": [
    "# convert into the user-product matrix.\n",
    "common_user_based_matrix = common.pivot_table(index=\"reviews_username\", columns = \"id\", values = \"reviews_rating\")\n",
    "common_user_based_matrix.head()"
   ]
  },
  {
   "cell_type": "code",
   "execution_count": 101,
   "id": "c618dbb5",
   "metadata": {},
   "outputs": [
    {
     "data": {
      "text/html": [
       "<div>\n",
       "<style scoped>\n",
       "    .dataframe tbody tr th:only-of-type {\n",
       "        vertical-align: middle;\n",
       "    }\n",
       "\n",
       "    .dataframe tbody tr th {\n",
       "        vertical-align: top;\n",
       "    }\n",
       "\n",
       "    .dataframe thead th {\n",
       "        text-align: right;\n",
       "    }\n",
       "</style>\n",
       "<table border=\"1\" class=\"dataframe\">\n",
       "  <thead>\n",
       "    <tr style=\"text-align: right;\">\n",
       "      <th></th>\n",
       "      <th>0</th>\n",
       "      <th>1</th>\n",
       "      <th>2</th>\n",
       "      <th>3</th>\n",
       "      <th>4</th>\n",
       "      <th>5</th>\n",
       "      <th>6</th>\n",
       "      <th>7</th>\n",
       "      <th>8</th>\n",
       "      <th>9</th>\n",
       "      <th>...</th>\n",
       "      <th>20545</th>\n",
       "      <th>20546</th>\n",
       "      <th>20547</th>\n",
       "      <th>20548</th>\n",
       "      <th>20549</th>\n",
       "      <th>20550</th>\n",
       "      <th>20551</th>\n",
       "      <th>20552</th>\n",
       "      <th>20553</th>\n",
       "      <th>20554</th>\n",
       "    </tr>\n",
       "  </thead>\n",
       "  <tbody>\n",
       "    <tr>\n",
       "      <th>0</th>\n",
       "      <td>0.0</td>\n",
       "      <td>0.0</td>\n",
       "      <td>0.0</td>\n",
       "      <td>0.0</td>\n",
       "      <td>0.0</td>\n",
       "      <td>0.0</td>\n",
       "      <td>0.0</td>\n",
       "      <td>0.0</td>\n",
       "      <td>0.0</td>\n",
       "      <td>0.0</td>\n",
       "      <td>...</td>\n",
       "      <td>0.0</td>\n",
       "      <td>0.0</td>\n",
       "      <td>0.0</td>\n",
       "      <td>0.0</td>\n",
       "      <td>0.0</td>\n",
       "      <td>0.0</td>\n",
       "      <td>0.0</td>\n",
       "      <td>0.0</td>\n",
       "      <td>0.0</td>\n",
       "      <td>0.0</td>\n",
       "    </tr>\n",
       "    <tr>\n",
       "      <th>1</th>\n",
       "      <td>0.0</td>\n",
       "      <td>1.0</td>\n",
       "      <td>0.0</td>\n",
       "      <td>0.0</td>\n",
       "      <td>0.0</td>\n",
       "      <td>0.0</td>\n",
       "      <td>0.0</td>\n",
       "      <td>0.0</td>\n",
       "      <td>0.0</td>\n",
       "      <td>0.0</td>\n",
       "      <td>...</td>\n",
       "      <td>0.0</td>\n",
       "      <td>0.0</td>\n",
       "      <td>0.0</td>\n",
       "      <td>0.0</td>\n",
       "      <td>0.0</td>\n",
       "      <td>0.0</td>\n",
       "      <td>0.0</td>\n",
       "      <td>0.0</td>\n",
       "      <td>0.0</td>\n",
       "      <td>0.0</td>\n",
       "    </tr>\n",
       "    <tr>\n",
       "      <th>2</th>\n",
       "      <td>0.0</td>\n",
       "      <td>0.0</td>\n",
       "      <td>0.0</td>\n",
       "      <td>0.0</td>\n",
       "      <td>0.0</td>\n",
       "      <td>0.0</td>\n",
       "      <td>0.0</td>\n",
       "      <td>0.0</td>\n",
       "      <td>0.0</td>\n",
       "      <td>0.0</td>\n",
       "      <td>...</td>\n",
       "      <td>0.0</td>\n",
       "      <td>0.0</td>\n",
       "      <td>0.0</td>\n",
       "      <td>0.0</td>\n",
       "      <td>0.0</td>\n",
       "      <td>0.0</td>\n",
       "      <td>0.0</td>\n",
       "      <td>0.0</td>\n",
       "      <td>0.0</td>\n",
       "      <td>0.0</td>\n",
       "    </tr>\n",
       "    <tr>\n",
       "      <th>3</th>\n",
       "      <td>0.0</td>\n",
       "      <td>0.0</td>\n",
       "      <td>0.0</td>\n",
       "      <td>0.0</td>\n",
       "      <td>0.0</td>\n",
       "      <td>0.0</td>\n",
       "      <td>0.0</td>\n",
       "      <td>0.0</td>\n",
       "      <td>0.0</td>\n",
       "      <td>0.0</td>\n",
       "      <td>...</td>\n",
       "      <td>0.0</td>\n",
       "      <td>0.0</td>\n",
       "      <td>0.0</td>\n",
       "      <td>0.0</td>\n",
       "      <td>0.0</td>\n",
       "      <td>0.0</td>\n",
       "      <td>0.0</td>\n",
       "      <td>0.0</td>\n",
       "      <td>0.0</td>\n",
       "      <td>0.0</td>\n",
       "    </tr>\n",
       "    <tr>\n",
       "      <th>4</th>\n",
       "      <td>0.0</td>\n",
       "      <td>0.0</td>\n",
       "      <td>0.0</td>\n",
       "      <td>0.0</td>\n",
       "      <td>0.0</td>\n",
       "      <td>0.0</td>\n",
       "      <td>0.0</td>\n",
       "      <td>0.0</td>\n",
       "      <td>0.0</td>\n",
       "      <td>0.0</td>\n",
       "      <td>...</td>\n",
       "      <td>0.0</td>\n",
       "      <td>0.0</td>\n",
       "      <td>0.0</td>\n",
       "      <td>0.0</td>\n",
       "      <td>0.0</td>\n",
       "      <td>0.0</td>\n",
       "      <td>0.0</td>\n",
       "      <td>0.0</td>\n",
       "      <td>0.0</td>\n",
       "      <td>0.0</td>\n",
       "    </tr>\n",
       "  </tbody>\n",
       "</table>\n",
       "<p>5 rows × 20555 columns</p>\n",
       "</div>"
      ],
      "text/plain": [
       "   0      1      2      3      4      5      6      7      8      9      ...  \\\n",
       "0    0.0    0.0    0.0    0.0    0.0    0.0    0.0    0.0    0.0    0.0  ...   \n",
       "1    0.0    1.0    0.0    0.0    0.0    0.0    0.0    0.0    0.0    0.0  ...   \n",
       "2    0.0    0.0    0.0    0.0    0.0    0.0    0.0    0.0    0.0    0.0  ...   \n",
       "3    0.0    0.0    0.0    0.0    0.0    0.0    0.0    0.0    0.0    0.0  ...   \n",
       "4    0.0    0.0    0.0    0.0    0.0    0.0    0.0    0.0    0.0    0.0  ...   \n",
       "\n",
       "   20545  20546  20547  20548  20549  20550  20551  20552  20553  20554  \n",
       "0    0.0    0.0    0.0    0.0    0.0    0.0    0.0    0.0    0.0    0.0  \n",
       "1    0.0    0.0    0.0    0.0    0.0    0.0    0.0    0.0    0.0    0.0  \n",
       "2    0.0    0.0    0.0    0.0    0.0    0.0    0.0    0.0    0.0    0.0  \n",
       "3    0.0    0.0    0.0    0.0    0.0    0.0    0.0    0.0    0.0    0.0  \n",
       "4    0.0    0.0    0.0    0.0    0.0    0.0    0.0    0.0    0.0    0.0  \n",
       "\n",
       "[5 rows x 20555 columns]"
      ]
     },
     "execution_count": 101,
     "metadata": {},
     "output_type": "execute_result"
    }
   ],
   "source": [
    "# Convert the user_correlation matrix into dataframe.\n",
    "user_correlation_df = pd.DataFrame(user_correlation)\n",
    "user_correlation_df.head()"
   ]
  },
  {
   "cell_type": "code",
   "execution_count": 102,
   "id": "143933d3",
   "metadata": {},
   "outputs": [
    {
     "data": {
      "text/html": [
       "<div>\n",
       "<style scoped>\n",
       "    .dataframe tbody tr th:only-of-type {\n",
       "        vertical-align: middle;\n",
       "    }\n",
       "\n",
       "    .dataframe tbody tr th {\n",
       "        vertical-align: top;\n",
       "    }\n",
       "\n",
       "    .dataframe thead th {\n",
       "        text-align: right;\n",
       "    }\n",
       "</style>\n",
       "<table border=\"1\" class=\"dataframe\">\n",
       "  <thead>\n",
       "    <tr style=\"text-align: right;\">\n",
       "      <th></th>\n",
       "      <th>0</th>\n",
       "      <th>1</th>\n",
       "      <th>2</th>\n",
       "      <th>3</th>\n",
       "      <th>4</th>\n",
       "      <th>5</th>\n",
       "      <th>6</th>\n",
       "      <th>7</th>\n",
       "      <th>8</th>\n",
       "      <th>9</th>\n",
       "      <th>...</th>\n",
       "      <th>20545</th>\n",
       "      <th>20546</th>\n",
       "      <th>20547</th>\n",
       "      <th>20548</th>\n",
       "      <th>20549</th>\n",
       "      <th>20550</th>\n",
       "      <th>20551</th>\n",
       "      <th>20552</th>\n",
       "      <th>20553</th>\n",
       "      <th>20554</th>\n",
       "    </tr>\n",
       "    <tr>\n",
       "      <th>reviews_username</th>\n",
       "      <th></th>\n",
       "      <th></th>\n",
       "      <th></th>\n",
       "      <th></th>\n",
       "      <th></th>\n",
       "      <th></th>\n",
       "      <th></th>\n",
       "      <th></th>\n",
       "      <th></th>\n",
       "      <th></th>\n",
       "      <th></th>\n",
       "      <th></th>\n",
       "      <th></th>\n",
       "      <th></th>\n",
       "      <th></th>\n",
       "      <th></th>\n",
       "      <th></th>\n",
       "      <th></th>\n",
       "      <th></th>\n",
       "      <th></th>\n",
       "      <th></th>\n",
       "    </tr>\n",
       "  </thead>\n",
       "  <tbody>\n",
       "    <tr>\n",
       "      <th>00dog3</th>\n",
       "      <td>0.0</td>\n",
       "      <td>0.0</td>\n",
       "      <td>0.0</td>\n",
       "      <td>0.0</td>\n",
       "      <td>0.0</td>\n",
       "      <td>0.0</td>\n",
       "      <td>0.0</td>\n",
       "      <td>0.0</td>\n",
       "      <td>0.0</td>\n",
       "      <td>0.0</td>\n",
       "      <td>...</td>\n",
       "      <td>0.0</td>\n",
       "      <td>0.0</td>\n",
       "      <td>0.0</td>\n",
       "      <td>0.0</td>\n",
       "      <td>0.0</td>\n",
       "      <td>0.0</td>\n",
       "      <td>0.0</td>\n",
       "      <td>0.0</td>\n",
       "      <td>0.0</td>\n",
       "      <td>0.0</td>\n",
       "    </tr>\n",
       "    <tr>\n",
       "      <th>00sab00</th>\n",
       "      <td>0.0</td>\n",
       "      <td>1.0</td>\n",
       "      <td>0.0</td>\n",
       "      <td>0.0</td>\n",
       "      <td>0.0</td>\n",
       "      <td>0.0</td>\n",
       "      <td>0.0</td>\n",
       "      <td>0.0</td>\n",
       "      <td>0.0</td>\n",
       "      <td>0.0</td>\n",
       "      <td>...</td>\n",
       "      <td>0.0</td>\n",
       "      <td>0.0</td>\n",
       "      <td>0.0</td>\n",
       "      <td>0.0</td>\n",
       "      <td>0.0</td>\n",
       "      <td>0.0</td>\n",
       "      <td>0.0</td>\n",
       "      <td>0.0</td>\n",
       "      <td>0.0</td>\n",
       "      <td>0.0</td>\n",
       "    </tr>\n",
       "    <tr>\n",
       "      <th>01impala</th>\n",
       "      <td>0.0</td>\n",
       "      <td>0.0</td>\n",
       "      <td>0.0</td>\n",
       "      <td>0.0</td>\n",
       "      <td>0.0</td>\n",
       "      <td>0.0</td>\n",
       "      <td>0.0</td>\n",
       "      <td>0.0</td>\n",
       "      <td>0.0</td>\n",
       "      <td>0.0</td>\n",
       "      <td>...</td>\n",
       "      <td>0.0</td>\n",
       "      <td>0.0</td>\n",
       "      <td>0.0</td>\n",
       "      <td>0.0</td>\n",
       "      <td>0.0</td>\n",
       "      <td>0.0</td>\n",
       "      <td>0.0</td>\n",
       "      <td>0.0</td>\n",
       "      <td>0.0</td>\n",
       "      <td>0.0</td>\n",
       "    </tr>\n",
       "    <tr>\n",
       "      <th>02dakota</th>\n",
       "      <td>0.0</td>\n",
       "      <td>0.0</td>\n",
       "      <td>0.0</td>\n",
       "      <td>0.0</td>\n",
       "      <td>0.0</td>\n",
       "      <td>0.0</td>\n",
       "      <td>0.0</td>\n",
       "      <td>0.0</td>\n",
       "      <td>0.0</td>\n",
       "      <td>0.0</td>\n",
       "      <td>...</td>\n",
       "      <td>0.0</td>\n",
       "      <td>0.0</td>\n",
       "      <td>0.0</td>\n",
       "      <td>0.0</td>\n",
       "      <td>0.0</td>\n",
       "      <td>0.0</td>\n",
       "      <td>0.0</td>\n",
       "      <td>0.0</td>\n",
       "      <td>0.0</td>\n",
       "      <td>0.0</td>\n",
       "    </tr>\n",
       "    <tr>\n",
       "      <th>02deuce</th>\n",
       "      <td>0.0</td>\n",
       "      <td>0.0</td>\n",
       "      <td>0.0</td>\n",
       "      <td>0.0</td>\n",
       "      <td>0.0</td>\n",
       "      <td>0.0</td>\n",
       "      <td>0.0</td>\n",
       "      <td>0.0</td>\n",
       "      <td>0.0</td>\n",
       "      <td>0.0</td>\n",
       "      <td>...</td>\n",
       "      <td>0.0</td>\n",
       "      <td>0.0</td>\n",
       "      <td>0.0</td>\n",
       "      <td>0.0</td>\n",
       "      <td>0.0</td>\n",
       "      <td>0.0</td>\n",
       "      <td>0.0</td>\n",
       "      <td>0.0</td>\n",
       "      <td>0.0</td>\n",
       "      <td>0.0</td>\n",
       "    </tr>\n",
       "  </tbody>\n",
       "</table>\n",
       "<p>5 rows × 20555 columns</p>\n",
       "</div>"
      ],
      "text/plain": [
       "                  0      1      2      3      4      5      6      7      \\\n",
       "reviews_username                                                           \n",
       "00dog3              0.0    0.0    0.0    0.0    0.0    0.0    0.0    0.0   \n",
       "00sab00             0.0    1.0    0.0    0.0    0.0    0.0    0.0    0.0   \n",
       "01impala            0.0    0.0    0.0    0.0    0.0    0.0    0.0    0.0   \n",
       "02dakota            0.0    0.0    0.0    0.0    0.0    0.0    0.0    0.0   \n",
       "02deuce             0.0    0.0    0.0    0.0    0.0    0.0    0.0    0.0   \n",
       "\n",
       "                  8      9      ...  20545  20546  20547  20548  20549  20550  \\\n",
       "reviews_username                ...                                             \n",
       "00dog3              0.0    0.0  ...    0.0    0.0    0.0    0.0    0.0    0.0   \n",
       "00sab00             0.0    0.0  ...    0.0    0.0    0.0    0.0    0.0    0.0   \n",
       "01impala            0.0    0.0  ...    0.0    0.0    0.0    0.0    0.0    0.0   \n",
       "02dakota            0.0    0.0  ...    0.0    0.0    0.0    0.0    0.0    0.0   \n",
       "02deuce             0.0    0.0  ...    0.0    0.0    0.0    0.0    0.0    0.0   \n",
       "\n",
       "                  20551  20552  20553  20554  \n",
       "reviews_username                              \n",
       "00dog3              0.0    0.0    0.0    0.0  \n",
       "00sab00             0.0    0.0    0.0    0.0  \n",
       "01impala            0.0    0.0    0.0    0.0  \n",
       "02dakota            0.0    0.0    0.0    0.0  \n",
       "02deuce             0.0    0.0    0.0    0.0  \n",
       "\n",
       "[5 rows x 20555 columns]"
      ]
     },
     "execution_count": 102,
     "metadata": {},
     "output_type": "execute_result"
    }
   ],
   "source": [
    "user_correlation_df[\"reviews_username\"] = df_pivot.index\n",
    "user_correlation_df.set_index(\"reviews_username\",inplace=True)\n",
    "user_correlation_df.head()"
   ]
  },
  {
   "cell_type": "code",
   "execution_count": 103,
   "id": "8a0a2410",
   "metadata": {},
   "outputs": [
    {
     "data": {
      "text/plain": [
       "(1320, 20555)"
      ]
     },
     "execution_count": 103,
     "metadata": {},
     "output_type": "execute_result"
    }
   ],
   "source": [
    "list_name = common.reviews_username.tolist()\n",
    "user_correlation_df.columns = df_pivot.index.tolist()\n",
    "user_correlation_df_1 =  user_correlation_df[user_correlation_df.index.isin(list_name)]\n",
    "user_correlation_df_1.shape"
   ]
  },
  {
   "cell_type": "code",
   "execution_count": 104,
   "id": "41a62cff",
   "metadata": {},
   "outputs": [
    {
     "data": {
      "text/plain": [
       "array([[0.        , 2.62373781, 0.        , ..., 0.        , 0.        ,\n",
       "        0.        ],\n",
       "       [0.        , 0.        , 0.        , ..., 0.        , 0.        ,\n",
       "        0.        ],\n",
       "       [0.        , 0.        , 0.        , ..., 0.        , 0.        ,\n",
       "        0.        ],\n",
       "       ...,\n",
       "       [0.        , 0.        , 0.        , ..., 0.        , 0.        ,\n",
       "        0.        ],\n",
       "       [0.        , 0.        , 0.        , ..., 0.        , 0.        ,\n",
       "        0.        ],\n",
       "       [0.        , 0.        , 0.        , ..., 0.        , 0.        ,\n",
       "        0.        ]])"
      ]
     },
     "execution_count": 104,
     "metadata": {},
     "output_type": "execute_result"
    }
   ],
   "source": [
    "user_correlation_df_2 = user_correlation_df_1.T[user_correlation_df_1.T.index.isin(list_name)]\n",
    "user_correlation_df_3 = user_correlation_df_2.T\n",
    "user_correlation_df_3[user_correlation_df_3<0]=0\n",
    "\n",
    "common_user_predicted_ratings = np.dot(user_correlation_df_3, common_user_based_matrix.fillna(0))\n",
    "common_user_predicted_ratings"
   ]
  },
  {
   "cell_type": "code",
   "execution_count": 105,
   "id": "6beb3f84",
   "metadata": {},
   "outputs": [
    {
     "data": {
      "text/plain": [
       "(1320, 115)"
      ]
     },
     "execution_count": 105,
     "metadata": {},
     "output_type": "execute_result"
    }
   ],
   "source": [
    "dummy_test = common.copy()\n",
    "dummy_test[\"reviews_rating\"] = dummy_test[\"reviews_rating\"].apply(lambda x: 1 if x>=1 else 0)\n",
    "dummy_test = dummy_test.pivot_table(index=\"reviews_username\", columns = \"id\", values = \"reviews_rating\").fillna(0)\n",
    "dummy_test.shape"
   ]
  },
  {
   "cell_type": "code",
   "execution_count": 106,
   "id": "4921f4e0",
   "metadata": {},
   "outputs": [
    {
     "data": {
      "text/html": [
       "<div>\n",
       "<style scoped>\n",
       "    .dataframe tbody tr th:only-of-type {\n",
       "        vertical-align: middle;\n",
       "    }\n",
       "\n",
       "    .dataframe tbody tr th {\n",
       "        vertical-align: top;\n",
       "    }\n",
       "\n",
       "    .dataframe thead th {\n",
       "        text-align: right;\n",
       "    }\n",
       "</style>\n",
       "<table border=\"1\" class=\"dataframe\">\n",
       "  <thead>\n",
       "    <tr style=\"text-align: right;\">\n",
       "      <th>id</th>\n",
       "      <th>AV16khLE-jtxr-f38VFn</th>\n",
       "      <th>AV1YGDqsGV-KLJ3adc-O</th>\n",
       "      <th>AV1YlENIglJLPUi8IHsX</th>\n",
       "      <th>AV1YmDL9vKc47QAVgr7_</th>\n",
       "      <th>AV1Ymf_rglJLPUi8II2v</th>\n",
       "      <th>AV1Yn94nvKc47QAVgtst</th>\n",
       "      <th>AV1YneDPglJLPUi8IJyQ</th>\n",
       "      <th>AV1YqAaMGV-KLJ3adiDj</th>\n",
       "      <th>AV1Ys0kTvKc47QAVgx1C</th>\n",
       "      <th>AV1YtGjdglJLPUi8IOfJ</th>\n",
       "      <th>...</th>\n",
       "      <th>AVpfm8yiLJeJML43AYyu</th>\n",
       "      <th>AVpfmjXGLJeJML43AQ5_</th>\n",
       "      <th>AVpfoSS51cnluZ0-oVH9</th>\n",
       "      <th>AVpfov9TLJeJML43A7B0</th>\n",
       "      <th>AVpfpM2yilAPnD_xfmDG</th>\n",
       "      <th>AVpfr5cb1cnluZ0-pZFp</th>\n",
       "      <th>AVpfrFDZLJeJML43Bmv0</th>\n",
       "      <th>AVpftikC1cnluZ0-p31V</th>\n",
       "      <th>AVpfv4TlilAPnD_xhjNS</th>\n",
       "      <th>AVpfvieo1cnluZ0-qdnu</th>\n",
       "    </tr>\n",
       "    <tr>\n",
       "      <th>reviews_username</th>\n",
       "      <th></th>\n",
       "      <th></th>\n",
       "      <th></th>\n",
       "      <th></th>\n",
       "      <th></th>\n",
       "      <th></th>\n",
       "      <th></th>\n",
       "      <th></th>\n",
       "      <th></th>\n",
       "      <th></th>\n",
       "      <th></th>\n",
       "      <th></th>\n",
       "      <th></th>\n",
       "      <th></th>\n",
       "      <th></th>\n",
       "      <th></th>\n",
       "      <th></th>\n",
       "      <th></th>\n",
       "      <th></th>\n",
       "      <th></th>\n",
       "      <th></th>\n",
       "    </tr>\n",
       "  </thead>\n",
       "  <tbody>\n",
       "    <tr>\n",
       "      <th>1234</th>\n",
       "      <td>0.0</td>\n",
       "      <td>0.0</td>\n",
       "      <td>0.0</td>\n",
       "      <td>0.0</td>\n",
       "      <td>0.0</td>\n",
       "      <td>0.0</td>\n",
       "      <td>0.0</td>\n",
       "      <td>0.0</td>\n",
       "      <td>0.0</td>\n",
       "      <td>0.0</td>\n",
       "      <td>...</td>\n",
       "      <td>0.0</td>\n",
       "      <td>0.0</td>\n",
       "      <td>0.0</td>\n",
       "      <td>0.0</td>\n",
       "      <td>0.0</td>\n",
       "      <td>0.0</td>\n",
       "      <td>0.0</td>\n",
       "      <td>0.0</td>\n",
       "      <td>0.0</td>\n",
       "      <td>0.0</td>\n",
       "    </tr>\n",
       "    <tr>\n",
       "      <th>1234567</th>\n",
       "      <td>0.0</td>\n",
       "      <td>0.0</td>\n",
       "      <td>0.0</td>\n",
       "      <td>0.0</td>\n",
       "      <td>0.0</td>\n",
       "      <td>0.0</td>\n",
       "      <td>0.0</td>\n",
       "      <td>0.0</td>\n",
       "      <td>0.0</td>\n",
       "      <td>0.0</td>\n",
       "      <td>...</td>\n",
       "      <td>0.0</td>\n",
       "      <td>0.0</td>\n",
       "      <td>0.0</td>\n",
       "      <td>0.0</td>\n",
       "      <td>0.0</td>\n",
       "      <td>0.0</td>\n",
       "      <td>0.0</td>\n",
       "      <td>0.0</td>\n",
       "      <td>0.0</td>\n",
       "      <td>0.0</td>\n",
       "    </tr>\n",
       "    <tr>\n",
       "      <th>1943</th>\n",
       "      <td>0.0</td>\n",
       "      <td>0.0</td>\n",
       "      <td>0.0</td>\n",
       "      <td>0.0</td>\n",
       "      <td>0.0</td>\n",
       "      <td>0.0</td>\n",
       "      <td>0.0</td>\n",
       "      <td>0.0</td>\n",
       "      <td>0.0</td>\n",
       "      <td>0.0</td>\n",
       "      <td>...</td>\n",
       "      <td>0.0</td>\n",
       "      <td>0.0</td>\n",
       "      <td>0.0</td>\n",
       "      <td>0.0</td>\n",
       "      <td>0.0</td>\n",
       "      <td>0.0</td>\n",
       "      <td>0.0</td>\n",
       "      <td>0.0</td>\n",
       "      <td>0.0</td>\n",
       "      <td>0.0</td>\n",
       "    </tr>\n",
       "    <tr>\n",
       "      <th>1witch</th>\n",
       "      <td>0.0</td>\n",
       "      <td>0.0</td>\n",
       "      <td>0.0</td>\n",
       "      <td>0.0</td>\n",
       "      <td>0.0</td>\n",
       "      <td>0.0</td>\n",
       "      <td>0.0</td>\n",
       "      <td>0.0</td>\n",
       "      <td>0.0</td>\n",
       "      <td>0.0</td>\n",
       "      <td>...</td>\n",
       "      <td>0.0</td>\n",
       "      <td>0.0</td>\n",
       "      <td>0.0</td>\n",
       "      <td>0.0</td>\n",
       "      <td>0.0</td>\n",
       "      <td>0.0</td>\n",
       "      <td>0.0</td>\n",
       "      <td>0.0</td>\n",
       "      <td>0.0</td>\n",
       "      <td>0.0</td>\n",
       "    </tr>\n",
       "    <tr>\n",
       "      <th>37f5p</th>\n",
       "      <td>0.0</td>\n",
       "      <td>0.0</td>\n",
       "      <td>0.0</td>\n",
       "      <td>0.0</td>\n",
       "      <td>0.0</td>\n",
       "      <td>0.0</td>\n",
       "      <td>0.0</td>\n",
       "      <td>0.0</td>\n",
       "      <td>0.0</td>\n",
       "      <td>0.0</td>\n",
       "      <td>...</td>\n",
       "      <td>0.0</td>\n",
       "      <td>0.0</td>\n",
       "      <td>0.0</td>\n",
       "      <td>0.0</td>\n",
       "      <td>0.0</td>\n",
       "      <td>0.0</td>\n",
       "      <td>0.0</td>\n",
       "      <td>0.0</td>\n",
       "      <td>0.0</td>\n",
       "      <td>0.0</td>\n",
       "    </tr>\n",
       "  </tbody>\n",
       "</table>\n",
       "<p>5 rows × 115 columns</p>\n",
       "</div>"
      ],
      "text/plain": [
       "id                AV16khLE-jtxr-f38VFn  AV1YGDqsGV-KLJ3adc-O  \\\n",
       "reviews_username                                               \n",
       "1234                               0.0                   0.0   \n",
       "1234567                            0.0                   0.0   \n",
       "1943                               0.0                   0.0   \n",
       "1witch                             0.0                   0.0   \n",
       "37f5p                              0.0                   0.0   \n",
       "\n",
       "id                AV1YlENIglJLPUi8IHsX  AV1YmDL9vKc47QAVgr7_  \\\n",
       "reviews_username                                               \n",
       "1234                               0.0                   0.0   \n",
       "1234567                            0.0                   0.0   \n",
       "1943                               0.0                   0.0   \n",
       "1witch                             0.0                   0.0   \n",
       "37f5p                              0.0                   0.0   \n",
       "\n",
       "id                AV1Ymf_rglJLPUi8II2v  AV1Yn94nvKc47QAVgtst  \\\n",
       "reviews_username                                               \n",
       "1234                               0.0                   0.0   \n",
       "1234567                            0.0                   0.0   \n",
       "1943                               0.0                   0.0   \n",
       "1witch                             0.0                   0.0   \n",
       "37f5p                              0.0                   0.0   \n",
       "\n",
       "id                AV1YneDPglJLPUi8IJyQ  AV1YqAaMGV-KLJ3adiDj  \\\n",
       "reviews_username                                               \n",
       "1234                               0.0                   0.0   \n",
       "1234567                            0.0                   0.0   \n",
       "1943                               0.0                   0.0   \n",
       "1witch                             0.0                   0.0   \n",
       "37f5p                              0.0                   0.0   \n",
       "\n",
       "id                AV1Ys0kTvKc47QAVgx1C  AV1YtGjdglJLPUi8IOfJ  ...  \\\n",
       "reviews_username                                              ...   \n",
       "1234                               0.0                   0.0  ...   \n",
       "1234567                            0.0                   0.0  ...   \n",
       "1943                               0.0                   0.0  ...   \n",
       "1witch                             0.0                   0.0  ...   \n",
       "37f5p                              0.0                   0.0  ...   \n",
       "\n",
       "id                AVpfm8yiLJeJML43AYyu  AVpfmjXGLJeJML43AQ5_  \\\n",
       "reviews_username                                               \n",
       "1234                               0.0                   0.0   \n",
       "1234567                            0.0                   0.0   \n",
       "1943                               0.0                   0.0   \n",
       "1witch                             0.0                   0.0   \n",
       "37f5p                              0.0                   0.0   \n",
       "\n",
       "id                AVpfoSS51cnluZ0-oVH9  AVpfov9TLJeJML43A7B0  \\\n",
       "reviews_username                                               \n",
       "1234                               0.0                   0.0   \n",
       "1234567                            0.0                   0.0   \n",
       "1943                               0.0                   0.0   \n",
       "1witch                             0.0                   0.0   \n",
       "37f5p                              0.0                   0.0   \n",
       "\n",
       "id                AVpfpM2yilAPnD_xfmDG  AVpfr5cb1cnluZ0-pZFp  \\\n",
       "reviews_username                                               \n",
       "1234                               0.0                   0.0   \n",
       "1234567                            0.0                   0.0   \n",
       "1943                               0.0                   0.0   \n",
       "1witch                             0.0                   0.0   \n",
       "37f5p                              0.0                   0.0   \n",
       "\n",
       "id                AVpfrFDZLJeJML43Bmv0  AVpftikC1cnluZ0-p31V  \\\n",
       "reviews_username                                               \n",
       "1234                               0.0                   0.0   \n",
       "1234567                            0.0                   0.0   \n",
       "1943                               0.0                   0.0   \n",
       "1witch                             0.0                   0.0   \n",
       "37f5p                              0.0                   0.0   \n",
       "\n",
       "id                AVpfv4TlilAPnD_xhjNS  AVpfvieo1cnluZ0-qdnu  \n",
       "reviews_username                                              \n",
       "1234                               0.0                   0.0  \n",
       "1234567                            0.0                   0.0  \n",
       "1943                               0.0                   0.0  \n",
       "1witch                             0.0                   0.0  \n",
       "37f5p                              0.0                   0.0  \n",
       "\n",
       "[5 rows x 115 columns]"
      ]
     },
     "execution_count": 106,
     "metadata": {},
     "output_type": "execute_result"
    }
   ],
   "source": [
    "common_user_predicted_ratings = np.multiply(common_user_predicted_ratings,dummy_test)\n",
    "common_user_predicted_ratings.head()"
   ]
  },
  {
   "cell_type": "code",
   "execution_count": 107,
   "id": "f4f671df",
   "metadata": {},
   "outputs": [
    {
     "name": "stdout",
     "output_type": "stream",
     "text": [
      "MinMaxScaler(feature_range=(1, 5))\n",
      "[[nan nan nan ... nan nan nan]\n",
      " [nan nan nan ... nan nan nan]\n",
      " [nan nan nan ... nan nan nan]\n",
      " ...\n",
      " [nan nan nan ... nan nan nan]\n",
      " [nan nan nan ... nan nan nan]\n",
      " [nan nan nan ... nan nan nan]]\n"
     ]
    },
    {
     "name": "stderr",
     "output_type": "stream",
     "text": [
      "C:\\ProgramData\\Anaconda3\\lib\\site-packages\\sklearn\\preprocessing\\_data.py:464: RuntimeWarning: All-NaN slice encountered\n",
      "  data_min = np.nanmin(X, axis=0)\n",
      "C:\\ProgramData\\Anaconda3\\lib\\site-packages\\sklearn\\preprocessing\\_data.py:465: RuntimeWarning: All-NaN slice encountered\n",
      "  data_max = np.nanmax(X, axis=0)\n"
     ]
    }
   ],
   "source": [
    "#calculate RMSE\n",
    "X  = common_user_predicted_ratings.copy() \n",
    "X = X[X>0]\n",
    "\n",
    "scaler = MinMaxScaler(feature_range=(1, 5))\n",
    "print(scaler.fit(X))\n",
    "y = (scaler.transform(X))\n",
    "\n",
    "print(y)"
   ]
  },
  {
   "cell_type": "code",
   "execution_count": 108,
   "id": "f376bcf9",
   "metadata": {},
   "outputs": [],
   "source": [
    "common_ = common.pivot_table(index=\"reviews_username\", columns = \"id\", values = \"reviews_rating\")"
   ]
  },
  {
   "cell_type": "code",
   "execution_count": 117,
   "id": "3b14a9ae",
   "metadata": {},
   "outputs": [
    {
     "data": {
      "text/plain": [
       "array([[nan, nan, nan, ..., nan, nan, nan],\n",
       "       [nan, nan, nan, ..., nan, nan, nan],\n",
       "       [nan, nan, nan, ..., nan, nan, nan],\n",
       "       ...,\n",
       "       [nan, nan, nan, ..., nan, nan, nan],\n",
       "       [nan, nan, nan, ..., nan, nan, nan],\n",
       "       [nan, nan, nan, ..., nan, nan, nan]])"
      ]
     },
     "execution_count": 117,
     "metadata": {},
     "output_type": "execute_result"
    }
   ],
   "source": [
    "y"
   ]
  },
  {
   "cell_type": "code",
   "execution_count": 115,
   "id": "73ffa893",
   "metadata": {},
   "outputs": [
    {
     "name": "stdout",
     "output_type": "stream",
     "text": [
      "nan\n"
     ]
    }
   ],
   "source": [
    "# Finding total non-NaN value\n",
    "total_non_nan = np.count_nonzero(~np.isnan(y))\n",
    "rmse = (sum(sum((common_.values - y )**2))/total_non_nan)**0.5\n",
    "print(rmse)"
   ]
  },
  {
   "cell_type": "markdown",
   "id": "d08ac41d",
   "metadata": {},
   "source": [
    "### Item-Item Based Approach"
   ]
  },
  {
   "cell_type": "code",
   "execution_count": null,
   "id": "7947f564",
   "metadata": {},
   "outputs": [],
   "source": [
    "df_pivot = train.pivot_table(index=\"reviews_username\", columns = \"id\", values = \"reviews_rating\").T\n",
    "df_pivot.head()"
   ]
  },
  {
   "cell_type": "code",
   "execution_count": null,
   "id": "0406d205",
   "metadata": {},
   "outputs": [],
   "source": [
    "# Normalising the product rating for each product for using the Adujsted Cosine\n",
    "mean = np.nanmean(df_pivot, axis=1)\n",
    "df_subtracted = (df_pivot.T-mean).T\n",
    "df_subtracted.head()"
   ]
  },
  {
   "cell_type": "code",
   "execution_count": null,
   "id": "82c6408b",
   "metadata": {},
   "outputs": [],
   "source": [
    "# Item Similarity Matrix\n",
    "item_correlation = 1 - pairwise_distances(df_subtracted.fillna(0), metric='cosine')\n",
    "item_correlation[np.isnan(item_correlation)] = 0\n",
    "print(item_correlation)"
   ]
  },
  {
   "cell_type": "code",
   "execution_count": null,
   "id": "d8e03cdf",
   "metadata": {},
   "outputs": [],
   "source": [
    "item_correlation[item_correlation<0]=0\n",
    "item_correlation"
   ]
  },
  {
   "cell_type": "markdown",
   "id": "b29ccc89",
   "metadata": {},
   "source": [
    "#### Prediction"
   ]
  },
  {
   "cell_type": "code",
   "execution_count": null,
   "id": "eb9a33cb",
   "metadata": {},
   "outputs": [],
   "source": [
    "item_predicted_ratings = np.dot((df_pivot.fillna(0).T),item_correlation)\n",
    "print(item_predicted_ratings.shape)\n",
    "item_predicted_ratings"
   ]
  },
  {
   "cell_type": "code",
   "execution_count": null,
   "id": "926b2fa8",
   "metadata": {},
   "outputs": [],
   "source": [
    "# Filtering the rating only for the product not rated by the user for recommendation\n",
    "item_final_rating = np.multiply(item_predicted_ratings,dummy_train)\n",
    "item_final_rating.head()"
   ]
  },
  {
   "cell_type": "code",
   "execution_count": null,
   "id": "289def8f",
   "metadata": {},
   "outputs": [],
   "source": [
    "# Take the user ID as input\n",
    "user_input = input(\"Enter your user name \")\n",
    "print(user_input)"
   ]
  },
  {
   "cell_type": "code",
   "execution_count": null,
   "id": "c385e17f",
   "metadata": {},
   "outputs": [],
   "source": [
    "# Recommending the Top 5 products to the user.\n",
    "rec = item_final_rating.loc[user_input].sort_values(ascending=False)[0:20]\n",
    "rec"
   ]
  },
  {
   "cell_type": "code",
   "execution_count": null,
   "id": "ef131ee6",
   "metadata": {},
   "outputs": [],
   "source": [
    "#display the top 20 product id, name and similarity_score\n",
    "dfrec=pd.DataFrame(rec).reset_index()\n",
    "dfrec.columns=['id','similarity_score']\n",
    "#final_recommendations = pd.DataFrame({'product_id': recommendations.index, 'similarity_score' : recommendations})\n",
    "#final_recommendations.reset_index(drop=True)\n",
    "pd.merge(dfrec, train, on=\"id\")[[\"id\", \"name\", \"similarity_score\"]].drop_duplicates()"
   ]
  },
  {
   "cell_type": "markdown",
   "id": "62e2b0d8",
   "metadata": {},
   "source": [
    "#### Evaluation"
   ]
  },
  {
   "cell_type": "code",
   "execution_count": null,
   "id": "57d641f1",
   "metadata": {},
   "outputs": [],
   "source": [
    "common =  test[test.id.isin(train.id)]\n",
    "print(common.shape)\n",
    "common.head()"
   ]
  },
  {
   "cell_type": "code",
   "execution_count": null,
   "id": "55c54363",
   "metadata": {},
   "outputs": [],
   "source": [
    "common_item_based_matrix = common.pivot_table(index=\"id\", columns=\"reviews_username\", values=\"reviews_rating\")\n",
    "common_item_based_matrix"
   ]
  },
  {
   "cell_type": "code",
   "execution_count": null,
   "id": "644da469",
   "metadata": {},
   "outputs": [],
   "source": [
    "item_correlation_df = pd.DataFrame(item_correlation)\n",
    "item_correlation_df.head()"
   ]
  },
  {
   "cell_type": "code",
   "execution_count": null,
   "id": "e914935f",
   "metadata": {},
   "outputs": [],
   "source": [
    "item_correlation_df[\"id\"] = df_subtracted.index\n",
    "item_correlation_df.set_index(\"id\",inplace=True)\n",
    "item_correlation_df.head()"
   ]
  },
  {
   "cell_type": "code",
   "execution_count": null,
   "id": "eeb50d99",
   "metadata": {},
   "outputs": [],
   "source": [
    "list_name = common.id.tolist()\n",
    "item_correlation_df.columns = df_subtracted.index.tolist()\n",
    "item_correlation_df_1 =  item_correlation_df[item_correlation_df.index.isin(list_name)]\n",
    "item_correlation_df_2 = item_correlation_df_1.T[item_correlation_df_1.T.index.isin(list_name)]\n",
    "item_correlation_df_3 = item_correlation_df_2.T\n",
    "item_correlation_df_3.head()"
   ]
  },
  {
   "cell_type": "code",
   "execution_count": null,
   "id": "e9717264",
   "metadata": {},
   "outputs": [],
   "source": [
    "item_correlation_df_3[item_correlation_df_3<0]=0\n",
    "\n",
    "common_item_predicted_ratings = np.dot(item_correlation_df_3, common_item_based_matrix.fillna(0))\n",
    "common_item_predicted_ratings"
   ]
  },
  {
   "cell_type": "code",
   "execution_count": null,
   "id": "eb0f2d28",
   "metadata": {},
   "outputs": [],
   "source": [
    "# make prediction on the products rated by the user.\n",
    "dummy_test = common.copy()\n",
    "dummy_test[\"reviews_rating\"] = dummy_test[\"reviews_rating\"].apply(lambda x: 1 if x>=1 else 0)\n",
    "dummy_test = dummy_test.pivot_table(index=\"id\", columns=\"reviews_username\", values=\"reviews_rating\").fillna(0)\n",
    "common_item_predicted_ratings = np.multiply(common_item_predicted_ratings,dummy_test)"
   ]
  },
  {
   "cell_type": "code",
   "execution_count": null,
   "id": "7415f6a9",
   "metadata": {},
   "outputs": [],
   "source": [
    "common_ = common.pivot_table(index=\"id\", columns=\"reviews_username\", values=\"reviews_rating\")"
   ]
  },
  {
   "cell_type": "code",
   "execution_count": null,
   "id": "17f0c58b",
   "metadata": {},
   "outputs": [],
   "source": [
    "# calculate rmse\n",
    "X  = common_item_predicted_ratings.copy() \n",
    "X = X[X>0]\n",
    "\n",
    "scaler = MinMaxScaler(feature_range=(1, 5))\n",
    "print(scaler.fit(X))\n",
    "y = (scaler.transform(X))\n",
    "\n",
    "print(y)"
   ]
  },
  {
   "cell_type": "code",
   "execution_count": null,
   "id": "6fcadf49",
   "metadata": {},
   "outputs": [],
   "source": [
    "# Finding total non-NaN value\n",
    "total_non_nan = np.count_nonzero(~np.isnan(y))\n",
    "rmse = (sum(sum((common_ - y )**2))/total_non_nan)**0.5\n",
    "print(rmse)"
   ]
  },
  {
   "cell_type": "markdown",
   "id": "413f1fce",
   "metadata": {},
   "source": [
    "User based recommendation model seems to be better as it has a lower RMSE value"
   ]
  },
  {
   "cell_type": "code",
   "execution_count": null,
   "id": "f0c7fae8",
   "metadata": {},
   "outputs": [],
   "source": [
    "# Save the user based correlation matrix \n",
    "with open('models/user_final_rating.pk', 'wb') as fin:\n",
    "    pickle.dump(user_final_rating, fin)"
   ]
  },
  {
   "cell_type": "markdown",
   "id": "a8ab8f93",
   "metadata": {},
   "source": [
    "### Improving the recommendations using the sentiment analysis model"
   ]
  },
  {
   "cell_type": "code",
   "execution_count": null,
   "id": "8165d789",
   "metadata": {},
   "outputs": [],
   "source": [
    "dfreviews.head()"
   ]
  },
  {
   "cell_type": "code",
   "execution_count": null,
   "id": "ab2e36ed",
   "metadata": {},
   "outputs": [],
   "source": [
    "username=user_input\n",
    "username"
   ]
  },
  {
   "cell_type": "code",
   "execution_count": null,
   "id": "57aa5fc4",
   "metadata": {},
   "outputs": [],
   "source": [
    "def get_top5(username):\n",
    "    if username in user_final_rating.index:\n",
    "        recommendations=list(user_final_rating.loc[username].sort_values(ascending=False)[0:20].index)\n",
    "        dfTemp=dfSentiment[dfSentiment.id.isin(recommendations)]\n",
    "        X=tfidf.transform(dfTemp[\"reviews_processed\"])\n",
    "        dfTemp['user_sentiment_pred']=rfc.predict(X)\n",
    "        dfTempG=dfTemp.groupby(['id','name']).agg({'user_sentiment_pred':['count','sum']})\n",
    "        dfTempG.columns=['total_count','pos_count']\n",
    "        dfTempG.reset_index(inplace=True)\n",
    "        dfTempG['pos_per']=dfTempG['pos_count']/dfTempG['total_count']\n",
    "        print(dfTempG.sort_values('pos_per',ascending=False)[:5])\n",
    "        top5_list=dfTempG.sort_values('pos_per',ascending=False)[:5].name.tolist()\n",
    "        return top5_list\n",
    "    else:\n",
    "        print('User not found!!!')"
   ]
  },
  {
   "cell_type": "code",
   "execution_count": null,
   "id": "536ee48f",
   "metadata": {},
   "outputs": [],
   "source": [
    "get_top5(username)"
   ]
  },
  {
   "cell_type": "code",
   "execution_count": null,
   "id": "a7eb05e3",
   "metadata": {},
   "outputs": [],
   "source": [
    "get_top5('deepak')"
   ]
  }
 ],
 "metadata": {
  "kernelspec": {
   "display_name": "Python 3 (ipykernel)",
   "language": "python",
   "name": "python3"
  },
  "language_info": {
   "codemirror_mode": {
    "name": "ipython",
    "version": 3
   },
   "file_extension": ".py",
   "mimetype": "text/x-python",
   "name": "python",
   "nbconvert_exporter": "python",
   "pygments_lexer": "ipython3",
   "version": "3.9.7"
  }
 },
 "nbformat": 4,
 "nbformat_minor": 5
}
